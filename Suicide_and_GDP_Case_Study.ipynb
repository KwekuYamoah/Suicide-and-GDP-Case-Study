{
  "nbformat": 4,
  "nbformat_minor": 0,
  "metadata": {
    "colab": {
      "name": "Suicide and GDP Case Study.ipynb",
      "provenance": [],
      "authorship_tag": "ABX9TyNX7BH67BVRD95Cm3A8Zmix",
      "include_colab_link": true
    },
    "kernelspec": {
      "name": "python3",
      "display_name": "Python 3"
    }
  },
  "cells": [
    {
      "cell_type": "markdown",
      "metadata": {
        "id": "view-in-github",
        "colab_type": "text"
      },
      "source": [
        "<a href=\"https://colab.research.google.com/github/KwekuYamoah/Suicide-and-GDP-Case-Study/blob/main/Suicide_and_GDP_Case_Study.ipynb\" target=\"_parent\"><img src=\"https://colab.research.google.com/assets/colab-badge.svg\" alt=\"Open In Colab\"/></a>"
      ]
    },
    {
      "cell_type": "markdown",
      "metadata": {
        "id": "y30cL-92K_8q"
      },
      "source": [
        "# Suicide and GDP Case Study\n",
        "\n",
        "Kweku Andoh Yamoah\n",
        "\n",
        "[MIT License]((https://en.wikipedia.org/wiki/MIT_License)"
      ]
    },
    {
      "cell_type": "markdown",
      "metadata": {
        "id": "uJwmU-iuLZre"
      },
      "source": [
        "## Introduction\n",
        "This is the first in a series of notebooks that make up a case study in exploratory data analysis. In this notebook, we\n",
        "\n",
        "1.   Read data Kaggle. [Suicide Rates Overview 1985 to 2016](https://www.kaggle.com/russellyates88/suicide-rates-overview-1985-to-2016). The dataset is described as follows:\n",
        "\"*This compiled dataset pulled from four other datasets linked by time and place, and was built to find signals correlated to increased suicide rates among different cohorts globally, across the socio-economic spectrum.*\"\n",
        "2.   Clean the data, particulary dealing with special codes that indicate missing data.\n",
        "1.   Validate the data by comparing the values in the dataset with values documented in the codebook specified on Kaggle.\n",
        "2.   Use describe to compute summary statistics and Pmf or Cdf to plot didtribution\n",
        "1.   Generate \"resampled\" datasets to ensure efficient randomisation in the dataset\n",
        "2.   Store the resampled data in a binary format (HDF5) that makes it easier to work with in the notebooks that follow this one.\n",
        "\n",
        "\n",
        "\n",
        "\n",
        "\n"
      ]
    },
    {
      "cell_type": "markdown",
      "metadata": {
        "id": "vUQv1LWNPSqZ"
      },
      "source": [
        "## The Data\n",
        "\n",
        "### General Informaation\n",
        "\n",
        "*   **Original format**: csv\n",
        "*   **Dataset shape**: 27820 x 12 (rows x columns)\n",
        "*   19456 missing values for HDI\n",
        "\n",
        "### Features in the dataset\n",
        "#### <u>Categorical features</u>\n",
        "**Country**: A total of 101 countries are included in this dataset. Most countries in Asia are not included and considering we have 195 countries in the world today, this is a quite biased data for worldwide analysis.<br>\n",
        "**Year**: The dataset goes from 1985 to 2016<br>\n",
        "**Sex**: Male/female differentiation<br>\n",
        "**Age**: Age is divided in five age intervals.<br>\n",
        "**Generation**: There are six generations included in this dataset. See 3.6 for details.\n",
        "<br>\n",
        "<blockquote>\n",
        "    <p><font color=\"darkblue\">This data's level of detail is defined by the combination of <b>Country+Year+Sex+Age</b>, which is a subsample of the population (e.g. Brazillian males of age between 15 and 25 in 1996). <br>For each of those we have corresponding numerical features.</font></p>\n",
        "</blockquote>\n",
        "\n",
        "#### <u>Numerical Features</u>\n",
        "**Population size**: Number of people contained in each subsample\n",
        "<br>**Number of Suicides**: Number of suicides in each subsample\n",
        "<br>**Suicides per 100k people**: Number of suicides divided by the population size and multiplied by 100.000. This scales the number for better interpretation and allows you to make comparison between different subsamples.\n",
        "<br>**GDP for year**: *Gross Domestic Product*, a measure of the market value for a country-year combination.\n",
        "<br>**GDP per capita**: Obtained by dividing the GDP by the total population of the country for that year.\n",
        "<br>**HDI for year** : *Human Development Index*, an index that measures life expectancy, income and education.\n",
        "<br>"
      ]
    },
    {
      "cell_type": "markdown",
      "metadata": {
        "id": "3JitBIyWS2yN"
      },
      "source": [
        "The following cell loads the packages we need.  If everything works, there should be no error messages. Fingers crossed :)"
      ]
    },
    {
      "cell_type": "code",
      "metadata": {
        "id": "O-i6x6jaK9qY"
      },
      "source": [
        "import pandas as pd\n",
        "import numpy as np\n",
        "import matplotlib.pyplot as plt\n",
        "import seaborn as sns\n",
        "\n",
        "sns.set_style('whitegrid')"
      ],
      "execution_count": 1,
      "outputs": []
    },
    {
      "cell_type": "markdown",
      "metadata": {
        "id": "m79moa8qUAO_"
      },
      "source": [
        "## Reading the Data\n",
        "The data we'll use is from Kaggle. I'll keep the original dataset as it is and create a new one to process the data throughout this analysis."
      ]
    },
    {
      "cell_type": "code",
      "metadata": {
        "id": "pYfmOYhlWyvn",
        "outputId": "f6018198-b20f-46e5-afd3-52efb31facac",
        "colab": {
          "base_uri": "https://localhost:8080/",
          "height": 195
        }
      },
      "source": [
        " #Load the data file\n",
        "\n",
        "import os\n",
        "\n",
        "if not os.path.exists('master.csv'):\n",
        "    !wget https://raw.githubusercontent.com/KwekuYamoah/Suicide-and-GDP-Case-Study/main/master.csv\n"
      ],
      "execution_count": 18,
      "outputs": [
        {
          "output_type": "execute_result",
          "data": {
            "text/html": [
              "<div>\n",
              "<style scoped>\n",
              "    .dataframe tbody tr th:only-of-type {\n",
              "        vertical-align: middle;\n",
              "    }\n",
              "\n",
              "    .dataframe tbody tr th {\n",
              "        vertical-align: top;\n",
              "    }\n",
              "\n",
              "    .dataframe thead th {\n",
              "        text-align: right;\n",
              "    }\n",
              "</style>\n",
              "<table border=\"1\" class=\"dataframe\">\n",
              "  <thead>\n",
              "    <tr style=\"text-align: right;\">\n",
              "      <th></th>\n",
              "      <th>country</th>\n",
              "      <th>year</th>\n",
              "      <th>sex</th>\n",
              "      <th>age</th>\n",
              "      <th>suicides_no</th>\n",
              "      <th>population</th>\n",
              "      <th>suicides/100k pop</th>\n",
              "      <th>country-year</th>\n",
              "      <th>HDI for year</th>\n",
              "      <th>gdp_for_year ($)</th>\n",
              "      <th>gdp_per_capita ($)</th>\n",
              "      <th>generation</th>\n",
              "    </tr>\n",
              "  </thead>\n",
              "  <tbody>\n",
              "    <tr>\n",
              "      <th>0</th>\n",
              "      <td>Albania</td>\n",
              "      <td>1987</td>\n",
              "      <td>male</td>\n",
              "      <td>15-24 years</td>\n",
              "      <td>21</td>\n",
              "      <td>312900</td>\n",
              "      <td>6.71</td>\n",
              "      <td>Albania1987</td>\n",
              "      <td>NaN</td>\n",
              "      <td>2,156,624,900</td>\n",
              "      <td>796</td>\n",
              "      <td>Generation X</td>\n",
              "    </tr>\n",
              "    <tr>\n",
              "      <th>1</th>\n",
              "      <td>Albania</td>\n",
              "      <td>1987</td>\n",
              "      <td>male</td>\n",
              "      <td>35-54 years</td>\n",
              "      <td>16</td>\n",
              "      <td>308000</td>\n",
              "      <td>5.19</td>\n",
              "      <td>Albania1987</td>\n",
              "      <td>NaN</td>\n",
              "      <td>2,156,624,900</td>\n",
              "      <td>796</td>\n",
              "      <td>Silent</td>\n",
              "    </tr>\n",
              "    <tr>\n",
              "      <th>2</th>\n",
              "      <td>Albania</td>\n",
              "      <td>1987</td>\n",
              "      <td>female</td>\n",
              "      <td>15-24 years</td>\n",
              "      <td>14</td>\n",
              "      <td>289700</td>\n",
              "      <td>4.83</td>\n",
              "      <td>Albania1987</td>\n",
              "      <td>NaN</td>\n",
              "      <td>2,156,624,900</td>\n",
              "      <td>796</td>\n",
              "      <td>Generation X</td>\n",
              "    </tr>\n",
              "    <tr>\n",
              "      <th>3</th>\n",
              "      <td>Albania</td>\n",
              "      <td>1987</td>\n",
              "      <td>male</td>\n",
              "      <td>75+ years</td>\n",
              "      <td>1</td>\n",
              "      <td>21800</td>\n",
              "      <td>4.59</td>\n",
              "      <td>Albania1987</td>\n",
              "      <td>NaN</td>\n",
              "      <td>2,156,624,900</td>\n",
              "      <td>796</td>\n",
              "      <td>G.I. Generation</td>\n",
              "    </tr>\n",
              "    <tr>\n",
              "      <th>4</th>\n",
              "      <td>Albania</td>\n",
              "      <td>1987</td>\n",
              "      <td>male</td>\n",
              "      <td>25-34 years</td>\n",
              "      <td>9</td>\n",
              "      <td>274300</td>\n",
              "      <td>3.28</td>\n",
              "      <td>Albania1987</td>\n",
              "      <td>NaN</td>\n",
              "      <td>2,156,624,900</td>\n",
              "      <td>796</td>\n",
              "      <td>Boomers</td>\n",
              "    </tr>\n",
              "  </tbody>\n",
              "</table>\n",
              "</div>"
            ],
            "text/plain": [
              "   country  year  ... gdp_per_capita ($)       generation\n",
              "0  Albania  1987  ...                796     Generation X\n",
              "1  Albania  1987  ...                796           Silent\n",
              "2  Albania  1987  ...                796     Generation X\n",
              "3  Albania  1987  ...                796  G.I. Generation\n",
              "4  Albania  1987  ...                796          Boomers\n",
              "\n",
              "[5 rows x 12 columns]"
            ]
          },
          "metadata": {
            "tags": []
          },
          "execution_count": 18
        }
      ]
    }
  ]
}