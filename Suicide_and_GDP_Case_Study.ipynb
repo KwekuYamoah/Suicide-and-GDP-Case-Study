{
  "nbformat": 4,
  "nbformat_minor": 0,
  "metadata": {
    "colab": {
      "name": "Suicide and GDP Case Study.ipynb",
      "provenance": [],
      "collapsed_sections": [
        "vUQv1LWNPSqZ"
      ],
      "include_colab_link": true
    },
    "kernelspec": {
      "display_name": "Python 3",
      "name": "python3"
    }
  },
  "cells": [
    {
      "cell_type": "markdown",
      "metadata": {
        "id": "view-in-github",
        "colab_type": "text"
      },
      "source": [
        "<a href=\"https://colab.research.google.com/github/KwekuYamoah/Suicide-and-GDP-Case-Study/blob/main/Suicide_and_GDP_Case_Study.ipynb\" target=\"_parent\"><img src=\"https://colab.research.google.com/assets/colab-badge.svg\" alt=\"Open In Colab\"/></a>"
      ]
    },
    {
      "cell_type": "markdown",
      "metadata": {
        "id": "y30cL-92K_8q"
      },
      "source": [
        "# Suicide and GDP Case Study\n",
        "\n",
        "Kweku Andoh Yamoah and Jesse Jackson Zigi\n",
        "\n",
        "[MIT License]((https://en.wikipedia.org/wiki/MIT_License)"
      ]
    },
    {
      "cell_type": "markdown",
      "metadata": {
        "id": "uJwmU-iuLZre"
      },
      "source": [
        "## Introduction\n",
        "This is the first in a series of notebooks that make up a case study in exploratory data analysis. In this notebook, we\n",
        "\n",
        "1.   Read data Kaggle. [Suicide Rates Overview 1985 to 2016](https://www.kaggle.com/russellyates88/suicide-rates-overview-1985-to-2016). The dataset is described as follows:\n",
        "\"*This compiled dataset pulled from four other datasets linked by time and place, and was built to find signals correlated to increased suicide rates among different cohorts globally, across the socio-economic spectrum.*\"\n",
        "2.   Clean the data, particulary dealing with special codes that indicate missing data.\n",
        "1.   Validate the data by comparing the values in the dataset with values documented in the codebook specified on Kaggle.\n",
        "2.   Use describe to compute summary statistics and  CDF to plot didtribution\n",
        "\n",
        "\n",
        "\n",
        "\n"
      ]
    },
    {
      "cell_type": "markdown",
      "metadata": {
        "id": "vUQv1LWNPSqZ"
      },
      "source": [
        "## The Data\n",
        "\n",
        "### General Informaation\n",
        "\n",
        "*   **Original format**: csv\n",
        "*   **Dataset shape**: 27820 x 12 (rows x columns)\n",
        "*   19456 missing values for HDI\n",
        "\n",
        "### Features in the dataset\n",
        "#### <u>Categorical features</u>\n",
        "**Country**: A total of 101 countries are included in this dataset. Most countries in Asia are not included and considering we have 195 countries in the world today, this is a quite biased data for worldwide analysis.<br>\n",
        "**Year**: The dataset goes from 1985 to 2016<br>\n",
        "**Sex**: Male/female differentiation<br>\n",
        "**Age**: Age is divided in five age intervals.<br>\n",
        "**Generation**: There are six generations included in this dataset. See 3.6 for details.\n",
        "<br>\n",
        "<blockquote>\n",
        "    <p><font color=\"darkblue\">This data's level of detail is defined by the combination of <b>Country+Year+Sex+Age</b>, which is a subsample of the population (e.g. Brazillian males of age between 15 and 25 in 1996). <br>For each of those we have corresponding numerical features.</font></p>\n",
        "</blockquote>\n",
        "\n",
        "#### <u>Numerical Features</u>\n",
        "**Population size**: Number of people contained in each subsample\n",
        "<br>**Number of Suicides**: Number of suicides in each subsample\n",
        "<br>**Suicides per 100k people**: Number of suicides divided by the population size and multiplied by 100.000. This scales the number for better interpretation and allows you to make comparison between different subsamples.\n",
        "<br>**GDP for year**: *Gross Domestic Product*, a measure of the market value for a country-year combination.\n",
        "<br>**GDP per capita**: Obtained by dividing the GDP by the total population of the country for that year.\n",
        "<br>**HDI for year** : *Human Development Index*, an index that measures life expectancy, income and education.\n",
        "<br>"
      ]
    },
    {
      "cell_type": "markdown",
      "metadata": {
        "id": "xZ8lhPLEfpxj"
      },
      "source": [
        "### Setup\n",
        "\n",
        "If you are running this notebook in Colab, the following cell downloads the `empiricaldist` library.\n",
        "\n",
        "If you are running in another environment, you will need to install it yourself."
      ]
    },
    {
      "cell_type": "code",
      "metadata": {
        "colab": {
          "base_uri": "https://localhost:8080/"
        },
        "id": "Ii9VsOEffyqg",
        "outputId": "4bc106ca-cee7-47b9-ec92-0b63c0493078"
      },
      "source": [
        "# If we're running in Colab, set up the environment\n",
        "\n",
        "import sys\n",
        "IN_COLAB = 'google.colab' in sys.modules\n",
        "\n",
        "if IN_COLAB:\n",
        "    !pip install empiricaldist"
      ],
      "execution_count": 61,
      "outputs": [
        {
          "output_type": "stream",
          "text": [
            "Requirement already satisfied: empiricaldist in /usr/local/lib/python3.6/dist-packages (0.3.10)\n"
          ],
          "name": "stdout"
        }
      ]
    },
    {
      "cell_type": "markdown",
      "metadata": {
        "id": "3JitBIyWS2yN"
      },
      "source": [
        "The following cell loads the packages we need.  If everything works, there should be no error messages. Fingers crossed :)"
      ]
    },
    {
      "cell_type": "code",
      "metadata": {
        "id": "O-i6x6jaK9qY"
      },
      "source": [
        "import pandas as pd\n",
        "import numpy as np\n",
        "import matplotlib.pyplot as plt\n",
        "import seaborn as sns\n",
        "\n",
        "from empiricaldist import Pmf\n",
        "from empiricaldist import Cdf"
      ],
      "execution_count": 62,
      "outputs": []
    },
    {
      "cell_type": "markdown",
      "metadata": {
        "id": "y7TodYDLf67F"
      },
      "source": [
        "The following cell defines a function I use to decorate the axes in plots."
      ]
    },
    {
      "cell_type": "code",
      "metadata": {
        "id": "gkkpAF63f76U"
      },
      "source": [
        "def decorate(**options):\n",
        "    \"\"\"Decorate the current axes.\n",
        "    Call decorate with keyword arguments like\n",
        "    decorate(title='Title',\n",
        "             xlabel='x',\n",
        "             ylabel='y')\n",
        "    The keyword arguments can be any of the axis properties\n",
        "    https://matplotlib.org/api/axes_api.html\n",
        "    \"\"\"\n",
        "    plt.gca().set(**options)\n",
        "    plt.tight_layout()"
      ],
      "execution_count": 63,
      "outputs": []
    },
    {
      "cell_type": "markdown",
      "metadata": {
        "id": "m79moa8qUAO_"
      },
      "source": [
        "## Reading the Data\n",
        "The data we'll use is from Kaggle. I'll keep the original dataset as it is and create a new one to process the data throughout this analysis."
      ]
    },
    {
      "cell_type": "code",
      "metadata": {
        "id": "pYfmOYhlWyvn"
      },
      "source": [
        " #Load the data file\n",
        "\n",
        "import os\n",
        "\n",
        "if not os.path.exists('master.csv'):\n",
        "    !wget https://raw.githubusercontent.com/KwekuYamoah/Suicide-and-GDP-Case-Study/main/master.csv\n"
      ],
      "execution_count": 122,
      "outputs": []
    },
    {
      "cell_type": "markdown",
      "metadata": {
        "id": "P3c9S0Y4ga1L"
      },
      "source": [
        "Now we can now read the file using Pandas. Pandas will read our information and store the results in a dataframe. We will view a few elements in the dataset to get a sense of the data"
      ]
    },
    {
      "cell_type": "code",
      "metadata": {
        "colab": {
          "base_uri": "https://localhost:8080/",
          "height": 195
        },
        "id": "comLTvFjgvch",
        "outputId": "9d3a7125-4977-44ea-9b44-d272d6a98775"
      },
      "source": [
        "original_dataset = pd.read_csv(\"master.csv\")\n",
        "original_dataset.head()"
      ],
      "execution_count": 123,
      "outputs": [
        {
          "output_type": "execute_result",
          "data": {
            "text/html": [
              "<div>\n",
              "<style scoped>\n",
              "    .dataframe tbody tr th:only-of-type {\n",
              "        vertical-align: middle;\n",
              "    }\n",
              "\n",
              "    .dataframe tbody tr th {\n",
              "        vertical-align: top;\n",
              "    }\n",
              "\n",
              "    .dataframe thead th {\n",
              "        text-align: right;\n",
              "    }\n",
              "</style>\n",
              "<table border=\"1\" class=\"dataframe\">\n",
              "  <thead>\n",
              "    <tr style=\"text-align: right;\">\n",
              "      <th></th>\n",
              "      <th>country</th>\n",
              "      <th>year</th>\n",
              "      <th>sex</th>\n",
              "      <th>age</th>\n",
              "      <th>suicides_no</th>\n",
              "      <th>population</th>\n",
              "      <th>suicides/100k pop</th>\n",
              "      <th>country-year</th>\n",
              "      <th>HDI for year</th>\n",
              "      <th>gdp_for_year ($)</th>\n",
              "      <th>gdp_per_capita ($)</th>\n",
              "      <th>generation</th>\n",
              "    </tr>\n",
              "  </thead>\n",
              "  <tbody>\n",
              "    <tr>\n",
              "      <th>0</th>\n",
              "      <td>Albania</td>\n",
              "      <td>1987</td>\n",
              "      <td>male</td>\n",
              "      <td>15-24 years</td>\n",
              "      <td>21</td>\n",
              "      <td>312900</td>\n",
              "      <td>6.71</td>\n",
              "      <td>Albania1987</td>\n",
              "      <td>NaN</td>\n",
              "      <td>2,156,624,900</td>\n",
              "      <td>796</td>\n",
              "      <td>Generation X</td>\n",
              "    </tr>\n",
              "    <tr>\n",
              "      <th>1</th>\n",
              "      <td>Albania</td>\n",
              "      <td>1987</td>\n",
              "      <td>male</td>\n",
              "      <td>35-54 years</td>\n",
              "      <td>16</td>\n",
              "      <td>308000</td>\n",
              "      <td>5.19</td>\n",
              "      <td>Albania1987</td>\n",
              "      <td>NaN</td>\n",
              "      <td>2,156,624,900</td>\n",
              "      <td>796</td>\n",
              "      <td>Silent</td>\n",
              "    </tr>\n",
              "    <tr>\n",
              "      <th>2</th>\n",
              "      <td>Albania</td>\n",
              "      <td>1987</td>\n",
              "      <td>female</td>\n",
              "      <td>15-24 years</td>\n",
              "      <td>14</td>\n",
              "      <td>289700</td>\n",
              "      <td>4.83</td>\n",
              "      <td>Albania1987</td>\n",
              "      <td>NaN</td>\n",
              "      <td>2,156,624,900</td>\n",
              "      <td>796</td>\n",
              "      <td>Generation X</td>\n",
              "    </tr>\n",
              "    <tr>\n",
              "      <th>3</th>\n",
              "      <td>Albania</td>\n",
              "      <td>1987</td>\n",
              "      <td>male</td>\n",
              "      <td>75+ years</td>\n",
              "      <td>1</td>\n",
              "      <td>21800</td>\n",
              "      <td>4.59</td>\n",
              "      <td>Albania1987</td>\n",
              "      <td>NaN</td>\n",
              "      <td>2,156,624,900</td>\n",
              "      <td>796</td>\n",
              "      <td>G.I. Generation</td>\n",
              "    </tr>\n",
              "    <tr>\n",
              "      <th>4</th>\n",
              "      <td>Albania</td>\n",
              "      <td>1987</td>\n",
              "      <td>male</td>\n",
              "      <td>25-34 years</td>\n",
              "      <td>9</td>\n",
              "      <td>274300</td>\n",
              "      <td>3.28</td>\n",
              "      <td>Albania1987</td>\n",
              "      <td>NaN</td>\n",
              "      <td>2,156,624,900</td>\n",
              "      <td>796</td>\n",
              "      <td>Boomers</td>\n",
              "    </tr>\n",
              "  </tbody>\n",
              "</table>\n",
              "</div>"
            ],
            "text/plain": [
              "   country  year  ... gdp_per_capita ($)       generation\n",
              "0  Albania  1987  ...                796     Generation X\n",
              "1  Albania  1987  ...                796           Silent\n",
              "2  Albania  1987  ...                796     Generation X\n",
              "3  Albania  1987  ...                796  G.I. Generation\n",
              "4  Albania  1987  ...                796          Boomers\n",
              "\n",
              "[5 rows x 12 columns]"
            ]
          },
          "metadata": {
            "tags": []
          },
          "execution_count": 123
        }
      ]
    },
    {
      "cell_type": "markdown",
      "metadata": {
        "id": "MZQ-fDAclWBF"
      },
      "source": [
        "Let's see the number of countries in our dataset."
      ]
    },
    {
      "cell_type": "code",
      "metadata": {
        "colab": {
          "base_uri": "https://localhost:8080/"
        },
        "id": "jP9gsHDUlcHd",
        "outputId": "f42a3ea4-62cf-49e4-d696-ba49ad3f2805"
      },
      "source": [
        "original_dataset['country'].unique(), len(original_dataset['country'].unique())"
      ],
      "execution_count": 124,
      "outputs": [
        {
          "output_type": "execute_result",
          "data": {
            "text/plain": [
              "(array(['Albania', 'Antigua and Barbuda', 'Argentina', 'Armenia', 'Aruba',\n",
              "        'Australia', 'Austria', 'Azerbaijan', 'Bahamas', 'Bahrain',\n",
              "        'Barbados', 'Belarus', 'Belgium', 'Belize',\n",
              "        'Bosnia and Herzegovina', 'Brazil', 'Bulgaria', 'Cabo Verde',\n",
              "        'Canada', 'Chile', 'Colombia', 'Costa Rica', 'Croatia', 'Cuba',\n",
              "        'Cyprus', 'Czech Republic', 'Denmark', 'Dominica', 'Ecuador',\n",
              "        'El Salvador', 'Estonia', 'Fiji', 'Finland', 'France', 'Georgia',\n",
              "        'Germany', 'Greece', 'Grenada', 'Guatemala', 'Guyana', 'Hungary',\n",
              "        'Iceland', 'Ireland', 'Israel', 'Italy', 'Jamaica', 'Japan',\n",
              "        'Kazakhstan', 'Kiribati', 'Kuwait', 'Kyrgyzstan', 'Latvia',\n",
              "        'Lithuania', 'Luxembourg', 'Macau', 'Maldives', 'Malta',\n",
              "        'Mauritius', 'Mexico', 'Mongolia', 'Montenegro', 'Netherlands',\n",
              "        'New Zealand', 'Nicaragua', 'Norway', 'Oman', 'Panama', 'Paraguay',\n",
              "        'Philippines', 'Poland', 'Portugal', 'Puerto Rico', 'Qatar',\n",
              "        'Republic of Korea', 'Romania', 'Russian Federation',\n",
              "        'Saint Kitts and Nevis', 'Saint Lucia',\n",
              "        'Saint Vincent and Grenadines', 'San Marino', 'Serbia',\n",
              "        'Seychelles', 'Singapore', 'Slovakia', 'Slovenia', 'South Africa',\n",
              "        'Spain', 'Sri Lanka', 'Suriname', 'Sweden', 'Switzerland',\n",
              "        'Thailand', 'Trinidad and Tobago', 'Turkey', 'Turkmenistan',\n",
              "        'Ukraine', 'United Arab Emirates', 'United Kingdom',\n",
              "        'United States', 'Uruguay', 'Uzbekistan'], dtype=object), 101)"
            ]
          },
          "metadata": {
            "tags": []
          },
          "execution_count": 124
        }
      ]
    },
    {
      "cell_type": "markdown",
      "metadata": {
        "id": "N7Sc9MIfimvZ"
      },
      "source": [
        "Our data came in a clear format. Missing values are already recoded with NaN. The next step is to create a copy of the dataset and use it throughout our analysis. We want to maintain the structure of the original dataset. Also, we will rename a few columns and remove HDI (too many missing values) to make interpretation and coding easier. Finally we drop some columns which we won't use in our analysis as well."
      ]
    },
    {
      "cell_type": "code",
      "metadata": {
        "id": "D4xewUItjclw"
      },
      "source": [
        "#Creating a dataset copy\n",
        "df = original_dataset.copy()\n",
        "\n",
        "#Renaming a few columns to make interpretation and coding easier\n",
        "df.rename(columns = {\n",
        "    'suicides_no':'total_suicides',\n",
        "    'suicides/100k pop':'suicides_per_100k',\n",
        "    ' gdp_for_year ($) ':'gdp_for_year',\n",
        "    'gdp_per_capita ($)':'gdp_per_capita',\n",
        "    'HDI for year': 'HDI_for_year'\n",
        "}, inplace=True)\n",
        "\n",
        "#Dropping country-year due to redundancy\n",
        "df = df.drop('country-year', axis=1)\n",
        "\n",
        "#Dropping HDI_for_year due to the number of missing value\n",
        "#HDI_for_year won't be used in our analysis\n",
        "df = df.drop(columns='HDI_for_year')\n",
        "\n",
        "\n",
        "#Values for gdp per year are strings. Fixing to a float\n",
        "df.gdp_for_year = df.gdp_for_year.apply(lambda x: float(''.join(x.split(','))))"
      ],
      "execution_count": 125,
      "outputs": []
    },
    {
      "cell_type": "markdown",
      "metadata": {
        "id": "8W8QAR42kiF3"
      },
      "source": [
        "Now let's see how our data set is looking"
      ]
    },
    {
      "cell_type": "markdown",
      "metadata": {
        "id": "NtK1vxZvVyh4"
      },
      "source": [
        "## EDA"
      ]
    },
    {
      "cell_type": "markdown",
      "metadata": {
        "id": "4iwZCzzRtKoY"
      },
      "source": [
        "Years is our time index. We will explore other features together with year to look for trends.\n",
        "The years range from 1985 to 2015. Let's take a look at both ends of our dataset."
      ]
    },
    {
      "cell_type": "code",
      "metadata": {
        "colab": {
          "base_uri": "https://localhost:8080/",
          "height": 1000
        },
        "id": "yMCp9HLoPl34",
        "outputId": "ce335107-03d9-4b0d-c34b-8c1cda6b7d33"
      },
      "source": [
        "#Creating an aggregate dictionary to get the essential elements of the dataset\n",
        "agg_dict = {'country':'nunique', 'age':'nunique',\n",
        "            'population':'sum',\n",
        "            'total_suicides':'sum',\n",
        "            'suicides_per_100k':'mean'}\n",
        "#Query to display  the dataset\n",
        "dataset = df.query('year >= 1985')\n",
        "\n",
        "#Grouping by year using the features of agg_dict\n",
        "dataset = dataset[['year', 'country',\n",
        "                       'age', 'population',\n",
        "                       'total_suicides',\n",
        "                       'suicides_per_100k']].groupby('year').agg(agg_dict)\n",
        "#Rename columns\n",
        "'''dataset.rename(columns={'country':'Distinct Countries', 'age':'Age groups',\n",
        "                          'population':'Sum of Population', 'total_suicides':'Sum of Suicides',\n",
        "                          'suicides_per_100k':'Avg Suicides Ratio per 100k'}, inplace=True)'''\n",
        "#Calculating sucide ratio as Sum of Suicides/Sum of Population\n",
        "dataset['calc_suicide_ratio'] = 1e5 * dataset['total_suicides'] / dataset['population']\n",
        "\n",
        "dataset"
      ],
      "execution_count": 126,
      "outputs": [
        {
          "output_type": "execute_result",
          "data": {
            "text/html": [
              "<div>\n",
              "<style scoped>\n",
              "    .dataframe tbody tr th:only-of-type {\n",
              "        vertical-align: middle;\n",
              "    }\n",
              "\n",
              "    .dataframe tbody tr th {\n",
              "        vertical-align: top;\n",
              "    }\n",
              "\n",
              "    .dataframe thead th {\n",
              "        text-align: right;\n",
              "    }\n",
              "</style>\n",
              "<table border=\"1\" class=\"dataframe\">\n",
              "  <thead>\n",
              "    <tr style=\"text-align: right;\">\n",
              "      <th></th>\n",
              "      <th>country</th>\n",
              "      <th>age</th>\n",
              "      <th>population</th>\n",
              "      <th>total_suicides</th>\n",
              "      <th>suicides_per_100k</th>\n",
              "      <th>calc_suicide_ratio</th>\n",
              "    </tr>\n",
              "    <tr>\n",
              "      <th>year</th>\n",
              "      <th></th>\n",
              "      <th></th>\n",
              "      <th></th>\n",
              "      <th></th>\n",
              "      <th></th>\n",
              "      <th></th>\n",
              "    </tr>\n",
              "  </thead>\n",
              "  <tbody>\n",
              "    <tr>\n",
              "      <th>1985</th>\n",
              "      <td>48</td>\n",
              "      <td>6</td>\n",
              "      <td>1008600086</td>\n",
              "      <td>116063</td>\n",
              "      <td>11.826198</td>\n",
              "      <td>11.507336</td>\n",
              "    </tr>\n",
              "    <tr>\n",
              "      <th>1986</th>\n",
              "      <td>48</td>\n",
              "      <td>6</td>\n",
              "      <td>1029909613</td>\n",
              "      <td>120670</td>\n",
              "      <td>11.423333</td>\n",
              "      <td>11.716562</td>\n",
              "    </tr>\n",
              "    <tr>\n",
              "      <th>1987</th>\n",
              "      <td>54</td>\n",
              "      <td>6</td>\n",
              "      <td>1095029726</td>\n",
              "      <td>126842</td>\n",
              "      <td>11.644213</td>\n",
              "      <td>11.583430</td>\n",
              "    </tr>\n",
              "    <tr>\n",
              "      <th>1988</th>\n",
              "      <td>49</td>\n",
              "      <td>6</td>\n",
              "      <td>1054094424</td>\n",
              "      <td>121026</td>\n",
              "      <td>12.709405</td>\n",
              "      <td>11.481514</td>\n",
              "    </tr>\n",
              "    <tr>\n",
              "      <th>1989</th>\n",
              "      <td>52</td>\n",
              "      <td>6</td>\n",
              "      <td>1225514347</td>\n",
              "      <td>160244</td>\n",
              "      <td>12.879071</td>\n",
              "      <td>13.075653</td>\n",
              "    </tr>\n",
              "    <tr>\n",
              "      <th>1990</th>\n",
              "      <td>64</td>\n",
              "      <td>6</td>\n",
              "      <td>1466620100</td>\n",
              "      <td>193361</td>\n",
              "      <td>12.862956</td>\n",
              "      <td>13.184123</td>\n",
              "    </tr>\n",
              "    <tr>\n",
              "      <th>1991</th>\n",
              "      <td>64</td>\n",
              "      <td>6</td>\n",
              "      <td>1489988384</td>\n",
              "      <td>198020</td>\n",
              "      <td>13.438880</td>\n",
              "      <td>13.290036</td>\n",
              "    </tr>\n",
              "    <tr>\n",
              "      <th>1992</th>\n",
              "      <td>65</td>\n",
              "      <td>6</td>\n",
              "      <td>1569539447</td>\n",
              "      <td>211473</td>\n",
              "      <td>13.498564</td>\n",
              "      <td>13.473570</td>\n",
              "    </tr>\n",
              "    <tr>\n",
              "      <th>1993</th>\n",
              "      <td>65</td>\n",
              "      <td>6</td>\n",
              "      <td>1530416654</td>\n",
              "      <td>221565</td>\n",
              "      <td>13.833705</td>\n",
              "      <td>14.477430</td>\n",
              "    </tr>\n",
              "    <tr>\n",
              "      <th>1994</th>\n",
              "      <td>68</td>\n",
              "      <td>6</td>\n",
              "      <td>1548749372</td>\n",
              "      <td>232063</td>\n",
              "      <td>14.073272</td>\n",
              "      <td>14.983896</td>\n",
              "    </tr>\n",
              "    <tr>\n",
              "      <th>1995</th>\n",
              "      <td>78</td>\n",
              "      <td>6</td>\n",
              "      <td>1591559103</td>\n",
              "      <td>243544</td>\n",
              "      <td>15.662671</td>\n",
              "      <td>15.302228</td>\n",
              "    </tr>\n",
              "    <tr>\n",
              "      <th>1996</th>\n",
              "      <td>77</td>\n",
              "      <td>6</td>\n",
              "      <td>1662267662</td>\n",
              "      <td>246725</td>\n",
              "      <td>15.305422</td>\n",
              "      <td>14.842676</td>\n",
              "    </tr>\n",
              "    <tr>\n",
              "      <th>1997</th>\n",
              "      <td>77</td>\n",
              "      <td>6</td>\n",
              "      <td>1702991519</td>\n",
              "      <td>240745</td>\n",
              "      <td>14.954361</td>\n",
              "      <td>14.136594</td>\n",
              "    </tr>\n",
              "    <tr>\n",
              "      <th>1998</th>\n",
              "      <td>79</td>\n",
              "      <td>6</td>\n",
              "      <td>1725181351</td>\n",
              "      <td>249591</td>\n",
              "      <td>14.926920</td>\n",
              "      <td>14.467522</td>\n",
              "    </tr>\n",
              "    <tr>\n",
              "      <th>1999</th>\n",
              "      <td>83</td>\n",
              "      <td>6</td>\n",
              "      <td>1776363155</td>\n",
              "      <td>256119</td>\n",
              "      <td>14.532038</td>\n",
              "      <td>14.418167</td>\n",
              "    </tr>\n",
              "    <tr>\n",
              "      <th>2000</th>\n",
              "      <td>86</td>\n",
              "      <td>6</td>\n",
              "      <td>1799227908</td>\n",
              "      <td>255832</td>\n",
              "      <td>13.941328</td>\n",
              "      <td>14.218988</td>\n",
              "    </tr>\n",
              "    <tr>\n",
              "      <th>2001</th>\n",
              "      <td>88</td>\n",
              "      <td>6</td>\n",
              "      <td>1755565489</td>\n",
              "      <td>250652</td>\n",
              "      <td>13.519138</td>\n",
              "      <td>14.277565</td>\n",
              "    </tr>\n",
              "    <tr>\n",
              "      <th>2002</th>\n",
              "      <td>86</td>\n",
              "      <td>6</td>\n",
              "      <td>1822152815</td>\n",
              "      <td>256095</td>\n",
              "      <td>13.786550</td>\n",
              "      <td>14.054529</td>\n",
              "    </tr>\n",
              "    <tr>\n",
              "      <th>2003</th>\n",
              "      <td>86</td>\n",
              "      <td>6</td>\n",
              "      <td>1838458020</td>\n",
              "      <td>256079</td>\n",
              "      <td>13.205019</td>\n",
              "      <td>13.929010</td>\n",
              "    </tr>\n",
              "    <tr>\n",
              "      <th>2004</th>\n",
              "      <td>84</td>\n",
              "      <td>6</td>\n",
              "      <td>1745246613</td>\n",
              "      <td>240861</td>\n",
              "      <td>12.481944</td>\n",
              "      <td>13.800972</td>\n",
              "    </tr>\n",
              "    <tr>\n",
              "      <th>2005</th>\n",
              "      <td>84</td>\n",
              "      <td>6</td>\n",
              "      <td>1734909645</td>\n",
              "      <td>234375</td>\n",
              "      <td>12.068442</td>\n",
              "      <td>13.509349</td>\n",
              "    </tr>\n",
              "    <tr>\n",
              "      <th>2006</th>\n",
              "      <td>85</td>\n",
              "      <td>6</td>\n",
              "      <td>1840908837</td>\n",
              "      <td>233361</td>\n",
              "      <td>11.927461</td>\n",
              "      <td>12.676402</td>\n",
              "    </tr>\n",
              "    <tr>\n",
              "      <th>2007</th>\n",
              "      <td>86</td>\n",
              "      <td>6</td>\n",
              "      <td>1859564353</td>\n",
              "      <td>233408</td>\n",
              "      <td>12.025339</td>\n",
              "      <td>12.551757</td>\n",
              "    </tr>\n",
              "    <tr>\n",
              "      <th>2008</th>\n",
              "      <td>85</td>\n",
              "      <td>6</td>\n",
              "      <td>1860620851</td>\n",
              "      <td>235447</td>\n",
              "      <td>11.907686</td>\n",
              "      <td>12.654217</td>\n",
              "    </tr>\n",
              "    <tr>\n",
              "      <th>2009</th>\n",
              "      <td>89</td>\n",
              "      <td>6</td>\n",
              "      <td>1976228366</td>\n",
              "      <td>243487</td>\n",
              "      <td>11.400787</td>\n",
              "      <td>12.320793</td>\n",
              "    </tr>\n",
              "    <tr>\n",
              "      <th>2010</th>\n",
              "      <td>88</td>\n",
              "      <td>6</td>\n",
              "      <td>1997297329</td>\n",
              "      <td>238702</td>\n",
              "      <td>11.215900</td>\n",
              "      <td>11.951250</td>\n",
              "    </tr>\n",
              "    <tr>\n",
              "      <th>2011</th>\n",
              "      <td>86</td>\n",
              "      <td>6</td>\n",
              "      <td>1993362332</td>\n",
              "      <td>236484</td>\n",
              "      <td>11.015349</td>\n",
              "      <td>11.863573</td>\n",
              "    </tr>\n",
              "    <tr>\n",
              "      <th>2012</th>\n",
              "      <td>81</td>\n",
              "      <td>6</td>\n",
              "      <td>1912812088</td>\n",
              "      <td>230160</td>\n",
              "      <td>11.421718</td>\n",
              "      <td>12.032546</td>\n",
              "    </tr>\n",
              "    <tr>\n",
              "      <th>2013</th>\n",
              "      <td>80</td>\n",
              "      <td>6</td>\n",
              "      <td>1890161710</td>\n",
              "      <td>223199</td>\n",
              "      <td>11.107958</td>\n",
              "      <td>11.808461</td>\n",
              "    </tr>\n",
              "    <tr>\n",
              "      <th>2014</th>\n",
              "      <td>78</td>\n",
              "      <td>6</td>\n",
              "      <td>1912057309</td>\n",
              "      <td>222984</td>\n",
              "      <td>11.011464</td>\n",
              "      <td>11.661994</td>\n",
              "    </tr>\n",
              "    <tr>\n",
              "      <th>2015</th>\n",
              "      <td>62</td>\n",
              "      <td>6</td>\n",
              "      <td>1774657932</td>\n",
              "      <td>203640</td>\n",
              "      <td>11.094073</td>\n",
              "      <td>11.474887</td>\n",
              "    </tr>\n",
              "    <tr>\n",
              "      <th>2016</th>\n",
              "      <td>16</td>\n",
              "      <td>5</td>\n",
              "      <td>132101896</td>\n",
              "      <td>15603</td>\n",
              "      <td>13.421188</td>\n",
              "      <td>11.811337</td>\n",
              "    </tr>\n",
              "  </tbody>\n",
              "</table>\n",
              "</div>"
            ],
            "text/plain": [
              "      country  age  ...  suicides_per_100k  calc_suicide_ratio\n",
              "year                ...                                       \n",
              "1985       48    6  ...          11.826198           11.507336\n",
              "1986       48    6  ...          11.423333           11.716562\n",
              "1987       54    6  ...          11.644213           11.583430\n",
              "1988       49    6  ...          12.709405           11.481514\n",
              "1989       52    6  ...          12.879071           13.075653\n",
              "1990       64    6  ...          12.862956           13.184123\n",
              "1991       64    6  ...          13.438880           13.290036\n",
              "1992       65    6  ...          13.498564           13.473570\n",
              "1993       65    6  ...          13.833705           14.477430\n",
              "1994       68    6  ...          14.073272           14.983896\n",
              "1995       78    6  ...          15.662671           15.302228\n",
              "1996       77    6  ...          15.305422           14.842676\n",
              "1997       77    6  ...          14.954361           14.136594\n",
              "1998       79    6  ...          14.926920           14.467522\n",
              "1999       83    6  ...          14.532038           14.418167\n",
              "2000       86    6  ...          13.941328           14.218988\n",
              "2001       88    6  ...          13.519138           14.277565\n",
              "2002       86    6  ...          13.786550           14.054529\n",
              "2003       86    6  ...          13.205019           13.929010\n",
              "2004       84    6  ...          12.481944           13.800972\n",
              "2005       84    6  ...          12.068442           13.509349\n",
              "2006       85    6  ...          11.927461           12.676402\n",
              "2007       86    6  ...          12.025339           12.551757\n",
              "2008       85    6  ...          11.907686           12.654217\n",
              "2009       89    6  ...          11.400787           12.320793\n",
              "2010       88    6  ...          11.215900           11.951250\n",
              "2011       86    6  ...          11.015349           11.863573\n",
              "2012       81    6  ...          11.421718           12.032546\n",
              "2013       80    6  ...          11.107958           11.808461\n",
              "2014       78    6  ...          11.011464           11.661994\n",
              "2015       62    6  ...          11.094073           11.474887\n",
              "2016       16    5  ...          13.421188           11.811337\n",
              "\n",
              "[32 rows x 6 columns]"
            ]
          },
          "metadata": {
            "tags": []
          },
          "execution_count": 126
        }
      ]
    },
    {
      "cell_type": "markdown",
      "metadata": {
        "id": "Q-ra2mwmuIu2"
      },
      "source": [
        "*   We can see that the data from 2016 has 16 countires and is missing an age group. We decide no to use this year since it affects our trend analysis.\n",
        "*   Also the number of countries vary in the data each year.\n",
        "\n"
      ]
    },
    {
      "cell_type": "code",
      "metadata": {
        "id": "vfUjOEuSwT74",
        "colab": {
          "base_uri": "https://localhost:8080/",
          "height": 994
        },
        "outputId": "4d3409fc-9b7a-4cdb-e4a6-299b19579e3a"
      },
      "source": [
        "#Dropping the year \"2016\"\n",
        "dataset = dataset.query('year !=2016')\n",
        "dataset"
      ],
      "execution_count": 127,
      "outputs": [
        {
          "output_type": "execute_result",
          "data": {
            "text/html": [
              "<div>\n",
              "<style scoped>\n",
              "    .dataframe tbody tr th:only-of-type {\n",
              "        vertical-align: middle;\n",
              "    }\n",
              "\n",
              "    .dataframe tbody tr th {\n",
              "        vertical-align: top;\n",
              "    }\n",
              "\n",
              "    .dataframe thead th {\n",
              "        text-align: right;\n",
              "    }\n",
              "</style>\n",
              "<table border=\"1\" class=\"dataframe\">\n",
              "  <thead>\n",
              "    <tr style=\"text-align: right;\">\n",
              "      <th></th>\n",
              "      <th>country</th>\n",
              "      <th>age</th>\n",
              "      <th>population</th>\n",
              "      <th>total_suicides</th>\n",
              "      <th>suicides_per_100k</th>\n",
              "      <th>calc_suicide_ratio</th>\n",
              "    </tr>\n",
              "    <tr>\n",
              "      <th>year</th>\n",
              "      <th></th>\n",
              "      <th></th>\n",
              "      <th></th>\n",
              "      <th></th>\n",
              "      <th></th>\n",
              "      <th></th>\n",
              "    </tr>\n",
              "  </thead>\n",
              "  <tbody>\n",
              "    <tr>\n",
              "      <th>1985</th>\n",
              "      <td>48</td>\n",
              "      <td>6</td>\n",
              "      <td>1008600086</td>\n",
              "      <td>116063</td>\n",
              "      <td>11.826198</td>\n",
              "      <td>11.507336</td>\n",
              "    </tr>\n",
              "    <tr>\n",
              "      <th>1986</th>\n",
              "      <td>48</td>\n",
              "      <td>6</td>\n",
              "      <td>1029909613</td>\n",
              "      <td>120670</td>\n",
              "      <td>11.423333</td>\n",
              "      <td>11.716562</td>\n",
              "    </tr>\n",
              "    <tr>\n",
              "      <th>1987</th>\n",
              "      <td>54</td>\n",
              "      <td>6</td>\n",
              "      <td>1095029726</td>\n",
              "      <td>126842</td>\n",
              "      <td>11.644213</td>\n",
              "      <td>11.583430</td>\n",
              "    </tr>\n",
              "    <tr>\n",
              "      <th>1988</th>\n",
              "      <td>49</td>\n",
              "      <td>6</td>\n",
              "      <td>1054094424</td>\n",
              "      <td>121026</td>\n",
              "      <td>12.709405</td>\n",
              "      <td>11.481514</td>\n",
              "    </tr>\n",
              "    <tr>\n",
              "      <th>1989</th>\n",
              "      <td>52</td>\n",
              "      <td>6</td>\n",
              "      <td>1225514347</td>\n",
              "      <td>160244</td>\n",
              "      <td>12.879071</td>\n",
              "      <td>13.075653</td>\n",
              "    </tr>\n",
              "    <tr>\n",
              "      <th>1990</th>\n",
              "      <td>64</td>\n",
              "      <td>6</td>\n",
              "      <td>1466620100</td>\n",
              "      <td>193361</td>\n",
              "      <td>12.862956</td>\n",
              "      <td>13.184123</td>\n",
              "    </tr>\n",
              "    <tr>\n",
              "      <th>1991</th>\n",
              "      <td>64</td>\n",
              "      <td>6</td>\n",
              "      <td>1489988384</td>\n",
              "      <td>198020</td>\n",
              "      <td>13.438880</td>\n",
              "      <td>13.290036</td>\n",
              "    </tr>\n",
              "    <tr>\n",
              "      <th>1992</th>\n",
              "      <td>65</td>\n",
              "      <td>6</td>\n",
              "      <td>1569539447</td>\n",
              "      <td>211473</td>\n",
              "      <td>13.498564</td>\n",
              "      <td>13.473570</td>\n",
              "    </tr>\n",
              "    <tr>\n",
              "      <th>1993</th>\n",
              "      <td>65</td>\n",
              "      <td>6</td>\n",
              "      <td>1530416654</td>\n",
              "      <td>221565</td>\n",
              "      <td>13.833705</td>\n",
              "      <td>14.477430</td>\n",
              "    </tr>\n",
              "    <tr>\n",
              "      <th>1994</th>\n",
              "      <td>68</td>\n",
              "      <td>6</td>\n",
              "      <td>1548749372</td>\n",
              "      <td>232063</td>\n",
              "      <td>14.073272</td>\n",
              "      <td>14.983896</td>\n",
              "    </tr>\n",
              "    <tr>\n",
              "      <th>1995</th>\n",
              "      <td>78</td>\n",
              "      <td>6</td>\n",
              "      <td>1591559103</td>\n",
              "      <td>243544</td>\n",
              "      <td>15.662671</td>\n",
              "      <td>15.302228</td>\n",
              "    </tr>\n",
              "    <tr>\n",
              "      <th>1996</th>\n",
              "      <td>77</td>\n",
              "      <td>6</td>\n",
              "      <td>1662267662</td>\n",
              "      <td>246725</td>\n",
              "      <td>15.305422</td>\n",
              "      <td>14.842676</td>\n",
              "    </tr>\n",
              "    <tr>\n",
              "      <th>1997</th>\n",
              "      <td>77</td>\n",
              "      <td>6</td>\n",
              "      <td>1702991519</td>\n",
              "      <td>240745</td>\n",
              "      <td>14.954361</td>\n",
              "      <td>14.136594</td>\n",
              "    </tr>\n",
              "    <tr>\n",
              "      <th>1998</th>\n",
              "      <td>79</td>\n",
              "      <td>6</td>\n",
              "      <td>1725181351</td>\n",
              "      <td>249591</td>\n",
              "      <td>14.926920</td>\n",
              "      <td>14.467522</td>\n",
              "    </tr>\n",
              "    <tr>\n",
              "      <th>1999</th>\n",
              "      <td>83</td>\n",
              "      <td>6</td>\n",
              "      <td>1776363155</td>\n",
              "      <td>256119</td>\n",
              "      <td>14.532038</td>\n",
              "      <td>14.418167</td>\n",
              "    </tr>\n",
              "    <tr>\n",
              "      <th>2000</th>\n",
              "      <td>86</td>\n",
              "      <td>6</td>\n",
              "      <td>1799227908</td>\n",
              "      <td>255832</td>\n",
              "      <td>13.941328</td>\n",
              "      <td>14.218988</td>\n",
              "    </tr>\n",
              "    <tr>\n",
              "      <th>2001</th>\n",
              "      <td>88</td>\n",
              "      <td>6</td>\n",
              "      <td>1755565489</td>\n",
              "      <td>250652</td>\n",
              "      <td>13.519138</td>\n",
              "      <td>14.277565</td>\n",
              "    </tr>\n",
              "    <tr>\n",
              "      <th>2002</th>\n",
              "      <td>86</td>\n",
              "      <td>6</td>\n",
              "      <td>1822152815</td>\n",
              "      <td>256095</td>\n",
              "      <td>13.786550</td>\n",
              "      <td>14.054529</td>\n",
              "    </tr>\n",
              "    <tr>\n",
              "      <th>2003</th>\n",
              "      <td>86</td>\n",
              "      <td>6</td>\n",
              "      <td>1838458020</td>\n",
              "      <td>256079</td>\n",
              "      <td>13.205019</td>\n",
              "      <td>13.929010</td>\n",
              "    </tr>\n",
              "    <tr>\n",
              "      <th>2004</th>\n",
              "      <td>84</td>\n",
              "      <td>6</td>\n",
              "      <td>1745246613</td>\n",
              "      <td>240861</td>\n",
              "      <td>12.481944</td>\n",
              "      <td>13.800972</td>\n",
              "    </tr>\n",
              "    <tr>\n",
              "      <th>2005</th>\n",
              "      <td>84</td>\n",
              "      <td>6</td>\n",
              "      <td>1734909645</td>\n",
              "      <td>234375</td>\n",
              "      <td>12.068442</td>\n",
              "      <td>13.509349</td>\n",
              "    </tr>\n",
              "    <tr>\n",
              "      <th>2006</th>\n",
              "      <td>85</td>\n",
              "      <td>6</td>\n",
              "      <td>1840908837</td>\n",
              "      <td>233361</td>\n",
              "      <td>11.927461</td>\n",
              "      <td>12.676402</td>\n",
              "    </tr>\n",
              "    <tr>\n",
              "      <th>2007</th>\n",
              "      <td>86</td>\n",
              "      <td>6</td>\n",
              "      <td>1859564353</td>\n",
              "      <td>233408</td>\n",
              "      <td>12.025339</td>\n",
              "      <td>12.551757</td>\n",
              "    </tr>\n",
              "    <tr>\n",
              "      <th>2008</th>\n",
              "      <td>85</td>\n",
              "      <td>6</td>\n",
              "      <td>1860620851</td>\n",
              "      <td>235447</td>\n",
              "      <td>11.907686</td>\n",
              "      <td>12.654217</td>\n",
              "    </tr>\n",
              "    <tr>\n",
              "      <th>2009</th>\n",
              "      <td>89</td>\n",
              "      <td>6</td>\n",
              "      <td>1976228366</td>\n",
              "      <td>243487</td>\n",
              "      <td>11.400787</td>\n",
              "      <td>12.320793</td>\n",
              "    </tr>\n",
              "    <tr>\n",
              "      <th>2010</th>\n",
              "      <td>88</td>\n",
              "      <td>6</td>\n",
              "      <td>1997297329</td>\n",
              "      <td>238702</td>\n",
              "      <td>11.215900</td>\n",
              "      <td>11.951250</td>\n",
              "    </tr>\n",
              "    <tr>\n",
              "      <th>2011</th>\n",
              "      <td>86</td>\n",
              "      <td>6</td>\n",
              "      <td>1993362332</td>\n",
              "      <td>236484</td>\n",
              "      <td>11.015349</td>\n",
              "      <td>11.863573</td>\n",
              "    </tr>\n",
              "    <tr>\n",
              "      <th>2012</th>\n",
              "      <td>81</td>\n",
              "      <td>6</td>\n",
              "      <td>1912812088</td>\n",
              "      <td>230160</td>\n",
              "      <td>11.421718</td>\n",
              "      <td>12.032546</td>\n",
              "    </tr>\n",
              "    <tr>\n",
              "      <th>2013</th>\n",
              "      <td>80</td>\n",
              "      <td>6</td>\n",
              "      <td>1890161710</td>\n",
              "      <td>223199</td>\n",
              "      <td>11.107958</td>\n",
              "      <td>11.808461</td>\n",
              "    </tr>\n",
              "    <tr>\n",
              "      <th>2014</th>\n",
              "      <td>78</td>\n",
              "      <td>6</td>\n",
              "      <td>1912057309</td>\n",
              "      <td>222984</td>\n",
              "      <td>11.011464</td>\n",
              "      <td>11.661994</td>\n",
              "    </tr>\n",
              "    <tr>\n",
              "      <th>2015</th>\n",
              "      <td>62</td>\n",
              "      <td>6</td>\n",
              "      <td>1774657932</td>\n",
              "      <td>203640</td>\n",
              "      <td>11.094073</td>\n",
              "      <td>11.474887</td>\n",
              "    </tr>\n",
              "  </tbody>\n",
              "</table>\n",
              "</div>"
            ],
            "text/plain": [
              "      country  age  ...  suicides_per_100k  calc_suicide_ratio\n",
              "year                ...                                       \n",
              "1985       48    6  ...          11.826198           11.507336\n",
              "1986       48    6  ...          11.423333           11.716562\n",
              "1987       54    6  ...          11.644213           11.583430\n",
              "1988       49    6  ...          12.709405           11.481514\n",
              "1989       52    6  ...          12.879071           13.075653\n",
              "1990       64    6  ...          12.862956           13.184123\n",
              "1991       64    6  ...          13.438880           13.290036\n",
              "1992       65    6  ...          13.498564           13.473570\n",
              "1993       65    6  ...          13.833705           14.477430\n",
              "1994       68    6  ...          14.073272           14.983896\n",
              "1995       78    6  ...          15.662671           15.302228\n",
              "1996       77    6  ...          15.305422           14.842676\n",
              "1997       77    6  ...          14.954361           14.136594\n",
              "1998       79    6  ...          14.926920           14.467522\n",
              "1999       83    6  ...          14.532038           14.418167\n",
              "2000       86    6  ...          13.941328           14.218988\n",
              "2001       88    6  ...          13.519138           14.277565\n",
              "2002       86    6  ...          13.786550           14.054529\n",
              "2003       86    6  ...          13.205019           13.929010\n",
              "2004       84    6  ...          12.481944           13.800972\n",
              "2005       84    6  ...          12.068442           13.509349\n",
              "2006       85    6  ...          11.927461           12.676402\n",
              "2007       86    6  ...          12.025339           12.551757\n",
              "2008       85    6  ...          11.907686           12.654217\n",
              "2009       89    6  ...          11.400787           12.320793\n",
              "2010       88    6  ...          11.215900           11.951250\n",
              "2011       86    6  ...          11.015349           11.863573\n",
              "2012       81    6  ...          11.421718           12.032546\n",
              "2013       80    6  ...          11.107958           11.808461\n",
              "2014       78    6  ...          11.011464           11.661994\n",
              "2015       62    6  ...          11.094073           11.474887\n",
              "\n",
              "[31 rows x 6 columns]"
            ]
          },
          "metadata": {
            "tags": []
          },
          "execution_count": 127
        }
      ]
    },
    {
      "cell_type": "code",
      "metadata": {
        "id": "Qu6g7MGFkqCa"
      },
      "source": [
        "# Too many missing values from 2016 therefore we are removing all 2016 records \n",
        "# This earlier version of the dataframe is used for further data visualizations \n",
        "df = df[df['year']!='2016']"
      ],
      "execution_count": 164,
      "outputs": []
    },
    {
      "cell_type": "markdown",
      "metadata": {
        "id": "CCwLVrVWWMUM"
      },
      "source": [
        "Currently we have our cumulative distribution for year, population\ttotal_suicides\tsuicides_per_100k\tcalc_suicide_ratio. Now let's look at the mean and standard deviation for total_sucides, suicide_per_100K, calc_suicide_ratio\n",
        "\n",
        "\n"
      ]
    },
    {
      "cell_type": "markdown",
      "metadata": {
        "id": "I92RowjjQuCH"
      },
      "source": [
        "Calculating this we can use the mean and std functions from numpy and pandas. But we use the one from Pandas"
      ]
    },
    {
      "cell_type": "code",
      "metadata": {
        "colab": {
          "base_uri": "https://localhost:8080/"
        },
        "id": "FqUrZoL7RUFF",
        "outputId": "d75147b2-0c73-474c-e82f-24a134799017"
      },
      "source": [
        "# Mean and standard deviation for total sucides from 1985-2015\n",
        "mean_tol = dataset['total_suicides'].mean()\n",
        "std_tol = dataset['total_suicides'].std()\n",
        "print(\"Mean and standard deviation of total suicides:\\n\")\n",
        "(mean_tol,std_tol)\n"
      ],
      "execution_count": 165,
      "outputs": [
        {
          "output_type": "stream",
          "text": [
            "Mean and standard deviation of total suicides:\n",
            "\n"
          ],
          "name": "stdout"
        },
        {
          "output_type": "execute_result",
          "data": {
            "text/plain": [
              "(217187.64516129033, 42969.61275331547)"
            ]
          },
          "metadata": {
            "tags": []
          },
          "execution_count": 165
        }
      ]
    },
    {
      "cell_type": "code",
      "metadata": {
        "colab": {
          "base_uri": "https://localhost:8080/"
        },
        "id": "c2FndyPdVP2x",
        "outputId": "bd385441-33fd-4396-811e-cf819be6ac76"
      },
      "source": [
        "# Mean and standard deviation for suicide_per_100K\n",
        "mean_100_k = dataset['suicides_per_100k'].mean()\n",
        "std_100_k = dataset['suicides_per_100k'].std()\n",
        "print(\"Mean and standard deviation for suicide per 100K people:\\n\")\n",
        "(mean_100_k,std_100_k)"
      ],
      "execution_count": 166,
      "outputs": [
        {
          "output_type": "stream",
          "text": [
            "Mean and standard deviation for suicide per 100K people:\n",
            "\n"
          ],
          "name": "stdout"
        },
        {
          "output_type": "execute_result",
          "data": {
            "text/plain": [
              "(12.796811790816218, 1.3987540436576158)"
            ]
          },
          "metadata": {
            "tags": []
          },
          "execution_count": 166
        }
      ]
    },
    {
      "cell_type": "code",
      "metadata": {
        "colab": {
          "base_uri": "https://localhost:8080/"
        },
        "id": "gy00Uf9pVQrZ",
        "outputId": "4899063f-571e-409f-bbb8-4fce939b194c"
      },
      "source": [
        "#Repeating for suicide ratio\n",
        "mean_ratio= dataset['calc_suicide_ratio'].mean()\n",
        "std_ratio = dataset['calc_suicide_ratio'].std()\n",
        "print(\"Mean and standard deviation for Sucide Ratio by the years:\\n\")\n",
        "(mean_ratio,std_ratio)"
      ],
      "execution_count": 167,
      "outputs": [
        {
          "output_type": "stream",
          "text": [
            "Mean and standard deviation for Sucide Ratio by the years:\n",
            "\n"
          ],
          "name": "stdout"
        },
        {
          "output_type": "execute_result",
          "data": {
            "text/plain": [
              "(13.12022680020077, 1.2124725358950612)"
            ]
          },
          "metadata": {
            "tags": []
          },
          "execution_count": 167
        }
      ]
    },
    {
      "cell_type": "markdown",
      "metadata": {
        "id": "kQab5WaMV9IZ"
      },
      "source": [
        "We then plot the mean and standard deviation of total suicides and suicides per 100k. \n",
        "\n",
        "We see that the number of suicides was steadily rising between 1985 and 1995. It levelled off between 1995 and 2010 and then sharply fell off.\n",
        "\n",
        "The suicide per 100k followed the rising trend between 1985 and 1995 and then abruptly declined. However since the 2010s, it has started to rise rather drastically."
      ]
    },
    {
      "cell_type": "code",
      "metadata": {
        "colab": {
          "base_uri": "https://localhost:8080/",
          "height": 297
        },
        "id": "TzbDqXy1WqSZ",
        "outputId": "b9644b87-5fc3-4dba-8cce-e9b9bc857f20"
      },
      "source": [
        "total_suicides = dataset['total_suicides'] \n",
        "total_suicides.plot(color=\"C2\", label='Total Suicides')\n",
        "decorate(xlabel='Year', \n",
        "         ylabel='Number of suicides',\n",
        "         title='Total suicide numbers for all countries')\n",
        "\n"
      ],
      "execution_count": 168,
      "outputs": [
        {
          "output_type": "display_data",
          "data": {
            "image/png": "[encoded data removed]",
            "text/plain": [
              "<Figure size 432x288 with 1 Axes>"
            ]
          },
          "metadata": {
            "tags": [],
            "needs_background": "light"
          }
        }
      ]
    },
    {
      "cell_type": "code",
      "metadata": {
        "colab": {
          "base_uri": "https://localhost:8080/",
          "height": 297
        },
        "id": "0s2FNoaNa4PA",
        "outputId": "3a0316c1-6cfa-43da-ff0c-5dcc78cfd79b"
      },
      "source": [
        "per_100K = dataset['suicides_per_100k'] \n",
        "per_100K.plot(color=\"red\", label='Total Suicides')\n",
        "decorate(xlabel='Year', \n",
        "         ylabel='suicides per 100k',\n",
        "         title='Suicide rates for all countries')"
      ],
      "execution_count": 169,
      "outputs": [
        {
          "output_type": "display_data",
          "data": {
            "image/png": "[encoded data removed]",
            "text/plain": [
              "<Figure size 432x288 with 1 Axes>"
            ]
          },
          "metadata": {
            "tags": [],
            "needs_background": "light"
          }
        }
      ]
    },
    {
      "cell_type": "code",
      "metadata": {
        "id": "j5SEt0ebdSZE"
      },
      "source": [
        "# per_100K = dataset['calc_suicide_ratio'] \n",
        "# per_100K.plot(color=\"C4\", label='Total Suicides')\n",
        "# decorate(xlabel='Year', \n",
        "#          ylabel='suicide ratio',\n",
        "#          title='Suicide Ratio for all countries')"
      ],
      "execution_count": 170,
      "outputs": []
    },
    {
      "cell_type": "markdown",
      "metadata": {
        "id": "mOZksjccrMhH"
      },
      "source": [
        "## Exploration of Suicide Rates\n",
        "\n",
        "Let's start our exploration of interest. We will first explore `suicides_per_100k`"
      ]
    },
    {
      "cell_type": "markdown",
      "metadata": {
        "id": "_Xe6cKuiTS2I"
      },
      "source": [
        "To see how the responses have changed over time, we'll inspect them at the beginning and end of the observation period.\n",
        "\n",
        "First I'll select the column."
      ]
    },
    {
      "cell_type": "code",
      "metadata": {
        "id": "iJMW90kwTiUn"
      },
      "source": [
        "suicide_per_100k = df['suicides_per_100k']"
      ],
      "execution_count": 171,
      "outputs": []
    },
    {
      "cell_type": "markdown",
      "metadata": {
        "id": "txAFoPbyUZlQ"
      },
      "source": [
        "Then compute a Boolean Series that's True for responses from 1985."
      ]
    },
    {
      "cell_type": "code",
      "metadata": {
        "id": "2tG42mIqUkIq"
      },
      "source": [
        "year85 = (df['year'] == 1985)"
      ],
      "execution_count": 172,
      "outputs": []
    },
    {
      "cell_type": "markdown",
      "metadata": {
        "id": "KMhr9xq8VJiz"
      },
      "source": [
        "Now we can select suicide rates from 1985"
      ]
    },
    {
      "cell_type": "code",
      "metadata": {
        "id": "UFBh8nQIVJIG"
      },
      "source": [
        "suicide85_per_100k = suicide_per_100k[year85]"
      ],
      "execution_count": 173,
      "outputs": []
    },
    {
      "cell_type": "markdown",
      "metadata": {
        "id": "3-joNHTWWHVA"
      },
      "source": [
        "We'll use the function values to plot the values in the series and their frequencies."
      ]
    },
    {
      "cell_type": "code",
      "metadata": {
        "id": "jGw9Slw6WIZS"
      },
      "source": [
        "def values(series):\n",
        "    \"\"\"Count the values and sort.\n",
        "    \n",
        "    series: pd.Series\n",
        "    \n",
        "    returns: series mapping from values to frequencies\n",
        "    \"\"\"\n",
        "    return series.value_counts().sort_index()"
      ],
      "execution_count": 174,
      "outputs": []
    },
    {
      "cell_type": "markdown",
      "metadata": {
        "id": "tJseb4YfWylA"
      },
      "source": [
        "Here are the responses from 1985."
      ]
    },
    {
      "cell_type": "code",
      "metadata": {
        "colab": {
          "base_uri": "https://localhost:8080/"
        },
        "id": "h9oM-9x1W2nR",
        "outputId": "5fd9898f-5f83-4c1a-dd2f-d6ccfcd86272"
      },
      "source": [
        "values(suicide85_per_100k)"
      ],
      "execution_count": 175,
      "outputs": [
        {
          "output_type": "execute_result",
          "data": {
            "text/plain": [
              "0.00      129\n",
              "0.03        1\n",
              "0.06        1\n",
              "0.08        2\n",
              "0.13        1\n",
              "         ... \n",
              "101.52      1\n",
              "120.49      1\n",
              "125.22      1\n",
              "131.17      1\n",
              "144.65      1\n",
              "Name: suicides_per_100k, Length: 408, dtype: int64"
            ]
          },
          "metadata": {
            "tags": []
          },
          "execution_count": 175
        }
      ]
    },
    {
      "cell_type": "markdown",
      "metadata": {
        "id": "eqXYB9BNXJwS"
      },
      "source": [
        "And here are the responses from 2015."
      ]
    },
    {
      "cell_type": "code",
      "metadata": {
        "colab": {
          "base_uri": "https://localhost:8080/"
        },
        "id": "lhfCgiFRXMkJ",
        "outputId": "e43489b6-8846-4e77-dfe6-37b7c0d2541b"
      },
      "source": [
        "year15 = (df['year'] == 2015)\n",
        "suicide15_per_100k = suicide_per_100k[year15]\n",
        "values(suicide15_per_100k)\n",
        "\n",
        "suicide15_per_100k.describe(), suicide85_per_100k.describe()\n"
      ],
      "execution_count": 176,
      "outputs": [
        {
          "output_type": "execute_result",
          "data": {
            "text/plain": [
              "(count    744.000000\n",
              " mean      11.094073\n",
              " std       15.144091\n",
              " min        0.000000\n",
              " 25%        1.307500\n",
              " 50%        6.065000\n",
              " 75%       14.232500\n",
              " max      140.740000\n",
              " Name: suicides_per_100k, dtype: float64, count    576.000000\n",
              " mean      11.826198\n",
              " std       19.216259\n",
              " min        0.000000\n",
              " 25%        0.280000\n",
              " 50%        4.740000\n",
              " 75%       14.782500\n",
              " max      144.650000\n",
              " Name: suicides_per_100k, dtype: float64)"
            ]
          },
          "metadata": {
            "tags": []
          },
          "execution_count": 176
        }
      ]
    },
    {
      "cell_type": "markdown",
      "metadata": {
        "id": "-psmuI3ymySc"
      },
      "source": [
        "## CDFs\n",
        "\n",
        "To visualize these distributions, we'll use the **Cumulative Distribution Function** (CDF), which is similar to a histogram.  The CDF ***shows the cumulative probability distribution of our suicide records***.\n",
        "\n",
        "I use the `Cdf` class from `empiricaldist` to compute them."
      ]
    },
    {
      "cell_type": "markdown",
      "metadata": {
        "id": "KJNUt1rRp6IB"
      },
      "source": [
        "Here's the distribution from 1985. But first let's see the probability distribution of the responses\n",
        "\n"
      ]
    },
    {
      "cell_type": "code",
      "metadata": {
        "colab": {
          "base_uri": "https://localhost:8080/",
          "height": 402
        },
        "id": "7_IUB41Ep8z3",
        "outputId": "a8cdaf14-61dc-4049-c12a-f67d9eb254be"
      },
      "source": [
        "cdf85 =  Cdf.from_seq(suicide85_per_100k)\n",
        "cdf85\n"
      ],
      "execution_count": 177,
      "outputs": [
        {
          "output_type": "execute_result",
          "data": {
            "text/html": [
              "<div>\n",
              "<style scoped>\n",
              "    .dataframe tbody tr th:only-of-type {\n",
              "        vertical-align: middle;\n",
              "    }\n",
              "\n",
              "    .dataframe tbody tr th {\n",
              "        vertical-align: top;\n",
              "    }\n",
              "\n",
              "    .dataframe thead th {\n",
              "        text-align: right;\n",
              "    }\n",
              "</style>\n",
              "<table border=\"1\" class=\"dataframe\">\n",
              "  <thead>\n",
              "    <tr style=\"text-align: right;\">\n",
              "      <th></th>\n",
              "      <th>probs</th>\n",
              "    </tr>\n",
              "  </thead>\n",
              "  <tbody>\n",
              "    <tr>\n",
              "      <th>0.00</th>\n",
              "      <td>0.223958</td>\n",
              "    </tr>\n",
              "    <tr>\n",
              "      <th>0.03</th>\n",
              "      <td>0.225694</td>\n",
              "    </tr>\n",
              "    <tr>\n",
              "      <th>0.06</th>\n",
              "      <td>0.227431</td>\n",
              "    </tr>\n",
              "    <tr>\n",
              "      <th>0.08</th>\n",
              "      <td>0.230903</td>\n",
              "    </tr>\n",
              "    <tr>\n",
              "      <th>0.13</th>\n",
              "      <td>0.232639</td>\n",
              "    </tr>\n",
              "    <tr>\n",
              "      <th>...</th>\n",
              "      <td>...</td>\n",
              "    </tr>\n",
              "    <tr>\n",
              "      <th>101.52</th>\n",
              "      <td>0.993056</td>\n",
              "    </tr>\n",
              "    <tr>\n",
              "      <th>120.49</th>\n",
              "      <td>0.994792</td>\n",
              "    </tr>\n",
              "    <tr>\n",
              "      <th>125.22</th>\n",
              "      <td>0.996528</td>\n",
              "    </tr>\n",
              "    <tr>\n",
              "      <th>131.17</th>\n",
              "      <td>0.998264</td>\n",
              "    </tr>\n",
              "    <tr>\n",
              "      <th>144.65</th>\n",
              "      <td>1.000000</td>\n",
              "    </tr>\n",
              "  </tbody>\n",
              "</table>\n",
              "<p>408 rows × 1 columns</p>\n",
              "</div>"
            ],
            "text/plain": [
              "0.00      0.223958\n",
              "0.03      0.225694\n",
              "0.06      0.227431\n",
              "0.08      0.230903\n",
              "0.13      0.232639\n",
              "            ...   \n",
              "101.52    0.993056\n",
              "120.49    0.994792\n",
              "125.22    0.996528\n",
              "131.17    0.998264\n",
              "144.65    1.000000\n",
              "Name: suicides_per_100k, Length: 408, dtype: float64"
            ]
          },
          "metadata": {
            "tags": []
          },
          "execution_count": 177
        }
      ]
    },
    {
      "cell_type": "markdown",
      "metadata": {
        "id": "eDsXmM31sBDf"
      },
      "source": [
        "Now we plot this distribution from 1985:"
      ]
    },
    {
      "cell_type": "code",
      "metadata": {
        "colab": {
          "base_uri": "https://localhost:8080/",
          "height": 297
        },
        "id": "oJomeboesJgy",
        "outputId": "a8956ebd-cfe3-408b-90ce-4c12c0a1bdd7"
      },
      "source": [
        "cdf85.plot(label='1985', color='C0', alpha = 1 )\n",
        "\n",
        "decorate(xlabel='Suicide rate per 100K people',\n",
        "         ylabel='Probability in Population',\n",
        "         title='Distribution of suicide rates')\n",
        "\n",
        "plt.legend();"
      ],
      "execution_count": 178,
      "outputs": [
        {
          "output_type": "display_data",
          "data": {
            "image/png": "[encoded data removed]",
            "text/plain": [
              "<Figure size 432x288 with 1 Axes>"
            ]
          },
          "metadata": {
            "tags": [],
            "needs_background": "light"
          }
        }
      ]
    },
    {
      "cell_type": "markdown",
      "metadata": {
        "id": "WN3s5ELns7_G"
      },
      "source": [
        "Here's the distribution from 2015:"
      ]
    },
    {
      "cell_type": "code",
      "metadata": {
        "colab": {
          "base_uri": "https://localhost:8080/",
          "height": 682
        },
        "id": "n18OMfnftHHx",
        "outputId": "91703d6a-ef71-404b-ac18-e241181409da"
      },
      "source": [
        "cdf15 =  Cdf.from_seq(suicide15_per_100k)\n",
        "cdf15.plot(label='2015', color='C1', alpha = 0.7 )\n",
        "\n",
        "decorate(xlabel='Suicide rate per 100K people',\n",
        "         ylabel='Probability in Population',\n",
        "         title='Distribution of suicide rates')\n",
        "\n",
        "plt.legend();\n",
        "cdf15"
      ],
      "execution_count": 179,
      "outputs": [
        {
          "output_type": "execute_result",
          "data": {
            "text/html": [
              "<div>\n",
              "<style scoped>\n",
              "    .dataframe tbody tr th:only-of-type {\n",
              "        vertical-align: middle;\n",
              "    }\n",
              "\n",
              "    .dataframe tbody tr th {\n",
              "        vertical-align: top;\n",
              "    }\n",
              "\n",
              "    .dataframe thead th {\n",
              "        text-align: right;\n",
              "    }\n",
              "</style>\n",
              "<table border=\"1\" class=\"dataframe\">\n",
              "  <thead>\n",
              "    <tr style=\"text-align: right;\">\n",
              "      <th></th>\n",
              "      <th>probs</th>\n",
              "    </tr>\n",
              "  </thead>\n",
              "  <tbody>\n",
              "    <tr>\n",
              "      <th>0.00</th>\n",
              "      <td>0.107527</td>\n",
              "    </tr>\n",
              "    <tr>\n",
              "      <th>0.04</th>\n",
              "      <td>0.108871</td>\n",
              "    </tr>\n",
              "    <tr>\n",
              "      <th>0.10</th>\n",
              "      <td>0.111559</td>\n",
              "    </tr>\n",
              "    <tr>\n",
              "      <th>0.11</th>\n",
              "      <td>0.112903</td>\n",
              "    </tr>\n",
              "    <tr>\n",
              "      <th>0.14</th>\n",
              "      <td>0.114247</td>\n",
              "    </tr>\n",
              "    <tr>\n",
              "      <th>...</th>\n",
              "      <td>...</td>\n",
              "    </tr>\n",
              "    <tr>\n",
              "      <th>82.62</th>\n",
              "      <td>0.994624</td>\n",
              "    </tr>\n",
              "    <tr>\n",
              "      <th>84.09</th>\n",
              "      <td>0.995968</td>\n",
              "    </tr>\n",
              "    <tr>\n",
              "      <th>91.42</th>\n",
              "      <td>0.997312</td>\n",
              "    </tr>\n",
              "    <tr>\n",
              "      <th>99.45</th>\n",
              "      <td>0.998656</td>\n",
              "    </tr>\n",
              "    <tr>\n",
              "      <th>140.74</th>\n",
              "      <td>1.000000</td>\n",
              "    </tr>\n",
              "  </tbody>\n",
              "</table>\n",
              "<p>570 rows × 1 columns</p>\n",
              "</div>"
            ],
            "text/plain": [
              "0.00      0.107527\n",
              "0.04      0.108871\n",
              "0.10      0.111559\n",
              "0.11      0.112903\n",
              "0.14      0.114247\n",
              "            ...   \n",
              "82.62     0.994624\n",
              "84.09     0.995968\n",
              "91.42     0.997312\n",
              "99.45     0.998656\n",
              "140.74    1.000000\n",
              "Name: suicides_per_100k, Length: 570, dtype: float64"
            ]
          },
          "metadata": {
            "tags": []
          },
          "execution_count": 179
        },
        {
          "output_type": "display_data",
          "data": {
            "image/png": "[encoded data removed]",
            "text/plain": [
              "<Figure size 432x288 with 1 Axes>"
            ]
          },
          "metadata": {
            "tags": [],
            "needs_background": "light"
          }
        }
      ]
    },
    {
      "cell_type": "markdown",
      "metadata": {
        "id": "aUGGk2LotsJK"
      },
      "source": [
        "In both cases, we observe that the probaility of observing a suicide rate of below about 20 per 100K people is 80%. Rates above that can be considered unusual but not unlikely.\n",
        "\n",
        "To make it easier to compare the distributions, we'll plot them side by side."
      ]
    },
    {
      "cell_type": "code",
      "metadata": {
        "colab": {
          "base_uri": "https://localhost:8080/",
          "height": 297
        },
        "id": "BN155oCxtrrt",
        "outputId": "54714879-0fe6-48e7-d45d-4f6c0672ccee"
      },
      "source": [
        "cdf85.plot(label='1985', color='C0', alpha = 1 )\n",
        "cdf15.plot(label='2015', color='C1', alpha = 0.7 )\n",
        "\n",
        "decorate(xlabel='Suicide rate per 100K people',\n",
        "         ylabel='Probability in Population',\n",
        "         title='Distribution of suicide rates')\n",
        "\n",
        "plt.legend();"
      ],
      "execution_count": 180,
      "outputs": [
        {
          "output_type": "display_data",
          "data": {
            "image/png": "[encoded data removed]",
            "text/plain": [
              "<Figure size 432x288 with 1 Axes>"
            ]
          },
          "metadata": {
            "tags": [],
            "needs_background": "light"
          }
        }
      ]
    },
    {
      "cell_type": "markdown",
      "metadata": {
        "id": "8JT9vU5Bwa4W"
      },
      "source": [
        "Now we can see the changes in the distribution more clearly. It looks like the rates has not really changed much in the past 30 years."
      ]
    },
    {
      "cell_type": "markdown",
      "metadata": {
        "id": "UYBvp2QlxIj2"
      },
      "source": [
        " To summarize these changes, we can compare the mean and standard deviation of suicide rates in 1985 and 2015.\n",
        "\n",
        "The mean of the responses measures the balance of lives lost in the population through suicide. If the mean increases over time, that might indicate a high number of lives lost through suicide.\n",
        "\n",
        "The standard deviation measures the dispersion of rates in the population; if it increases over time, that might indicate an increase in the spread of rates as well."
      ]
    },
    {
      "cell_type": "markdown",
      "metadata": {
        "id": "VluRNyMJzqRZ"
      },
      "source": [
        "Here's the mean and standard deviation from 1985 and 2015:"
      ]
    },
    {
      "cell_type": "code",
      "metadata": {
        "colab": {
          "base_uri": "https://localhost:8080/"
        },
        "id": "XfQJaJO2y7eO",
        "outputId": "4c71ef4d-f672-4855-aebb-ddf2670c359b"
      },
      "source": [
        "mean85 = suicide85_per_100k.mean()\n",
        "std85 = suicide85_per_100k.std()\n",
        "(mean85,std85)"
      ],
      "execution_count": 181,
      "outputs": [
        {
          "output_type": "execute_result",
          "data": {
            "text/plain": [
              "(11.826197916666661, 19.216258721669814)"
            ]
          },
          "metadata": {
            "tags": []
          },
          "execution_count": 181
        }
      ]
    },
    {
      "cell_type": "code",
      "metadata": {
        "colab": {
          "base_uri": "https://localhost:8080/"
        },
        "id": "lJPPgucWzpIw",
        "outputId": "0e8a1bb1-62ad-4463-fba1-a4c54003350f"
      },
      "source": [
        "mean15 = suicide15_per_100k.mean()\n",
        "std15 = suicide15_per_100k.std()\n",
        "(mean15,std15)"
      ],
      "execution_count": 182,
      "outputs": [
        {
          "output_type": "execute_result",
          "data": {
            "text/plain": [
              "(11.094072580645154, 15.144090904167951)"
            ]
          },
          "metadata": {
            "tags": []
          },
          "execution_count": 182
        }
      ]
    },
    {
      "cell_type": "markdown",
      "metadata": {
        "id": "76QuqU4B0YLF"
      },
      "source": [
        "We can see that the mean has decreased a little over time. Which means that the reates are slowly reducing. Also, the standard deviartion has greatly reduce, which means the rates are not really spread out in the population. It could be that there are less groups of people committing suicider by, for example, age group or gender"
      ]
    },
    {
      "cell_type": "markdown",
      "metadata": {
        "id": "WrPPQZTR1nC3"
      },
      "source": [
        "## Exploration of GDP\n",
        "\n",
        "Our focus is on suicide rates and GDP. Now we focus on doing a similar analysis for GDP. We use GDP per capita which is the avaerage level of national income per person.\n",
        "\n",
        "Let's get GDP per capita for 1985 and plot the CDF for it:"
      ]
    },
    {
      "cell_type": "code",
      "metadata": {
        "colab": {
          "base_uri": "https://localhost:8080/",
          "height": 297
        },
        "id": "DSu5l4Z48j4z",
        "outputId": "d9ff8915-fc27-4dcd-e95f-0fa43748610d"
      },
      "source": [
        "gdp_per_capita = df['gdp_per_capita']\n",
        "year85 = (df['year'] == 1985)\n",
        "gdp_per_capita85 = gdp_per_capita[year85]\n",
        "cdf85 =  Cdf.from_seq(gdp_per_capita85)\n",
        "cdf85.plot(label='1985', color='C1', alpha = 0.7 )\n",
        "\n",
        "decorate(xlabel='GDP per capita across population',\n",
        "         ylabel='Probability in Population',\n",
        "         title='Distribution of GDP per Capita')\n",
        "\n",
        "plt.legend();"
      ],
      "execution_count": 183,
      "outputs": [
        {
          "output_type": "display_data",
          "data": {
            "image/png": "[encoded data removed]",
            "text/plain": [
              "<Figure size 432x288 with 1 Axes>"
            ]
          },
          "metadata": {
            "tags": [],
            "needs_background": "light"
          }
        }
      ]
    },
    {
      "cell_type": "markdown",
      "metadata": {
        "id": "UI__0x5XIH78"
      },
      "source": [
        "Let's repeat for 2015:\n"
      ]
    },
    {
      "cell_type": "code",
      "metadata": {
        "colab": {
          "base_uri": "https://localhost:8080/",
          "height": 297
        },
        "id": "2RN__gqwINmv",
        "outputId": "91851112-dd66-4a9d-dabb-ad49212daac7"
      },
      "source": [
        "\n",
        "year15 = (df['year'] == 2015)\n",
        "gdp_per_capita15 = gdp_per_capita[year15]\n",
        "cdf15 =  Cdf.from_seq(gdp_per_capita15)\n",
        "cdf15.plot(label='2015', color='C2', alpha = 0.7 )\n",
        "\n",
        "decorate(xlabel='GDP per capita across population',\n",
        "         ylabel='Probability in Population',\n",
        "         title='Distribution of GDP per Capita')\n",
        "\n",
        "plt.legend();"
      ],
      "execution_count": 184,
      "outputs": [
        {
          "output_type": "display_data",
          "data": {
            "image/png": "[encoded data removed]",
            "text/plain": [
              "<Figure size 432x288 with 1 Axes>"
            ]
          },
          "metadata": {
            "tags": [],
            "needs_background": "light"
          }
        }
      ]
    },
    {
      "cell_type": "markdown",
      "metadata": {
        "id": "j4VR_BvNKkq3"
      },
      "source": [
        "Now we plot them side by side to see the trend"
      ]
    },
    {
      "cell_type": "code",
      "metadata": {
        "colab": {
          "base_uri": "https://localhost:8080/",
          "height": 297
        },
        "id": "f3PbXwHNMsTe",
        "outputId": "9c7cd436-3b2e-43c0-9403-f8837a41579e"
      },
      "source": [
        "cdf15.plot(label='2015', color='C2', alpha = 1.0 )\n",
        "cdf85.plot(label='1985', color='C1', alpha = 1.0 )\n",
        "\n",
        "decorate(xlabel='GDP per capita across population',\n",
        "         ylabel='Probability in Population',\n",
        "         title='Distribution of GDP per Capita')\n",
        "\n",
        "plt.legend();"
      ],
      "execution_count": 185,
      "outputs": [
        {
          "output_type": "display_data",
          "data": {
            "image/png": "[encoded data removed]",
            "text/plain": [
              "<Figure size 432x288 with 1 Axes>"
            ]
          },
          "metadata": {
            "tags": [],
            "needs_background": "light"
          }
        }
      ]
    },
    {
      "cell_type": "markdown",
      "metadata": {
        "id": "T64aJD8YS1Nu"
      },
      "source": [
        "The graph shows the wealth disparity between 1985 and 2015. In 1985, the disparity between GDP per capita of the recorded nations was much smaller than in 2015"
      ]
    },
    {
      "cell_type": "markdown",
      "metadata": {
        "id": "XTkf0VqKTqMP"
      },
      "source": [
        "Here's the mean and standard deviation from 1985 and 2015 for GDP per capita:"
      ]
    },
    {
      "cell_type": "code",
      "metadata": {
        "colab": {
          "base_uri": "https://localhost:8080/"
        },
        "id": "RGcKJpzdTueg",
        "outputId": "de79149b-7935-44e8-975d-54bbce66eeca"
      },
      "source": [
        "mean85 = gdp_per_capita85.mean()\n",
        "std85 = gdp_per_capita85.std()\n",
        "(mean85,std85)"
      ],
      "execution_count": 186,
      "outputs": [
        {
          "output_type": "execute_result",
          "data": {
            "text/plain": [
              "(6091.229166666667, 4732.247733187785)"
            ]
          },
          "metadata": {
            "tags": []
          },
          "execution_count": 186
        }
      ]
    },
    {
      "cell_type": "code",
      "metadata": {
        "colab": {
          "base_uri": "https://localhost:8080/"
        },
        "id": "vfW4pghBT1HM",
        "outputId": "e67f2f6a-9cea-4762-f2e4-839ecad156df"
      },
      "source": [
        "mean15 = gdp_per_capita15.mean()\n",
        "std15 = gdp_per_capita15.std()\n",
        "(mean15,std15)"
      ],
      "execution_count": 187,
      "outputs": [
        {
          "output_type": "execute_result",
          "data": {
            "text/plain": [
              "(26231.1935483871, 24035.98965336343)"
            ]
          },
          "metadata": {
            "tags": []
          },
          "execution_count": 187
        }
      ]
    },
    {
      "cell_type": "markdown",
      "metadata": {
        "id": "CsszDiZ3bNIT"
      },
      "source": [
        "Aided by the mean and standard deviation, we can confirm GDP per capita has increased on through out the population. However, the disparity too as indicated by the standard deviation increased by a factor of almost 6.This paints a picture of increased inequality in the world."
      ]
    },
    {
      "cell_type": "markdown",
      "metadata": {
        "id": "hd1LHcmvc87o"
      },
      "source": [
        "## Time series\n",
        "\n",
        "At this point we have looked at the endpoints, 1985 and 2015, but we don't know what happened in between. Let us see the list of countries we have after removing HDI, 2016 and missing data\n",
        "\n",
        "\n"
      ]
    },
    {
      "cell_type": "code",
      "metadata": {
        "colab": {
          "base_uri": "https://localhost:8080/"
        },
        "id": "TGknsRe8k8Xj",
        "outputId": "3f7878ac-c11e-4076-9cef-8192e20db5c8"
      },
      "source": [
        "df['country'].unique()"
      ],
      "execution_count": 188,
      "outputs": [
        {
          "output_type": "execute_result",
          "data": {
            "text/plain": [
              "array(['Albania', 'Antigua and Barbuda', 'Argentina', 'Armenia', 'Aruba',\n",
              "       'Australia', 'Austria', 'Azerbaijan', 'Bahamas', 'Bahrain',\n",
              "       'Barbados', 'Belarus', 'Belgium', 'Belize',\n",
              "       'Bosnia and Herzegovina', 'Brazil', 'Bulgaria', 'Cabo Verde',\n",
              "       'Canada', 'Chile', 'Colombia', 'Costa Rica', 'Croatia', 'Cuba',\n",
              "       'Cyprus', 'Czech Republic', 'Denmark', 'Dominica', 'Ecuador',\n",
              "       'El Salvador', 'Estonia', 'Fiji', 'Finland', 'France', 'Georgia',\n",
              "       'Germany', 'Greece', 'Grenada', 'Guatemala', 'Guyana', 'Hungary',\n",
              "       'Iceland', 'Ireland', 'Israel', 'Italy', 'Jamaica', 'Japan',\n",
              "       'Kazakhstan', 'Kiribati', 'Kuwait', 'Kyrgyzstan', 'Latvia',\n",
              "       'Lithuania', 'Luxembourg', 'Macau', 'Maldives', 'Malta',\n",
              "       'Mauritius', 'Mexico', 'Mongolia', 'Montenegro', 'Netherlands',\n",
              "       'New Zealand', 'Nicaragua', 'Norway', 'Oman', 'Panama', 'Paraguay',\n",
              "       'Philippines', 'Poland', 'Portugal', 'Puerto Rico', 'Qatar',\n",
              "       'Republic of Korea', 'Romania', 'Russian Federation',\n",
              "       'Saint Kitts and Nevis', 'Saint Lucia',\n",
              "       'Saint Vincent and Grenadines', 'San Marino', 'Serbia',\n",
              "       'Seychelles', 'Singapore', 'Slovakia', 'Slovenia', 'South Africa',\n",
              "       'Spain', 'Sri Lanka', 'Suriname', 'Sweden', 'Switzerland',\n",
              "       'Thailand', 'Trinidad and Tobago', 'Turkey', 'Turkmenistan',\n",
              "       'Ukraine', 'United Arab Emirates', 'United Kingdom',\n",
              "       'United States', 'Uruguay', 'Uzbekistan'], dtype=object)"
            ]
          },
          "metadata": {
            "tags": []
          },
          "execution_count": 188
        }
      ]
    },
    {
      "cell_type": "markdown",
      "metadata": {
        "id": "18oIjYZKkuQi"
      },
      "source": [
        "To see how the distribution changes over time, we can group by year and compute the mean of `suicides_per_100k` and `gdp_per_capita` during each year.\n",
        "\n",
        "First I'll use `groupby` to group the respondents by year."
      ]
    },
    {
      "cell_type": "code",
      "metadata": {
        "id": "KmgT5hcZdOeV",
        "colab": {
          "base_uri": "https://localhost:8080/",
          "height": 297
        },
        "outputId": "737fb1b5-5ba8-407d-c605-6be848817989"
      },
      "source": [
        "fullDF = df\n",
        "# Grouping by year\n",
        "fullDF_by_year = fullDF.groupby('year')\n",
        "suicide_by_year = fullDF_by_year['suicides_per_100k']\n",
        "suicide_mean = suicide_by_year.mean()\n",
        "\n",
        "# Function to decorate plot\n",
        "def decorate(**options):\n",
        "    \"\"\"Decorate the current axes.\n",
        "    Call decorate with keyword arguments like\n",
        "    decorate(title='Title',\n",
        "             xlabel='x',\n",
        "             ylabel='y')\n",
        "    The keyword arguments can be any of the axis properties\n",
        "    https://matplotlib.org/api/axes_api.html\n",
        "    \"\"\"\n",
        "    plt.gca().set(**options)\n",
        "    plt.tight_layout()\n",
        "\n",
        "  \n",
        "suicide_mean.plot(color='C2', label='suicide numbers')\n",
        "decorate(xlabel='Year', \n",
        "         ylabel='mean of suicide rate (per 100K)',\n",
        "         title='Suicide rates for all countries')\n",
        "\n",
        "\n"
      ],
      "execution_count": 189,
      "outputs": [
        {
          "output_type": "display_data",
          "data": {
            "image/png": "[encoded data removed]",
            "text/plain": [
              "<Figure size 432x288 with 1 Axes>"
            ]
          },
          "metadata": {
            "tags": [],
            "needs_background": "light"
          }
        }
      ]
    },
    {
      "cell_type": "markdown",
      "metadata": {
        "id": "cAqD7bp9fuPR"
      },
      "source": [
        "The results is a series that contains the sum of suicide rate per 100k in the whole population recorded for each year. We can see the mean peaked in 1995. \n",
        "\n",
        "\n",
        "Let's look at the mean series for gdp_per_capita"
      ]
    },
    {
      "cell_type": "code",
      "metadata": {
        "colab": {
          "base_uri": "https://localhost:8080/",
          "height": 297
        },
        "id": "wu9g79tgl5df",
        "outputId": "73552e2f-6746-41cb-8d4e-8188a8b202aa"
      },
      "source": [
        "fullDF_by_year = fullDF.groupby('year')\n",
        "gdp_by_year = fullDF_by_year['gdp_per_capita']\n",
        "gdp_mean = gdp_by_year.mean()\n",
        "\n",
        "gdp_mean.plot(color='C2', label='gdp per capita')\n",
        "decorate(xlabel='Year', \n",
        "         ylabel='mean of GDP per capita',\n",
        "         title='Mean of GDP per Capita')"
      ],
      "execution_count": 190,
      "outputs": [
        {
          "output_type": "display_data",
          "data": {
            "image/png": "[encoded data removed]",
            "text/plain": [
              "<Figure size 432x288 with 1 Axes>"
            ]
          },
          "metadata": {
            "tags": [],
            "needs_background": "light"
          }
        }
      ]
    },
    {
      "cell_type": "markdown",
      "metadata": {
        "id": "0KoCRzNtnPti"
      },
      "source": [
        "We observe that GDP per capita was seeing a steady rise until a sharp decrease around 2008. The sharp dip is most likely a result of the 2008 economic recession."
      ]
    },
    {
      "cell_type": "markdown",
      "metadata": {
        "id": "tgxlIoX8gqZL"
      },
      "source": [
        "## Top 10 Countries\n",
        "Now lets group the data by countries\n",
        "\n",
        "The country_year_range function defined below applies a filter for year range and then groups the data by country. It performs the proper grouping calculation like I commented before.\n",
        "It also adds a Years Present column to count the number of years certain country was present in the data.\n",
        "Following the coding rule: \"If you used it three times, make it a function\""
      ]
    },
    {
      "cell_type": "code",
      "metadata": {
        "id": "84Ysck1zgpvj"
      },
      "source": [
        "def country_year_range(data, start=None, end=None):\n",
        "    if (start == None) and (end == None):\n",
        "        data = data\n",
        "    \n",
        "    elif end == None:\n",
        "        data = data.query('year >= @start')\n",
        "        \n",
        "    elif start == None:\n",
        "        data = data.query('year <= @end')\n",
        "        \n",
        "    else:\n",
        "        year_range = np.arange(start, end+1)\n",
        "        data = data.query('year in @year_range')\n",
        "    \n",
        "    # Aggregating each column properly.\n",
        "    agg_dict = {'country':'count', 'year':'nunique',\n",
        "                'total_suicides':'sum', 'population':'sum',}\n",
        "    df = data[['country', 'year',\n",
        "               'total_suicides', 'population']].groupby('country').aggregate(agg_dict)\n",
        "\n",
        "    # Creating our usual feature\n",
        "    df['Avg. Suicide per 100k'] = df['total_suicides'] * 1e5 / (df['population'])\n",
        "\n",
        "    df = df.drop(['country', 'total_suicides', 'population'], axis=1)\n",
        "    df.rename(columns={'year':'Years_Present'}, inplace = True)\n",
        "    \n",
        "    return df"
      ],
      "execution_count": 191,
      "outputs": []
    },
    {
      "cell_type": "code",
      "metadata": {
        "id": "gMJAV5AliIAF",
        "colab": {
          "base_uri": "https://localhost:8080/",
          "height": 431
        },
        "outputId": "fd7317ed-7a70-4e3a-c896-9de582426338"
      },
      "source": [
        "# Country data for the whole dataset\n",
        "country_data = country_year_range(df)\n",
        "\n",
        "# Country data after (and including) 2011\n",
        "rec_country_data = country_year_range(df, start=2011)\n",
        "\n",
        "country_data"
      ],
      "execution_count": 192,
      "outputs": [
        {
          "output_type": "execute_result",
          "data": {
            "text/html": [
              "<div>\n",
              "<style scoped>\n",
              "    .dataframe tbody tr th:only-of-type {\n",
              "        vertical-align: middle;\n",
              "    }\n",
              "\n",
              "    .dataframe tbody tr th {\n",
              "        vertical-align: top;\n",
              "    }\n",
              "\n",
              "    .dataframe thead th {\n",
              "        text-align: right;\n",
              "    }\n",
              "</style>\n",
              "<table border=\"1\" class=\"dataframe\">\n",
              "  <thead>\n",
              "    <tr style=\"text-align: right;\">\n",
              "      <th></th>\n",
              "      <th>Years_Present</th>\n",
              "      <th>Avg. Suicide per 100k</th>\n",
              "    </tr>\n",
              "    <tr>\n",
              "      <th>country</th>\n",
              "      <th></th>\n",
              "      <th></th>\n",
              "    </tr>\n",
              "  </thead>\n",
              "  <tbody>\n",
              "    <tr>\n",
              "      <th>Albania</th>\n",
              "      <td>22</td>\n",
              "      <td>3.160827</td>\n",
              "    </tr>\n",
              "    <tr>\n",
              "      <th>Antigua and Barbuda</th>\n",
              "      <td>27</td>\n",
              "      <td>0.552700</td>\n",
              "    </tr>\n",
              "    <tr>\n",
              "      <th>Argentina</th>\n",
              "      <td>31</td>\n",
              "      <td>7.936309</td>\n",
              "    </tr>\n",
              "    <tr>\n",
              "      <th>Armenia</th>\n",
              "      <td>25</td>\n",
              "      <td>2.462889</td>\n",
              "    </tr>\n",
              "    <tr>\n",
              "      <th>Aruba</th>\n",
              "      <td>14</td>\n",
              "      <td>8.017928</td>\n",
              "    </tr>\n",
              "    <tr>\n",
              "      <th>...</th>\n",
              "      <td>...</td>\n",
              "      <td>...</td>\n",
              "    </tr>\n",
              "    <tr>\n",
              "      <th>United Arab Emirates</th>\n",
              "      <td>6</td>\n",
              "      <td>1.704003</td>\n",
              "    </tr>\n",
              "    <tr>\n",
              "      <th>United Kingdom</th>\n",
              "      <td>31</td>\n",
              "      <td>7.867928</td>\n",
              "    </tr>\n",
              "    <tr>\n",
              "      <th>United States</th>\n",
              "      <td>31</td>\n",
              "      <td>12.838459</td>\n",
              "    </tr>\n",
              "    <tr>\n",
              "      <th>Uruguay</th>\n",
              "      <td>28</td>\n",
              "      <td>15.627650</td>\n",
              "    </tr>\n",
              "    <tr>\n",
              "      <th>Uzbekistan</th>\n",
              "      <td>22</td>\n",
              "      <td>7.154891</td>\n",
              "    </tr>\n",
              "  </tbody>\n",
              "</table>\n",
              "<p>101 rows × 2 columns</p>\n",
              "</div>"
            ],
            "text/plain": [
              "                      Years_Present  Avg. Suicide per 100k\n",
              "country                                                   \n",
              "Albania                          22               3.160827\n",
              "Antigua and Barbuda              27               0.552700\n",
              "Argentina                        31               7.936309\n",
              "Armenia                          25               2.462889\n",
              "Aruba                            14               8.017928\n",
              "...                             ...                    ...\n",
              "United Arab Emirates              6               1.704003\n",
              "United Kingdom                   31               7.867928\n",
              "United States                    31              12.838459\n",
              "Uruguay                          28              15.627650\n",
              "Uzbekistan                       22               7.154891\n",
              "\n",
              "[101 rows x 2 columns]"
            ]
          },
          "metadata": {
            "tags": []
          },
          "execution_count": 192
        }
      ]
    },
    {
      "cell_type": "markdown",
      "metadata": {
        "id": "vWQsqJg8iOGT"
      },
      "source": [
        "The graph plotted below shows a 2 x 2 grid with the highest/lowest suicide rates between countries for all years and for the LAST FIVE YEARS of our dataset.\n",
        "\n",
        "I have applied filters to include only countries with at least 20 years of data for all years and at least 4 years of data for the last 5 years. (these numbers were chosen arbitrarly to reduce noise from countries with few data points)."
      ]
    },
    {
      "cell_type": "code",
      "metadata": {
        "colab": {
          "base_uri": "https://localhost:8080/",
          "height": 548
        },
        "id": "HEM1iffXiI4X",
        "outputId": "81ccd8e4-5a08-4f44-b967-cd4b9342f2a5"
      },
      "source": [
        "frequent_countries = country_data.sort_values('Avg. Suicide per 100k', ascending=False)\n",
        "frequent_countries = frequent_countries.query(\"Years_Present >= 15\")\n",
        "\n",
        "r_frequent_countries = rec_country_data.sort_values('Avg. Suicide per 100k', ascending=False)\n",
        "r_frequent_countries = r_frequent_countries.query(\"Years_Present >= 4\")\n",
        "\n",
        "\n",
        "# Defining the 2 x 2 graph grid\n",
        "fig, (row1, row2) = plt.subplots(2,2, figsize=(10,6), dpi=90, sharex=True)\n",
        "\n",
        "\n",
        "# FIRST ROW\n",
        "# Left Graph\n",
        "row1[0].set_title('Highest Suicide Rates 1985~2015')\n",
        "sns.barplot(data=frequent_countries[:10], x='Avg. Suicide per 100k',\n",
        "            y=frequent_countries[:10].index, ax=row1[0], palette='magma')\n",
        "row1[0].xaxis.label.set_visible(False)\n",
        "row1[0].yaxis.label.set_visible(False)\n",
        "row1[0].xaxis.set_ticks_position('top')\n",
        "\n",
        "# Right Graph\n",
        "row1[1].set_title('Lowest Suicide Rates 1985~2015')\n",
        "sns.barplot(data=frequent_countries[-10:], x='Avg. Suicide per 100k',\n",
        "            y=frequent_countries[-10:].index, ax=row1[1], palette='BuGn')\n",
        "row1[1].xaxis.label.set_visible(False)\n",
        "row1[1].yaxis.label.set_visible(False)\n",
        "row1[1].xaxis.set_ticks_position('top')\n",
        "\n",
        "\n",
        "# SECOND ROW\n",
        "# Left Graph\n",
        "row2[0].set_title('Highest Suicide Rates 2011~2015')\n",
        "sns.barplot(data=r_frequent_countries[:10], x='Avg. Suicide per 100k',\n",
        "            y=r_frequent_countries[:10].index, ax=row2[0], palette='magma')\n",
        "row2[0].yaxis.label.set_visible(False)\n",
        "\n",
        "# Right Graph\n",
        "row2[1].set_title('Lowest Suicide Rates 2011~2015')\n",
        "sns.barplot(data=r_frequent_countries[-10:], x='Avg. Suicide per 100k',\n",
        "            y=r_frequent_countries[-10:].index, ax=row2[1], palette='BuGn')\n",
        "row2[1].yaxis.label.set_visible(False)\n",
        "\n",
        "plt.tight_layout();"
      ],
      "execution_count": 193,
      "outputs": [
        {
          "output_type": "display_data",
          "data": {
            "image/png": "[encoded data removed]",
            "text/plain": [
              "<Figure size 900x540 with 4 Axes>"
            ]
          },
          "metadata": {
            "tags": [],
            "needs_background": "light"
          }
        }
      ]
    },
    {
      "cell_type": "markdown",
      "metadata": {
        "id": "_T5KfA0nEppQ"
      },
      "source": [
        "## The 1995 Increase in Suicide Rates\n",
        "\n",
        "To analyse this phenomenon I will gather data from 1995 and from a previous year. I arbitrarly chose to compare it to 1989 by looking at the graph from \n",
        "the prevuous section"
      ]
    },
    {
      "cell_type": "markdown",
      "metadata": {
        "id": "QActQSScHihW"
      },
      "source": [
        "To get the table below\n",
        "\n",
        "1.   Grouped the data by country and year, summing population and suicides and then calculating the ratio\n",
        "2.   Filtered the data for 1989 and 1995 only, and then created a pivot table with those years as different columns\n",
        "1.   Ordered the table by the changes in number of suicides descending.\n",
        "\n",
        "\n",
        "\n"
      ]
    },
    {
      "cell_type": "code",
      "metadata": {
        "id": "8VN1j12ZFZij",
        "colab": {
          "base_uri": "https://localhost:8080/",
          "height": 284
        },
        "outputId": "3da07002-0d8f-426a-ff81-906fd49684ae"
      },
      "source": [
        "country_year_gb = df.groupby(['country', 'year'],\n",
        "                                  as_index=False).sum()[['country', 'year',\n",
        "                                                         'total_suicides', 'population']]\n",
        "\n",
        "country_year_gb['Suicides_per_100k'] = 1e5 * country_year_gb['total_suicides'] / country_year_gb['population']\n",
        "\n",
        "nnfive = country_year_gb.query(\"year in [1989, 1995]\").pivot_table(index='country',\n",
        "                                                                   columns='year',\n",
        "                                                                   values=['total_suicides',\n",
        "                                                                           'Suicides_per_100k'],\n",
        "                                                                   aggfunc='sum')\n",
        "\n",
        "nnfive['Changes in Number of Suicides'] = (nnfive.iloc[:,3] - nnfive.iloc[:,2])\n",
        "\n",
        "nnfive.sort_values('Changes in Number of Suicides', ascending=False)[:6]"
      ],
      "execution_count": 194,
      "outputs": [
        {
          "output_type": "execute_result",
          "data": {
            "text/html": [
              "<div>\n",
              "<style scoped>\n",
              "    .dataframe tbody tr th:only-of-type {\n",
              "        vertical-align: middle;\n",
              "    }\n",
              "\n",
              "    .dataframe tbody tr th {\n",
              "        vertical-align: top;\n",
              "    }\n",
              "\n",
              "    .dataframe thead tr th {\n",
              "        text-align: left;\n",
              "    }\n",
              "\n",
              "    .dataframe thead tr:last-of-type th {\n",
              "        text-align: right;\n",
              "    }\n",
              "</style>\n",
              "<table border=\"1\" class=\"dataframe\">\n",
              "  <thead>\n",
              "    <tr>\n",
              "      <th></th>\n",
              "      <th colspan=\"2\" halign=\"left\">Suicides_per_100k</th>\n",
              "      <th colspan=\"2\" halign=\"left\">total_suicides</th>\n",
              "      <th>Changes in Number of Suicides</th>\n",
              "    </tr>\n",
              "    <tr>\n",
              "      <th>year</th>\n",
              "      <th>1989</th>\n",
              "      <th>1995</th>\n",
              "      <th>1989</th>\n",
              "      <th>1995</th>\n",
              "      <th></th>\n",
              "    </tr>\n",
              "    <tr>\n",
              "      <th>country</th>\n",
              "      <th></th>\n",
              "      <th></th>\n",
              "      <th></th>\n",
              "      <th></th>\n",
              "      <th></th>\n",
              "    </tr>\n",
              "  </thead>\n",
              "  <tbody>\n",
              "    <tr>\n",
              "      <th>Russian Federation</th>\n",
              "      <td>27.997590</td>\n",
              "      <td>43.532434</td>\n",
              "      <td>37921.0</td>\n",
              "      <td>60548.0</td>\n",
              "      <td>22627.0</td>\n",
              "    </tr>\n",
              "    <tr>\n",
              "      <th>Ukraine</th>\n",
              "      <td>22.794415</td>\n",
              "      <td>30.033894</td>\n",
              "      <td>10887.0</td>\n",
              "      <td>14541.0</td>\n",
              "      <td>3654.0</td>\n",
              "    </tr>\n",
              "    <tr>\n",
              "      <th>Brazil</th>\n",
              "      <td>3.471252</td>\n",
              "      <td>4.514324</td>\n",
              "      <td>4463.0</td>\n",
              "      <td>6536.0</td>\n",
              "      <td>2073.0</td>\n",
              "    </tr>\n",
              "    <tr>\n",
              "      <th>Republic of Korea</th>\n",
              "      <td>7.717346</td>\n",
              "      <td>11.505262</td>\n",
              "      <td>3023.0</td>\n",
              "      <td>4841.0</td>\n",
              "      <td>1818.0</td>\n",
              "    </tr>\n",
              "    <tr>\n",
              "      <th>United States</th>\n",
              "      <td>13.167630</td>\n",
              "      <td>12.860446</td>\n",
              "      <td>30218.0</td>\n",
              "      <td>31272.0</td>\n",
              "      <td>1054.0</td>\n",
              "    </tr>\n",
              "    <tr>\n",
              "      <th>Mexico</th>\n",
              "      <td>2.613546</td>\n",
              "      <td>3.599530</td>\n",
              "      <td>1865.0</td>\n",
              "      <td>2877.0</td>\n",
              "      <td>1012.0</td>\n",
              "    </tr>\n",
              "  </tbody>\n",
              "</table>\n",
              "</div>"
            ],
            "text/plain": [
              "                   Suicides_per_100k  ... Changes in Number of Suicides\n",
              "year                            1989  ...                              \n",
              "country                               ...                              \n",
              "Russian Federation         27.997590  ...                       22627.0\n",
              "Ukraine                    22.794415  ...                        3654.0\n",
              "Brazil                      3.471252  ...                        2073.0\n",
              "Republic of Korea           7.717346  ...                        1818.0\n",
              "United States              13.167630  ...                        1054.0\n",
              "Mexico                      2.613546  ...                        1012.0\n",
              "\n",
              "[6 rows x 5 columns]"
            ]
          },
          "metadata": {
            "tags": []
          },
          "execution_count": 194
        }
      ]
    },
    {
      "cell_type": "markdown",
      "metadata": {
        "id": "TiuU2sPKIGLQ"
      },
      "source": [
        "The numbers on Russia are impressive. Looks like Russia single-handedly increased the World's suicide average.\n",
        "Lets see how the same graphs from 3.1 looks without Russia."
      ]
    },
    {
      "cell_type": "code",
      "metadata": {
        "id": "HCRW2qPsIKyU"
      },
      "source": [
        "# Creating a filtered dataset by removing Russia and calculation our Ratio\n",
        "without_ru = df.query(\"country != 'Russian Federation'\") \\\n",
        "                .groupby('year', as_index=False).sum()\n",
        "\n",
        "without_ru['Suicides per 100k'] = 1e5 * without_ru['total_suicides']/without_ru['population']"
      ],
      "execution_count": 195,
      "outputs": []
    },
    {
      "cell_type": "code",
      "metadata": {
        "id": "UcxVCLVzJU5y"
      },
      "source": [
        "agg_dict = {'country':'nunique', 'population':'sum', 'total_suicides':'sum'}\n",
        "yearly_data = df[['year', 'country', \n",
        "                       'population',\n",
        "                       'total_suicides']].groupby('year', as_index=False).agg(agg_dict)\n",
        "\n",
        "yearly_data.rename(columns={'population':'Population',\n",
        "                            'total_suicides':'Total Suicides'}, inplace=True)\n",
        "yearly_data['Suicides by 100k people'] = 100000 * yearly_data['Total Suicides'] / ( yearly_data['Population'] )\n"
      ],
      "execution_count": 196,
      "outputs": []
    },
    {
      "cell_type": "markdown",
      "metadata": {
        "id": "S-ebT_OmLL0d"
      },
      "source": [
        "For the next steps: \n",
        "\n",
        "\n",
        "We defined both Y-axis so that both measures have the same relative change and can be better interpreted. In other words, the vertical distance between the dashed line and the solid line mean the same thing in terms of percentage change for both plots.\n",
        "That way we can see that suicide numbers had a larger increase when adding Russia compared to the increase in population, specially between 1995 and 2005."
      ]
    },
    {
      "cell_type": "code",
      "metadata": {
        "id": "rtAYjaMJIf7K",
        "colab": {
          "base_uri": "https://localhost:8080/",
          "height": 368
        },
        "outputId": "5c246e1d-8069-478e-e390-3b3a607dbee8"
      },
      "source": [
        "## Primary Axis - Population\n",
        "# Plotting\n",
        "fig, ax1 = plt.subplots(1,1,figsize=(10,4), dpi=90, sharey=False)\n",
        "\n",
        "yearly_data.plot(x='year', y='Population', ax=ax1,\n",
        "                 label='Population with Russia', c='C0', ls='-')\n",
        "\n",
        "without_ru.plot(x='year', y='population', ax=ax1,\n",
        "                    label='Population without Russia', c='C0', ls='--')\n",
        "\n",
        "# Formatting\n",
        "ax1.set_ylim(1e9, 2.6e9)\n",
        "ax1.set_yticks([1e9, 1.4e9, 1.8e9, 2.2e9, 2.6e9])\n",
        "ax1.grid(False)\n",
        "ax1.set_ylabel('Population')\n",
        "\n",
        "## Secondary Axis - Suicides\n",
        "# Plotting\n",
        "ax1b = ax1.twinx()\n",
        "yearly_data.plot(x='year', y='Total Suicides', ax=ax1b, c='C3',\n",
        "                 ls='-', label='Suicides with Russia')\n",
        "without_ru.plot(x='year', y='total_suicides', ax=ax1b, c='C3',\n",
        "                    ls='-.', label='Suicides without Russia')\n",
        "# Formatting\n",
        "ax1b.set_ylim(1e5, 2.6e5)\n",
        "ax1b.grid(False)\n",
        "ax1b.set_ylabel('Suicides')\n",
        "ax1b.set_yticks([1e5, 1.4e5, 1.8e5, 2.2e5, 2.6e5])\n",
        "\n",
        "plt.tight_layout()\n",
        "ax1.legend(bbox_to_anchor=(1, 0.2));"
      ],
      "execution_count": 197,
      "outputs": [
        {
          "output_type": "display_data",
          "data": {
            "image/png": "[encoded data removed]",
            "text/plain": [
              "<Figure size 900x360 with 2 Axes>"
            ]
          },
          "metadata": {
            "tags": [],
            "needs_background": "light"
          }
        }
      ]
    },
    {
      "cell_type": "code",
      "metadata": {
        "id": "xW-P2fuXL1b4"
      },
      "source": [
        "# Defining this because I will use it to make the plots somewhat standard\n",
        "\n",
        "def standard_plot(title=None, x=None, y=None):\n",
        "    \n",
        "    fig, ax = plt.subplots(figsize=(12,4), dpi=80)\n",
        "    \n",
        "    ax.grid(False)\n",
        "    ax.spines['right'].set_visible(False)\n",
        "    ax.spines['top'].set_visible(False)\n",
        "    ax.xaxis.label.set_fontsize(12)\n",
        "    ax.yaxis.label.set_fontsize(14)\n",
        "   \n",
        "    if title != None:\n",
        "        ax.set_title(title)\n",
        "        ax.title.set_fontsize(15)\n",
        "        \n",
        "    if x != None:\n",
        "        ax.set_xlabel(x)\n",
        "        \n",
        "    if y != None:\n",
        "        ax.set_ylabel(y)\n",
        "          \n",
        "    return fig, ax"
      ],
      "execution_count": 198,
      "outputs": []
    },
    {
      "cell_type": "code",
      "metadata": {
        "id": "MZVdMjLfLr06",
        "colab": {
          "base_uri": "https://localhost:8080/",
          "height": 330
        },
        "outputId": "c330cc8c-b106-4d84-e9b1-31416dc09ce7"
      },
      "source": [
        "fig, ax = standard_plot('Number of Suicides for every 100k people',\n",
        "                        'Year', 'Suicide Ratio per 100k')\n",
        "\n",
        "without_ru.plot(kind='line', x='year', y='Suicides per 100k',\n",
        "                    ax=ax, label='Suicides without Russia', grid=False)\n",
        "\n",
        "yearly_data.plot(kind='line', x='year', y='Suicides by 100k people',\n",
        "                 ax=ax, label='Suicides with Russia', c='C3', grid=False);"
      ],
      "execution_count": 199,
      "outputs": [
        {
          "output_type": "display_data",
          "data": {
            "image/png": "[encoded data removed]",
            "text/plain": [
              "<Figure size 960x320 with 1 Axes>"
            ]
          },
          "metadata": {
            "tags": [],
            "needs_background": "light"
          }
        }
      ]
    },
    {
      "cell_type": "markdown",
      "metadata": {
        "id": "V4PG93l_MTyi"
      },
      "source": [
        "Apparently Russia has a serious problem on this delicate subject. I come from Ghana and I didn't have a clue on this.\n",
        "Some researchers attribute this to alcooholism [(link)](https://www.ncbi.nlm.nih.gov/pmc/articles/PMC1642767/). I will not dive into this as I was totally unaware of this problem up until this analysis"
      ]
    },
    {
      "cell_type": "markdown",
      "metadata": {
        "id": "eZtaIMizpE4W"
      },
      "source": [
        "## Cross Tabulations\n",
        "\n",
        "In this section, explore the possible relationships between gender, age group and suicide rate. Specifically, we'll compute the number of respondents in each category for each year, and plot changes over time.\n",
        "\n",
        "Pandas provides a function called crosstab that computes a cross tabulation.\n",
        "\n",
        "It takes two Series as arguments and returns a DataFrame."
      ]
    },
    {
      "cell_type": "code",
      "metadata": {
        "id": "_C4IT_mxjzGx",
        "colab": {
          "base_uri": "https://localhost:8080/",
          "height": 225
        },
        "outputId": "c253a423-4fd6-421a-ee32-45c2f502c0d5"
      },
      "source": [
        "#cross tabulation of year and gender with mean suicide rate as values\n",
        "year = fullDF['year']\n",
        "gender = fullDF['sex']\n",
        "suicide_rate = fullDF['suicides_per_100k']\n",
        "# fullDF['country'].unique().size\n",
        "\n",
        "yearxgender = pd.crosstab( year, gender, suicide_rate, aggfunc=np.mean)\n",
        "\n",
        "yearxgender.dropna(inplace=True)\n",
        "yearxgender.head()\n"
      ],
      "execution_count": 200,
      "outputs": [
        {
          "output_type": "execute_result",
          "data": {
            "text/html": [
              "<div>\n",
              "<style scoped>\n",
              "    .dataframe tbody tr th:only-of-type {\n",
              "        vertical-align: middle;\n",
              "    }\n",
              "\n",
              "    .dataframe tbody tr th {\n",
              "        vertical-align: top;\n",
              "    }\n",
              "\n",
              "    .dataframe thead th {\n",
              "        text-align: right;\n",
              "    }\n",
              "</style>\n",
              "<table border=\"1\" class=\"dataframe\">\n",
              "  <thead>\n",
              "    <tr style=\"text-align: right;\">\n",
              "      <th>sex</th>\n",
              "      <th>female</th>\n",
              "      <th>male</th>\n",
              "    </tr>\n",
              "    <tr>\n",
              "      <th>year</th>\n",
              "      <th></th>\n",
              "      <th></th>\n",
              "    </tr>\n",
              "  </thead>\n",
              "  <tbody>\n",
              "    <tr>\n",
              "      <th>1985</th>\n",
              "      <td>5.776910</td>\n",
              "      <td>17.875486</td>\n",
              "    </tr>\n",
              "    <tr>\n",
              "      <th>1986</th>\n",
              "      <td>5.812674</td>\n",
              "      <td>17.033993</td>\n",
              "    </tr>\n",
              "    <tr>\n",
              "      <th>1987</th>\n",
              "      <td>5.732130</td>\n",
              "      <td>17.556296</td>\n",
              "    </tr>\n",
              "    <tr>\n",
              "      <th>1988</th>\n",
              "      <td>6.323401</td>\n",
              "      <td>19.095408</td>\n",
              "    </tr>\n",
              "    <tr>\n",
              "      <th>1989</th>\n",
              "      <td>6.176827</td>\n",
              "      <td>19.581314</td>\n",
              "    </tr>\n",
              "  </tbody>\n",
              "</table>\n",
              "</div>"
            ],
            "text/plain": [
              "sex     female       male\n",
              "year                     \n",
              "1985  5.776910  17.875486\n",
              "1986  5.812674  17.033993\n",
              "1987  5.732130  17.556296\n",
              "1988  6.323401  19.095408\n",
              "1989  6.176827  19.581314"
            ]
          },
          "metadata": {
            "tags": []
          },
          "execution_count": 200
        }
      ]
    },
    {
      "cell_type": "code",
      "metadata": {
        "id": "BlcnezIP1btU",
        "colab": {
          "base_uri": "https://localhost:8080/",
          "height": 89
        },
        "outputId": "fd0cee4c-7645-4ace-ab6e-be490055da76"
      },
      "source": [
        "palette = sns.color_palette('muted', 2)\n",
        "sns.palplot(palette)\n",
        "columns=['female','male']\n",
        "color_map = dict(zip(columns, palette))"
      ],
      "execution_count": 201,
      "outputs": [
        {
          "output_type": "display_data",
          "data": {
            "image/png": "[encoded data removed]",
            "text/plain": [
              "<Figure size 144x72 with 1 Axes>"
            ]
          },
          "metadata": {
            "tags": [],
            "needs_background": "light"
          }
        }
      ]
    },
    {
      "cell_type": "code",
      "metadata": {
        "id": "pipv6Zvo3MVp"
      },
      "source": [
        "from statsmodels.nonparametric.smoothers_lowess import lowess\n",
        "\n",
        "def make_lowess(series):\n",
        "    \"\"\"Use LOWESS to compute a smooth line.\n",
        "    \n",
        "    series: pd.Series\n",
        "    \n",
        "    returns: pd.Series\n",
        "    \"\"\"\n",
        "    y = series.values\n",
        "    x = series.index.values\n",
        "\n",
        "    smooth = lowess(y, x)\n",
        "    index, data = np.transpose(smooth)\n",
        "\n",
        "    return pd.Series(data, index=index) \n",
        "\n",
        "def plot_series_lowess(series, color):\n",
        "    \"\"\"Plots a series of data points and a smooth line.\n",
        "    \n",
        "    series: pd.Series\n",
        "    color: string or tuple\n",
        "    \"\"\"\n",
        "    series.plot(linewidth=0, marker='o', color=color, alpha=0.5)\n",
        "    smooth = make_lowess(series)\n",
        "    smooth.plot(label='_', color=color)\n",
        "\n",
        "def plot_columns_lowess(table, columns, colors):\n",
        "    \"\"\"Plot the columns in a DataFrame.\n",
        "    \n",
        "    table: DataFrame with a cross tabulation\n",
        "    columns: list of column names, in the desired order\n",
        "    colors: mapping from column names to colors\n",
        "    \"\"\"\n",
        "    for col in columns:\n",
        "        series = table[col]\n",
        "        plot_series_lowess(series, colors[col])\n",
        "\n",
        "def anchor_legend(x, y):\n",
        "    \"\"\"Place the upper left corner of the legend box.\n",
        "    \n",
        "    x: x coordinate\n",
        "    y: y coordinate\n",
        "    \"\"\"\n",
        "    plt.legend(bbox_to_anchor=(x, y), loc='upper left', ncol=1)"
      ],
      "execution_count": 202,
      "outputs": []
    },
    {
      "cell_type": "markdown",
      "metadata": {
        "id": "_axbBgORRMDo"
      },
      "source": [
        "Plotting the times eries of suicide rates by gender, we observe that men are almost 4 times as likely to commit suicide as compared to women"
      ]
    },
    {
      "cell_type": "code",
      "metadata": {
        "id": "6u4XgqKw6ShV",
        "colab": {
          "base_uri": "https://localhost:8080/",
          "height": 297
        },
        "outputId": "4ada74bb-ed27-4e68-ab6e-4b4f2dc58466"
      },
      "source": [
        "# Male vs Female suicide rate (per 100k)\n",
        "\n",
        "plot_columns_lowess(yearxgender, columns, color_map)\n",
        "decorate(xlabel='Year',\n",
        "         ylabel='Suicide Rate',\n",
        "         title='Suicide rate by gender',\n",
        "         xlim=[1987, 2015])\n",
        "anchor_legend(1.02, 1.02)"
      ],
      "execution_count": 203,
      "outputs": [
        {
          "output_type": "display_data",
          "data": {
            "image/png": "[encoded data removed]",
            "text/plain": [
              "<Figure size 432x288 with 1 Axes>"
            ]
          },
          "metadata": {
            "tags": [],
            "needs_background": "light"
          }
        }
      ]
    },
    {
      "cell_type": "markdown",
      "metadata": {
        "id": "owU8by-BRbvX"
      },
      "source": [
        "Plotting the time series of suicide rates by age group, we observe that people older than 75 are almost twice as likely to commit suicide as compared as those between 25 and 74 cumulatively. People under the age of 15 are the least likely to commit suicide"
      ]
    },
    {
      "cell_type": "code",
      "metadata": {
        "id": "Ov-V2BYG8B2y",
        "colab": {
          "base_uri": "https://localhost:8080/",
          "height": 297
        },
        "outputId": "067ed2bb-8bde-491e-d593-51be1ae771e8"
      },
      "source": [
        "#cross tabulation of year and age with mean suicide rate as values\n",
        "age = fullDF['age']\n",
        "\n",
        "yearxage = pd.crosstab( year, age, suicide_rate, aggfunc=np.mean)\n",
        "\n",
        "yearxage.dropna(inplace=True)\n",
        "palette1 = sns.color_palette('muted', 6)\n",
        "columns1=['15-24 years','25-34 years', '35-54 years', '5-14 years', '55-74 years', '75+ years']\n",
        "color_map2 = dict(zip(columns1, palette1))\n",
        "\n",
        "\n",
        "# Age group suicide rate (per 100k)\n",
        "\n",
        "plot_columns_lowess(yearxage, columns1, color_map2)\n",
        "decorate(xlabel='Year',\n",
        "         ylabel='Suicide Rate',\n",
        "         title='Suicide rate (per 100k) by age group',\n",
        "         xlim=[1987, 2015])\n",
        "anchor_legend(1.02, 1.02)"
      ],
      "execution_count": 204,
      "outputs": [
        {
          "output_type": "display_data",
          "data": {
            "image/png": "[encoded data removed]",
            "text/plain": [
              "<Figure size 432x288 with 1 Axes>"
            ]
          },
          "metadata": {
            "tags": [],
            "needs_background": "light"
          }
        }
      ]
    },
    {
      "cell_type": "markdown",
      "metadata": {
        "id": "IqmnkKvCSLSi"
      },
      "source": [
        "Plotting the time series of male suicide rates by age group, we see that it follows the trends observed in the suicide rates by age."
      ]
    },
    {
      "cell_type": "code",
      "metadata": {
        "id": "NAXid23p6XHs",
        "colab": {
          "base_uri": "https://localhost:8080/",
          "height": 297
        },
        "outputId": "746784eb-a133-485f-87cb-99ae9f3ec34b"
      },
      "source": [
        "#cross tabulation of year and age by gender (male) with mean suicide rate as values\n",
        "males = fullDF[fullDF['sex']=='male']\n",
        "\n",
        "age_male = males['age']\n",
        "\n",
        "yearxage_male = pd.crosstab( year, age_male, suicide_rate, aggfunc=np.mean)\n",
        "\n",
        "yearxage_male.dropna(inplace=True)\n",
        "\n",
        "# Male age groups suicide rate (per 100k)\n",
        "\n",
        "plot_columns_lowess(yearxage_male, columns1, color_map2)\n",
        "decorate(xlabel='Year',\n",
        "         ylabel='Suicide Rate',\n",
        "         title='Male suicide rate (per 100k) by age group',\n",
        "         xlim=[1987, 2015])\n",
        "anchor_legend(1.02, 1.02)"
      ],
      "execution_count": 205,
      "outputs": [
        {
          "output_type": "display_data",
          "data": {
            "image/png": "[encoded data removed]",
            "text/plain": [
              "<Figure size 432x288 with 1 Axes>"
            ]
          },
          "metadata": {
            "tags": [],
            "needs_background": "light"
          }
        }
      ]
    },
    {
      "cell_type": "markdown",
      "metadata": {
        "id": "Z8vfxqkPSXYv"
      },
      "source": [
        "Plotting the time series of female suicide rates by age group, we see that it follows the trends observed in the suicide rates by age. However, women are much less likely to commit suicide them men by a factor of 1/2 or less."
      ]
    },
    {
      "cell_type": "code",
      "metadata": {
        "id": "9A-fY3He6XiI",
        "colab": {
          "base_uri": "https://localhost:8080/",
          "height": 297
        },
        "outputId": "697fcfc2-a544-48a6-f78c-1704187ad752"
      },
      "source": [
        "#cross tabulation of year and age by gender (female) with mean suicide rate as values\n",
        "females = fullDF[fullDF['sex']=='female']\n",
        "\n",
        "age_female = females['age']\n",
        "\n",
        "yearxage_female = pd.crosstab( year, age_female, suicide_rate, aggfunc=np.mean)\n",
        "\n",
        "yearxage_female.dropna(inplace=True)\n",
        "\n",
        "# Male age groups suicide rate (per 100k)\n",
        "\n",
        "plot_columns_lowess(yearxage_female, columns1, color_map2)\n",
        "decorate(xlabel='Year',\n",
        "         ylabel='Suicide Rate',\n",
        "         title='Female suicide rate (per 100k) by age group',\n",
        "         xlim=[1987, 2015])\n",
        "anchor_legend(1.02, 1.02)"
      ],
      "execution_count": 206,
      "outputs": [
        {
          "output_type": "display_data",
          "data": {
            "image/png": "[encoded data removed]",
            "text/plain": [
              "<Figure size 432x288 with 1 Axes>"
            ]
          },
          "metadata": {
            "tags": [],
            "needs_background": "light"
          }
        }
      ]
    },
    {
      "cell_type": "markdown",
      "metadata": {
        "id": "lHQcu-VwT1EX"
      },
      "source": [
        "## Analysis using Regression\n",
        "\n",
        "In this section, we will use regression (multiple and logistics regression) to explore the relationships of suicide rates with variables of interest. We do this because from the visualizations we saw earlier, we see that the data's trend overtime has been non-linear. We will first explore the relationship of suicide rates with age and gender. \n"
      ]
    },
    {
      "cell_type": "code",
      "metadata": {
        "id": "l6fznR_nbJEz"
      },
      "source": [
        "import statsmodels.formula.api as smf"
      ],
      "execution_count": 207,
      "outputs": []
    },
    {
      "cell_type": "markdown",
      "metadata": {
        "id": "5OxWh2I9crwF"
      },
      "source": [
        "Let's start by exploring the regression results individually of suicide rates compared with age first, then sex. We will then add them together to perform a logistics regression."
      ]
    },
    {
      "cell_type": "code",
      "metadata": {
        "id": "sTzqnbBYcDy7",
        "colab": {
          "base_uri": "https://localhost:8080/"
        },
        "outputId": "f698c69b-3612-4368-ea67-6ffc76d9c4a5"
      },
      "source": [
        "age_model = smf.ols('suicides_per_100k ~ C(age)', data=fullDF).fit()\n",
        "age_model.params"
      ],
      "execution_count": 208,
      "outputs": [
        {
          "output_type": "execute_result",
          "data": {
            "text/plain": [
              "Intercept                 8.947154\n",
              "C(age)[T.25-34 years]     3.239731\n",
              "C(age)[T.35-54 years]     6.000287\n",
              "C(age)[T.5-14 years]     -8.327113\n",
              "C(age)[T.55-74 years]     7.208425\n",
              "C(age)[T.75+ years]      15.008255\n",
              "dtype: float64"
            ]
          },
          "metadata": {
            "tags": []
          },
          "execution_count": 208
        }
      ]
    },
    {
      "cell_type": "markdown",
      "metadata": {
        "id": "a6FTbfCWftQG"
      },
      "source": [
        "Given the regression slopes for each age group, we observe a steady increase in the slopes up until the age category 75+ where it doubles. \n",
        "\n",
        "We can interpret the regression slopes this way. Given an age category of our population, we can estimate the suicide rate of that age category to be the intercept (8.96 in our case) + the regression slope of that given age category.\n",
        "\n",
        "And given our initial visualizations of the relationship between suicide rates and age, this adds up. \n",
        "\n",
        "Doing a linear regression for gender, we see that isolating our population that gender, the male population's suicide rate would be approximately 21 suicides per 100k men. Our earlier visualization agrees with this. \n",
        "\n"
      ]
    },
    {
      "cell_type": "code",
      "metadata": {
        "id": "4hVYMPRqoeOG",
        "colab": {
          "base_uri": "https://localhost:8080/"
        },
        "outputId": "d92d763b-a3ab-46c5-f231-dc69e6328c7e"
      },
      "source": [
        "sex_model = smf.ols('suicides_per_100k ~ C(sex)', data=fullDF).fit()\n",
        "sex_model.params"
      ],
      "execution_count": 209,
      "outputs": [
        {
          "output_type": "execute_result",
          "data": {
            "text/plain": [
              "Intercept          5.392866\n",
              "C(sex)[T.male]    14.846462\n",
              "dtype: float64"
            ]
          },
          "metadata": {
            "tags": []
          },
          "execution_count": 209
        }
      ]
    },
    {
      "cell_type": "markdown",
      "metadata": {
        "id": "oB4bW7NHou1C"
      },
      "source": [
        "So now let's explore how much age and sex impact suicide rates in a population. "
      ]
    },
    {
      "cell_type": "code",
      "metadata": {
        "id": "tWG-5xZopttX",
        "colab": {
          "base_uri": "https://localhost:8080/"
        },
        "outputId": "f269f2cd-2238-4e7b-da5f-0c7efce8083a"
      },
      "source": [
        "age_sex_model = smf.ols('suicides_per_100k ~ C(sex) + C(age)', data=fullDF).fit()\n",
        "age_sex_model.params"
      ],
      "execution_count": 210,
      "outputs": [
        {
          "output_type": "execute_result",
          "data": {
            "text/plain": [
              "Intercept                 1.523923\n",
              "C(sex)[T.male]           14.846462\n",
              "C(age)[T.25-34 years]     3.239731\n",
              "C(age)[T.35-54 years]     6.000287\n",
              "C(age)[T.5-14 years]     -8.327113\n",
              "C(age)[T.55-74 years]     7.208425\n",
              "C(age)[T.75+ years]      15.008255\n",
              "dtype: float64"
            ]
          },
          "metadata": {
            "tags": []
          },
          "execution_count": 210
        }
      ]
    },
    {
      "cell_type": "markdown",
      "metadata": {
        "id": "0yIhJXqxqWDj"
      },
      "source": [
        "What this tells us is that populations with a large proportion of old people and men will most likely have pretty high suicide rates. \n",
        "\n",
        "Let's isolate GDP per capita now and then see if we should add it to our multiple regression. "
      ]
    },
    {
      "cell_type": "code",
      "metadata": {
        "id": "C4NaM7a7q7yD",
        "colab": {
          "base_uri": "https://localhost:8080/"
        },
        "outputId": "da8abff3-cbc3-49ed-edf0-8304834c920e"
      },
      "source": [
        "gdp_capita_model = smf.ols('suicides_per_100k ~ gdp_per_capita', data=fullDF).fit()\n",
        "gdp_capita_model.params"
      ],
      "execution_count": 211,
      "outputs": [
        {
          "output_type": "execute_result",
          "data": {
            "text/plain": [
              "Intercept         12.785871\n",
              "gdp_per_capita     0.000002\n",
              "dtype: float64"
            ]
          },
          "metadata": {
            "tags": []
          },
          "execution_count": 211
        }
      ]
    },
    {
      "cell_type": "markdown",
      "metadata": {
        "id": "0gl4aXcJrHFf"
      },
      "source": [
        "Interestingly, GDP per capita, whether high or low does not influence suicide rates that much. It's impact appears to be minimal. Therefore, there is no reason to add it to our multiple regression.  "
      ]
    }
  ]
}