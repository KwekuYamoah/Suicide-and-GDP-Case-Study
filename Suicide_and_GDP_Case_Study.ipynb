{
  "nbformat": 4,
  "nbformat_minor": 0,
  "metadata": {
    "colab": {
      "name": "Suicide and GDP Case Study.ipynb",
      "provenance": [],
      "collapsed_sections": [],
      "include_colab_link": true
    },
    "kernelspec": {
      "display_name": "Python 3",
      "name": "python3"
    }
  },
  "cells": [
    {
      "cell_type": "markdown",
      "metadata": {
        "id": "view-in-github",
        "colab_type": "text"
      },
      "source": [
        "<a href=\"https://colab.research.google.com/github/KwekuYamoah/Suicide-and-GDP-Case-Study/blob/main/Suicide_and_GDP_Case_Study.ipynb\" target=\"_parent\"><img src=\"https://colab.research.google.com/assets/colab-badge.svg\" alt=\"Open In Colab\"/></a>"
      ]
    },
    {
      "cell_type": "markdown",
      "metadata": {
        "id": "y30cL-92K_8q"
      },
      "source": [
        "# Suicide and GDP Case Study\n",
        "\n",
        "Kweku Andoh Yamoah and Jesse Jackson Zigi\n",
        "\n",
        "[MIT License]((https://en.wikipedia.org/wiki/MIT_License)"
      ]
    },
    {
      "cell_type": "markdown",
      "metadata": {
        "id": "uJwmU-iuLZre"
      },
      "source": [
        "## Introduction\n",
        "This is the first in a series of notebooks that make up a case study in exploratory data analysis. In this notebook, we\n",
        "\n",
        "1.   Read data Kaggle. [Suicide Rates Overview 1985 to 2016](https://www.kaggle.com/russellyates88/suicide-rates-overview-1985-to-2016). The dataset is described as follows:\n",
        "\"*This compiled dataset pulled from four other datasets linked by time and place, and was built to find signals correlated to increased suicide rates among different cohorts globally, across the socio-economic spectrum.*\"\n",
        "2.   Clean the data, particulary dealing with special codes that indicate missing data.\n",
        "1.   Validate the data by comparing the values in the dataset with values documented in the codebook specified on Kaggle.\n",
        "2.   Use describe to compute summary statistics and Pmf or Cdf to plot didtribution\n",
        "1.   Generate \"resampled\" datasets to ensure efficient randomisation in the dataset\n",
        "2.   Store the resampled data in a binary format (HDF5) that makes it easier to work with in the notebooks that follow this one.\n",
        "\n",
        "\n",
        "\n",
        "\n",
        "\n"
      ]
    },
    {
      "cell_type": "markdown",
      "metadata": {
        "id": "vUQv1LWNPSqZ"
      },
      "source": [
        "## The Data\n",
        "\n",
        "### General Informaation\n",
        "\n",
        "*   **Original format**: csv\n",
        "*   **Dataset shape**: 27820 x 12 (rows x columns)\n",
        "*   19456 missing values for HDI\n",
        "\n",
        "### Features in the dataset\n",
        "#### <u>Categorical features</u>\n",
        "**Country**: A total of 101 countries are included in this dataset. Most countries in Asia are not included and considering we have 195 countries in the world today, this is a quite biased data for worldwide analysis.<br>\n",
        "**Year**: The dataset goes from 1985 to 2016<br>\n",
        "**Sex**: Male/female differentiation<br>\n",
        "**Age**: Age is divided in five age intervals.<br>\n",
        "**Generation**: There are six generations included in this dataset. See 3.6 for details.\n",
        "<br>\n",
        "<blockquote>\n",
        "    <p><font color=\"darkblue\">This data's level of detail is defined by the combination of <b>Country+Year+Sex+Age</b>, which is a subsample of the population (e.g. Brazillian males of age between 15 and 25 in 1996). <br>For each of those we have corresponding numerical features.</font></p>\n",
        "</blockquote>\n",
        "\n",
        "#### <u>Numerical Features</u>\n",
        "**Population size**: Number of people contained in each subsample\n",
        "<br>**Number of Suicides**: Number of suicides in each subsample\n",
        "<br>**Suicides per 100k people**: Number of suicides divided by the population size and multiplied by 100.000. This scales the number for better interpretation and allows you to make comparison between different subsamples.\n",
        "<br>**GDP for year**: *Gross Domestic Product*, a measure of the market value for a country-year combination.\n",
        "<br>**GDP per capita**: Obtained by dividing the GDP by the total population of the country for that year.\n",
        "<br>**HDI for year** : *Human Development Index*, an index that measures life expectancy, income and education.\n",
        "<br>"
      ]
    },
    {
      "cell_type": "markdown",
      "metadata": {
        "id": "xZ8lhPLEfpxj"
      },
      "source": [
        "### Setup\n",
        "\n",
        "If you are running this notebook in Colab, the following cell downloads the `empiricaldist` library.\n",
        "\n",
        "If you are running in another environment, you will need to install it yourself."
      ]
    },
    {
      "cell_type": "code",
      "metadata": {
        "colab": {
          "base_uri": "https://localhost:8080/"
        },
        "id": "Ii9VsOEffyqg",
        "outputId": "3c87aa47-2b0d-4cdd-86fa-57bca6f2ab0c"
      },
      "source": [
        "# If we're running in Colab, set up the environment\n",
        "\n",
        "import sys\n",
        "IN_COLAB = 'google.colab' in sys.modules\n",
        "\n",
        "if IN_COLAB:\n",
        "    !pip install empiricaldist"
      ],
      "execution_count": 1,
      "outputs": [
        {
          "output_type": "stream",
          "text": [
            "Collecting empiricaldist\n",
            "  Downloading https://files.pythonhosted.org/packages/c4/88/b6c44c1a5078224850473a8a6b82614d79147232113dd35e29de34b9ac8a/empiricaldist-0.3.9.tar.gz\n",
            "Building wheels for collected packages: empiricaldist\n",
            "  Building wheel for empiricaldist (setup.py) ... \u001b[?25l\u001b[?25hdone\n",
            "  Created wheel for empiricaldist: filename=empiricaldist-0.3.9-cp36-none-any.whl size=10157 sha256=4127e643fc2752a5e789cfbddc0e17fc7d69377bc23bce500998bcc7704d0b54\n",
            "  Stored in directory: /root/.cache/pip/wheels/bf/70/8c/55788f5a5806e6da295e5da80d2c0ef286d9a8260a1e3142e1\n",
            "Successfully built empiricaldist\n",
            "Installing collected packages: empiricaldist\n",
            "Successfully installed empiricaldist-0.3.9\n"
          ],
          "name": "stdout"
        }
      ]
    },
    {
      "cell_type": "markdown",
      "metadata": {
        "id": "3JitBIyWS2yN"
      },
      "source": [
        "The following cell loads the packages we need.  If everything works, there should be no error messages. Fingers crossed :)"
      ]
    },
    {
      "cell_type": "code",
      "metadata": {
        "id": "O-i6x6jaK9qY"
      },
      "source": [
        "import pandas as pd\n",
        "import numpy as np\n",
        "import matplotlib.pyplot as plt\n",
        "import seaborn as sns\n",
        "\n",
        "sns.set_style('whitegrid')\n",
        "from empiricaldist import Pmf"
      ],
      "execution_count": 2,
      "outputs": []
    },
    {
      "cell_type": "markdown",
      "metadata": {
        "id": "y7TodYDLf67F"
      },
      "source": [
        "The following cell defines a function I use to decorate the axes in plots."
      ]
    },
    {
      "cell_type": "code",
      "metadata": {
        "id": "gkkpAF63f76U"
      },
      "source": [
        "def decorate(**options):\n",
        "    \"\"\"Decorate the current axes.\n",
        "    Call decorate with keyword arguments like\n",
        "    decorate(title='Title',\n",
        "             xlabel='x',\n",
        "             ylabel='y')\n",
        "    The keyword arguments can be any of the axis properties\n",
        "    https://matplotlib.org/api/axes_api.html\n",
        "    \"\"\"\n",
        "    plt.gca().set(**options)\n",
        "    plt.tight_layout()"
      ],
      "execution_count": 3,
      "outputs": []
    },
    {
      "cell_type": "markdown",
      "metadata": {
        "id": "m79moa8qUAO_"
      },
      "source": [
        "## Reading the Data\n",
        "The data we'll use is from Kaggle. I'll keep the original dataset as it is and create a new one to process the data throughout this analysis."
      ]
    },
    {
      "cell_type": "code",
      "metadata": {
        "id": "pYfmOYhlWyvn",
        "colab": {
          "base_uri": "https://localhost:8080/"
        },
        "outputId": "7164083f-b2c7-4690-ff57-e00422b2eadb"
      },
      "source": [
        " #Load the data file\n",
        "\n",
        "import os\n",
        "\n",
        "if not os.path.exists('master.csv'):\n",
        "    !wget https://raw.githubusercontent.com/KwekuYamoah/Suicide-and-GDP-Case-Study/main/master.csv\n"
      ],
      "execution_count": 4,
      "outputs": [
        {
          "output_type": "stream",
          "text": [
            "--2020-11-19 15:01:07--  https://raw.githubusercontent.com/KwekuYamoah/Suicide-and-GDP-Case-Study/main/master.csv\n",
            "Resolving raw.githubusercontent.com (raw.githubusercontent.com)... 151.101.0.133, 151.101.64.133, 151.101.128.133, ...\n",
            "Connecting to raw.githubusercontent.com (raw.githubusercontent.com)|151.101.0.133|:443... connected.\n",
            "HTTP request sent, awaiting response... 200 OK\n",
            "Length: 2706377 (2.6M) [text/plain]\n",
            "Saving to: ‘master.csv’\n",
            "\n",
            "master.csv          100%[===================>]   2.58M  --.-KB/s    in 0.1s    \n",
            "\n",
            "2020-11-19 15:01:07 (17.8 MB/s) - ‘master.csv’ saved [2706377/2706377]\n",
            "\n"
          ],
          "name": "stdout"
        }
      ]
    },
    {
      "cell_type": "markdown",
      "metadata": {
        "id": "P3c9S0Y4ga1L"
      },
      "source": [
        "Now we can now read the file using Panadas. Pandas will read our information and store the results in a dataframe. We will view a few elements in the dataset to get a sense of the data"
      ]
    },
    {
      "cell_type": "code",
      "metadata": {
        "colab": {
          "base_uri": "https://localhost:8080/",
          "height": 195
        },
        "id": "comLTvFjgvch",
        "outputId": "9830d3cc-d95d-4920-91b4-eef12a8aed28"
      },
      "source": [
        "original_dataset = pd.read_csv(\"master.csv\")\n",
        "original_dataset.head()"
      ],
      "execution_count": 5,
      "outputs": [
        {
          "output_type": "execute_result",
          "data": {
            "text/html": [
              "<div>\n",
              "<style scoped>\n",
              "    .dataframe tbody tr th:only-of-type {\n",
              "        vertical-align: middle;\n",
              "    }\n",
              "\n",
              "    .dataframe tbody tr th {\n",
              "        vertical-align: top;\n",
              "    }\n",
              "\n",
              "    .dataframe thead th {\n",
              "        text-align: right;\n",
              "    }\n",
              "</style>\n",
              "<table border=\"1\" class=\"dataframe\">\n",
              "  <thead>\n",
              "    <tr style=\"text-align: right;\">\n",
              "      <th></th>\n",
              "      <th>country</th>\n",
              "      <th>year</th>\n",
              "      <th>sex</th>\n",
              "      <th>age</th>\n",
              "      <th>suicides_no</th>\n",
              "      <th>population</th>\n",
              "      <th>suicides/100k pop</th>\n",
              "      <th>country-year</th>\n",
              "      <th>HDI for year</th>\n",
              "      <th>gdp_for_year ($)</th>\n",
              "      <th>gdp_per_capita ($)</th>\n",
              "      <th>generation</th>\n",
              "    </tr>\n",
              "  </thead>\n",
              "  <tbody>\n",
              "    <tr>\n",
              "      <th>0</th>\n",
              "      <td>Albania</td>\n",
              "      <td>1987</td>\n",
              "      <td>male</td>\n",
              "      <td>15-24 years</td>\n",
              "      <td>21</td>\n",
              "      <td>312900</td>\n",
              "      <td>6.71</td>\n",
              "      <td>Albania1987</td>\n",
              "      <td>NaN</td>\n",
              "      <td>2,156,624,900</td>\n",
              "      <td>796</td>\n",
              "      <td>Generation X</td>\n",
              "    </tr>\n",
              "    <tr>\n",
              "      <th>1</th>\n",
              "      <td>Albania</td>\n",
              "      <td>1987</td>\n",
              "      <td>male</td>\n",
              "      <td>35-54 years</td>\n",
              "      <td>16</td>\n",
              "      <td>308000</td>\n",
              "      <td>5.19</td>\n",
              "      <td>Albania1987</td>\n",
              "      <td>NaN</td>\n",
              "      <td>2,156,624,900</td>\n",
              "      <td>796</td>\n",
              "      <td>Silent</td>\n",
              "    </tr>\n",
              "    <tr>\n",
              "      <th>2</th>\n",
              "      <td>Albania</td>\n",
              "      <td>1987</td>\n",
              "      <td>female</td>\n",
              "      <td>15-24 years</td>\n",
              "      <td>14</td>\n",
              "      <td>289700</td>\n",
              "      <td>4.83</td>\n",
              "      <td>Albania1987</td>\n",
              "      <td>NaN</td>\n",
              "      <td>2,156,624,900</td>\n",
              "      <td>796</td>\n",
              "      <td>Generation X</td>\n",
              "    </tr>\n",
              "    <tr>\n",
              "      <th>3</th>\n",
              "      <td>Albania</td>\n",
              "      <td>1987</td>\n",
              "      <td>male</td>\n",
              "      <td>75+ years</td>\n",
              "      <td>1</td>\n",
              "      <td>21800</td>\n",
              "      <td>4.59</td>\n",
              "      <td>Albania1987</td>\n",
              "      <td>NaN</td>\n",
              "      <td>2,156,624,900</td>\n",
              "      <td>796</td>\n",
              "      <td>G.I. Generation</td>\n",
              "    </tr>\n",
              "    <tr>\n",
              "      <th>4</th>\n",
              "      <td>Albania</td>\n",
              "      <td>1987</td>\n",
              "      <td>male</td>\n",
              "      <td>25-34 years</td>\n",
              "      <td>9</td>\n",
              "      <td>274300</td>\n",
              "      <td>3.28</td>\n",
              "      <td>Albania1987</td>\n",
              "      <td>NaN</td>\n",
              "      <td>2,156,624,900</td>\n",
              "      <td>796</td>\n",
              "      <td>Boomers</td>\n",
              "    </tr>\n",
              "  </tbody>\n",
              "</table>\n",
              "</div>"
            ],
            "text/plain": [
              "   country  year  ... gdp_per_capita ($)       generation\n",
              "0  Albania  1987  ...                796     Generation X\n",
              "1  Albania  1987  ...                796           Silent\n",
              "2  Albania  1987  ...                796     Generation X\n",
              "3  Albania  1987  ...                796  G.I. Generation\n",
              "4  Albania  1987  ...                796          Boomers\n",
              "\n",
              "[5 rows x 12 columns]"
            ]
          },
          "metadata": {
            "tags": []
          },
          "execution_count": 5
        }
      ]
    },
    {
      "cell_type": "markdown",
      "metadata": {
        "id": "N7Sc9MIfimvZ"
      },
      "source": [
        "Our data cam in a pretty clear format. Missing values are already recoded with NaN. The next step is to create a copy of the dataset and use it throughout our analysis. We want to maintain the structure of the original dataset. Also, we will rename a few columns to make interpretation and coding easier. Finally we drop some columns which we won't use in our analysis as well."
      ]
    },
    {
      "cell_type": "code",
      "metadata": {
        "id": "D4xewUItjclw"
      },
      "source": [
        "#Creating a dataset copy\n",
        "df = original_dataset.copy()\n",
        "\n",
        "#Renaming a few columns to make interpretation and coding easier\n",
        "df.rename(columns = {\n",
        "    'suicides_no':'total_suicides',\n",
        "    'suicides/100k pop':'suicides_per_100k',\n",
        "    ' gdp_for_year ($) ':'gdp_for_year',\n",
        "    'gdp_per_capita ($)':'gdp_per_capita',\n",
        "    'HDI for year': 'HDI_for_year'\n",
        "}, inplace=True)\n",
        "\n",
        "#Dropping country-year\n",
        "df = df.drop('country-year', axis=1)\n",
        "\n",
        "#Dropping HDI_for_year due to the number of missing value\n",
        "#HDI_for_year won't be used in our analysis\n",
        "df = df.drop(columns='HDI_for_year')\n",
        "\n",
        "\n",
        "#Values for gdp per year are strings. Fixing to a float\n",
        "df.gdp_for_year = df.gdp_for_year.apply(lambda x: float(''.join(x.split(','))))"
      ],
      "execution_count": 6,
      "outputs": []
    },
    {
      "cell_type": "markdown",
      "metadata": {
        "id": "8W8QAR42kiF3"
      },
      "source": [
        "Now let's see how our data set is looking"
      ]
    },
    {
      "cell_type": "code",
      "metadata": {
        "colab": {
          "base_uri": "https://localhost:8080/",
          "height": 343
        },
        "id": "Qu6g7MGFkqCa",
        "outputId": "09241d44-ed3b-420a-a9c0-ba962c539a5f"
      },
      "source": [
        "df = df[df['year']!='2016']\n",
        "df.head(10)\n"
      ],
      "execution_count": 7,
      "outputs": [
        {
          "output_type": "execute_result",
          "data": {
            "text/html": [
              "<div>\n",
              "<style scoped>\n",
              "    .dataframe tbody tr th:only-of-type {\n",
              "        vertical-align: middle;\n",
              "    }\n",
              "\n",
              "    .dataframe tbody tr th {\n",
              "        vertical-align: top;\n",
              "    }\n",
              "\n",
              "    .dataframe thead th {\n",
              "        text-align: right;\n",
              "    }\n",
              "</style>\n",
              "<table border=\"1\" class=\"dataframe\">\n",
              "  <thead>\n",
              "    <tr style=\"text-align: right;\">\n",
              "      <th></th>\n",
              "      <th>country</th>\n",
              "      <th>year</th>\n",
              "      <th>sex</th>\n",
              "      <th>age</th>\n",
              "      <th>total_suicides</th>\n",
              "      <th>population</th>\n",
              "      <th>suicides_per_100k</th>\n",
              "      <th>gdp_for_year</th>\n",
              "      <th>gdp_per_capita</th>\n",
              "      <th>generation</th>\n",
              "    </tr>\n",
              "  </thead>\n",
              "  <tbody>\n",
              "    <tr>\n",
              "      <th>0</th>\n",
              "      <td>Albania</td>\n",
              "      <td>1987</td>\n",
              "      <td>male</td>\n",
              "      <td>15-24 years</td>\n",
              "      <td>21</td>\n",
              "      <td>312900</td>\n",
              "      <td>6.71</td>\n",
              "      <td>2.156625e+09</td>\n",
              "      <td>796</td>\n",
              "      <td>Generation X</td>\n",
              "    </tr>\n",
              "    <tr>\n",
              "      <th>1</th>\n",
              "      <td>Albania</td>\n",
              "      <td>1987</td>\n",
              "      <td>male</td>\n",
              "      <td>35-54 years</td>\n",
              "      <td>16</td>\n",
              "      <td>308000</td>\n",
              "      <td>5.19</td>\n",
              "      <td>2.156625e+09</td>\n",
              "      <td>796</td>\n",
              "      <td>Silent</td>\n",
              "    </tr>\n",
              "    <tr>\n",
              "      <th>2</th>\n",
              "      <td>Albania</td>\n",
              "      <td>1987</td>\n",
              "      <td>female</td>\n",
              "      <td>15-24 years</td>\n",
              "      <td>14</td>\n",
              "      <td>289700</td>\n",
              "      <td>4.83</td>\n",
              "      <td>2.156625e+09</td>\n",
              "      <td>796</td>\n",
              "      <td>Generation X</td>\n",
              "    </tr>\n",
              "    <tr>\n",
              "      <th>3</th>\n",
              "      <td>Albania</td>\n",
              "      <td>1987</td>\n",
              "      <td>male</td>\n",
              "      <td>75+ years</td>\n",
              "      <td>1</td>\n",
              "      <td>21800</td>\n",
              "      <td>4.59</td>\n",
              "      <td>2.156625e+09</td>\n",
              "      <td>796</td>\n",
              "      <td>G.I. Generation</td>\n",
              "    </tr>\n",
              "    <tr>\n",
              "      <th>4</th>\n",
              "      <td>Albania</td>\n",
              "      <td>1987</td>\n",
              "      <td>male</td>\n",
              "      <td>25-34 years</td>\n",
              "      <td>9</td>\n",
              "      <td>274300</td>\n",
              "      <td>3.28</td>\n",
              "      <td>2.156625e+09</td>\n",
              "      <td>796</td>\n",
              "      <td>Boomers</td>\n",
              "    </tr>\n",
              "    <tr>\n",
              "      <th>5</th>\n",
              "      <td>Albania</td>\n",
              "      <td>1987</td>\n",
              "      <td>female</td>\n",
              "      <td>75+ years</td>\n",
              "      <td>1</td>\n",
              "      <td>35600</td>\n",
              "      <td>2.81</td>\n",
              "      <td>2.156625e+09</td>\n",
              "      <td>796</td>\n",
              "      <td>G.I. Generation</td>\n",
              "    </tr>\n",
              "    <tr>\n",
              "      <th>6</th>\n",
              "      <td>Albania</td>\n",
              "      <td>1987</td>\n",
              "      <td>female</td>\n",
              "      <td>35-54 years</td>\n",
              "      <td>6</td>\n",
              "      <td>278800</td>\n",
              "      <td>2.15</td>\n",
              "      <td>2.156625e+09</td>\n",
              "      <td>796</td>\n",
              "      <td>Silent</td>\n",
              "    </tr>\n",
              "    <tr>\n",
              "      <th>7</th>\n",
              "      <td>Albania</td>\n",
              "      <td>1987</td>\n",
              "      <td>female</td>\n",
              "      <td>25-34 years</td>\n",
              "      <td>4</td>\n",
              "      <td>257200</td>\n",
              "      <td>1.56</td>\n",
              "      <td>2.156625e+09</td>\n",
              "      <td>796</td>\n",
              "      <td>Boomers</td>\n",
              "    </tr>\n",
              "    <tr>\n",
              "      <th>8</th>\n",
              "      <td>Albania</td>\n",
              "      <td>1987</td>\n",
              "      <td>male</td>\n",
              "      <td>55-74 years</td>\n",
              "      <td>1</td>\n",
              "      <td>137500</td>\n",
              "      <td>0.73</td>\n",
              "      <td>2.156625e+09</td>\n",
              "      <td>796</td>\n",
              "      <td>G.I. Generation</td>\n",
              "    </tr>\n",
              "    <tr>\n",
              "      <th>9</th>\n",
              "      <td>Albania</td>\n",
              "      <td>1987</td>\n",
              "      <td>female</td>\n",
              "      <td>5-14 years</td>\n",
              "      <td>0</td>\n",
              "      <td>311000</td>\n",
              "      <td>0.00</td>\n",
              "      <td>2.156625e+09</td>\n",
              "      <td>796</td>\n",
              "      <td>Generation X</td>\n",
              "    </tr>\n",
              "  </tbody>\n",
              "</table>\n",
              "</div>"
            ],
            "text/plain": [
              "   country  year     sex  ...  gdp_for_year  gdp_per_capita       generation\n",
              "0  Albania  1987    male  ...  2.156625e+09             796     Generation X\n",
              "1  Albania  1987    male  ...  2.156625e+09             796           Silent\n",
              "2  Albania  1987  female  ...  2.156625e+09             796     Generation X\n",
              "3  Albania  1987    male  ...  2.156625e+09             796  G.I. Generation\n",
              "4  Albania  1987    male  ...  2.156625e+09             796          Boomers\n",
              "5  Albania  1987  female  ...  2.156625e+09             796  G.I. Generation\n",
              "6  Albania  1987  female  ...  2.156625e+09             796           Silent\n",
              "7  Albania  1987  female  ...  2.156625e+09             796          Boomers\n",
              "8  Albania  1987    male  ...  2.156625e+09             796  G.I. Generation\n",
              "9  Albania  1987  female  ...  2.156625e+09             796     Generation X\n",
              "\n",
              "[10 rows x 10 columns]"
            ]
          },
          "metadata": {
            "tags": []
          },
          "execution_count": 7
        }
      ]
    },
    {
      "cell_type": "markdown",
      "metadata": {
        "id": "NtK1vxZvVyh4"
      },
      "source": [
        "## EDA"
      ]
    },
    {
      "cell_type": "markdown",
      "metadata": {
        "id": "4iwZCzzRtKoY"
      },
      "source": [
        "Years is our time index. We will explore other features together with year to look for trends.\n",
        "The years range from 1985 to 2016. Let's take a look at both ends of our dataset."
      ]
    },
    {
      "cell_type": "code",
      "metadata": {
        "colab": {
          "base_uri": "https://localhost:8080/",
          "height": 1000
        },
        "id": "yMCp9HLoPl34",
        "outputId": "c4b581f5-8db2-4b78-f426-91853133e616"
      },
      "source": [
        "#Creating an aggregate dictionary to get the essential elements of the dataset\n",
        "agg_dict = {'country':'nunique', 'age':'nunique',\n",
        "            'population':'sum',\n",
        "            'total_suicides':'sum',\n",
        "            'suicides_per_100k':'mean'}\n",
        "#Query to display  the dataset\n",
        "dataset = df.query('year >= 1985')\n",
        "\n",
        "#Grouping by year using the features of agg_dict\n",
        "dataset = dataset[['year', 'country',\n",
        "                       'age', 'population',\n",
        "                       'total_suicides',\n",
        "                       'suicides_per_100k']].groupby('year').agg(agg_dict)\n",
        "#Rename columns\n",
        "'''dataset.rename(columns={'country':'Distinct Countries', 'age':'Age groups',\n",
        "                          'population':'Sum of Population', 'total_suicides':'Sum of Suicides',\n",
        "                          'suicides_per_100k':'Avg Suicides Ratio per 100k'}, inplace=True)'''\n",
        "#Calculating sucide ratio as Sum of Suicides/Sum of Population\n",
        "dataset['calc_suicide_ratio'] = 1e5 * dataset['total_suicides'] / dataset['population']\n",
        "\n",
        "dataset"
      ],
      "execution_count": 8,
      "outputs": [
        {
          "output_type": "execute_result",
          "data": {
            "text/html": [
              "<div>\n",
              "<style scoped>\n",
              "    .dataframe tbody tr th:only-of-type {\n",
              "        vertical-align: middle;\n",
              "    }\n",
              "\n",
              "    .dataframe tbody tr th {\n",
              "        vertical-align: top;\n",
              "    }\n",
              "\n",
              "    .dataframe thead th {\n",
              "        text-align: right;\n",
              "    }\n",
              "</style>\n",
              "<table border=\"1\" class=\"dataframe\">\n",
              "  <thead>\n",
              "    <tr style=\"text-align: right;\">\n",
              "      <th></th>\n",
              "      <th>country</th>\n",
              "      <th>age</th>\n",
              "      <th>population</th>\n",
              "      <th>total_suicides</th>\n",
              "      <th>suicides_per_100k</th>\n",
              "      <th>calc_suicide_ratio</th>\n",
              "    </tr>\n",
              "    <tr>\n",
              "      <th>year</th>\n",
              "      <th></th>\n",
              "      <th></th>\n",
              "      <th></th>\n",
              "      <th></th>\n",
              "      <th></th>\n",
              "      <th></th>\n",
              "    </tr>\n",
              "  </thead>\n",
              "  <tbody>\n",
              "    <tr>\n",
              "      <th>1985</th>\n",
              "      <td>48</td>\n",
              "      <td>6</td>\n",
              "      <td>1008600086</td>\n",
              "      <td>116063</td>\n",
              "      <td>11.826198</td>\n",
              "      <td>11.507336</td>\n",
              "    </tr>\n",
              "    <tr>\n",
              "      <th>1986</th>\n",
              "      <td>48</td>\n",
              "      <td>6</td>\n",
              "      <td>1029909613</td>\n",
              "      <td>120670</td>\n",
              "      <td>11.423333</td>\n",
              "      <td>11.716562</td>\n",
              "    </tr>\n",
              "    <tr>\n",
              "      <th>1987</th>\n",
              "      <td>54</td>\n",
              "      <td>6</td>\n",
              "      <td>1095029726</td>\n",
              "      <td>126842</td>\n",
              "      <td>11.644213</td>\n",
              "      <td>11.583430</td>\n",
              "    </tr>\n",
              "    <tr>\n",
              "      <th>1988</th>\n",
              "      <td>49</td>\n",
              "      <td>6</td>\n",
              "      <td>1054094424</td>\n",
              "      <td>121026</td>\n",
              "      <td>12.709405</td>\n",
              "      <td>11.481514</td>\n",
              "    </tr>\n",
              "    <tr>\n",
              "      <th>1989</th>\n",
              "      <td>52</td>\n",
              "      <td>6</td>\n",
              "      <td>1225514347</td>\n",
              "      <td>160244</td>\n",
              "      <td>12.879071</td>\n",
              "      <td>13.075653</td>\n",
              "    </tr>\n",
              "    <tr>\n",
              "      <th>1990</th>\n",
              "      <td>64</td>\n",
              "      <td>6</td>\n",
              "      <td>1466620100</td>\n",
              "      <td>193361</td>\n",
              "      <td>12.862956</td>\n",
              "      <td>13.184123</td>\n",
              "    </tr>\n",
              "    <tr>\n",
              "      <th>1991</th>\n",
              "      <td>64</td>\n",
              "      <td>6</td>\n",
              "      <td>1489988384</td>\n",
              "      <td>198020</td>\n",
              "      <td>13.438880</td>\n",
              "      <td>13.290036</td>\n",
              "    </tr>\n",
              "    <tr>\n",
              "      <th>1992</th>\n",
              "      <td>65</td>\n",
              "      <td>6</td>\n",
              "      <td>1569539447</td>\n",
              "      <td>211473</td>\n",
              "      <td>13.498564</td>\n",
              "      <td>13.473570</td>\n",
              "    </tr>\n",
              "    <tr>\n",
              "      <th>1993</th>\n",
              "      <td>65</td>\n",
              "      <td>6</td>\n",
              "      <td>1530416654</td>\n",
              "      <td>221565</td>\n",
              "      <td>13.833705</td>\n",
              "      <td>14.477430</td>\n",
              "    </tr>\n",
              "    <tr>\n",
              "      <th>1994</th>\n",
              "      <td>68</td>\n",
              "      <td>6</td>\n",
              "      <td>1548749372</td>\n",
              "      <td>232063</td>\n",
              "      <td>14.073272</td>\n",
              "      <td>14.983896</td>\n",
              "    </tr>\n",
              "    <tr>\n",
              "      <th>1995</th>\n",
              "      <td>78</td>\n",
              "      <td>6</td>\n",
              "      <td>1591559103</td>\n",
              "      <td>243544</td>\n",
              "      <td>15.662671</td>\n",
              "      <td>15.302228</td>\n",
              "    </tr>\n",
              "    <tr>\n",
              "      <th>1996</th>\n",
              "      <td>77</td>\n",
              "      <td>6</td>\n",
              "      <td>1662267662</td>\n",
              "      <td>246725</td>\n",
              "      <td>15.305422</td>\n",
              "      <td>14.842676</td>\n",
              "    </tr>\n",
              "    <tr>\n",
              "      <th>1997</th>\n",
              "      <td>77</td>\n",
              "      <td>6</td>\n",
              "      <td>1702991519</td>\n",
              "      <td>240745</td>\n",
              "      <td>14.954361</td>\n",
              "      <td>14.136594</td>\n",
              "    </tr>\n",
              "    <tr>\n",
              "      <th>1998</th>\n",
              "      <td>79</td>\n",
              "      <td>6</td>\n",
              "      <td>1725181351</td>\n",
              "      <td>249591</td>\n",
              "      <td>14.926920</td>\n",
              "      <td>14.467522</td>\n",
              "    </tr>\n",
              "    <tr>\n",
              "      <th>1999</th>\n",
              "      <td>83</td>\n",
              "      <td>6</td>\n",
              "      <td>1776363155</td>\n",
              "      <td>256119</td>\n",
              "      <td>14.532038</td>\n",
              "      <td>14.418167</td>\n",
              "    </tr>\n",
              "    <tr>\n",
              "      <th>2000</th>\n",
              "      <td>86</td>\n",
              "      <td>6</td>\n",
              "      <td>1799227908</td>\n",
              "      <td>255832</td>\n",
              "      <td>13.941328</td>\n",
              "      <td>14.218988</td>\n",
              "    </tr>\n",
              "    <tr>\n",
              "      <th>2001</th>\n",
              "      <td>88</td>\n",
              "      <td>6</td>\n",
              "      <td>1755565489</td>\n",
              "      <td>250652</td>\n",
              "      <td>13.519138</td>\n",
              "      <td>14.277565</td>\n",
              "    </tr>\n",
              "    <tr>\n",
              "      <th>2002</th>\n",
              "      <td>86</td>\n",
              "      <td>6</td>\n",
              "      <td>1822152815</td>\n",
              "      <td>256095</td>\n",
              "      <td>13.786550</td>\n",
              "      <td>14.054529</td>\n",
              "    </tr>\n",
              "    <tr>\n",
              "      <th>2003</th>\n",
              "      <td>86</td>\n",
              "      <td>6</td>\n",
              "      <td>1838458020</td>\n",
              "      <td>256079</td>\n",
              "      <td>13.205019</td>\n",
              "      <td>13.929010</td>\n",
              "    </tr>\n",
              "    <tr>\n",
              "      <th>2004</th>\n",
              "      <td>84</td>\n",
              "      <td>6</td>\n",
              "      <td>1745246613</td>\n",
              "      <td>240861</td>\n",
              "      <td>12.481944</td>\n",
              "      <td>13.800972</td>\n",
              "    </tr>\n",
              "    <tr>\n",
              "      <th>2005</th>\n",
              "      <td>84</td>\n",
              "      <td>6</td>\n",
              "      <td>1734909645</td>\n",
              "      <td>234375</td>\n",
              "      <td>12.068442</td>\n",
              "      <td>13.509349</td>\n",
              "    </tr>\n",
              "    <tr>\n",
              "      <th>2006</th>\n",
              "      <td>85</td>\n",
              "      <td>6</td>\n",
              "      <td>1840908837</td>\n",
              "      <td>233361</td>\n",
              "      <td>11.927461</td>\n",
              "      <td>12.676402</td>\n",
              "    </tr>\n",
              "    <tr>\n",
              "      <th>2007</th>\n",
              "      <td>86</td>\n",
              "      <td>6</td>\n",
              "      <td>1859564353</td>\n",
              "      <td>233408</td>\n",
              "      <td>12.025339</td>\n",
              "      <td>12.551757</td>\n",
              "    </tr>\n",
              "    <tr>\n",
              "      <th>2008</th>\n",
              "      <td>85</td>\n",
              "      <td>6</td>\n",
              "      <td>1860620851</td>\n",
              "      <td>235447</td>\n",
              "      <td>11.907686</td>\n",
              "      <td>12.654217</td>\n",
              "    </tr>\n",
              "    <tr>\n",
              "      <th>2009</th>\n",
              "      <td>89</td>\n",
              "      <td>6</td>\n",
              "      <td>1976228366</td>\n",
              "      <td>243487</td>\n",
              "      <td>11.400787</td>\n",
              "      <td>12.320793</td>\n",
              "    </tr>\n",
              "    <tr>\n",
              "      <th>2010</th>\n",
              "      <td>88</td>\n",
              "      <td>6</td>\n",
              "      <td>1997297329</td>\n",
              "      <td>238702</td>\n",
              "      <td>11.215900</td>\n",
              "      <td>11.951250</td>\n",
              "    </tr>\n",
              "    <tr>\n",
              "      <th>2011</th>\n",
              "      <td>86</td>\n",
              "      <td>6</td>\n",
              "      <td>1993362332</td>\n",
              "      <td>236484</td>\n",
              "      <td>11.015349</td>\n",
              "      <td>11.863573</td>\n",
              "    </tr>\n",
              "    <tr>\n",
              "      <th>2012</th>\n",
              "      <td>81</td>\n",
              "      <td>6</td>\n",
              "      <td>1912812088</td>\n",
              "      <td>230160</td>\n",
              "      <td>11.421718</td>\n",
              "      <td>12.032546</td>\n",
              "    </tr>\n",
              "    <tr>\n",
              "      <th>2013</th>\n",
              "      <td>80</td>\n",
              "      <td>6</td>\n",
              "      <td>1890161710</td>\n",
              "      <td>223199</td>\n",
              "      <td>11.107958</td>\n",
              "      <td>11.808461</td>\n",
              "    </tr>\n",
              "    <tr>\n",
              "      <th>2014</th>\n",
              "      <td>78</td>\n",
              "      <td>6</td>\n",
              "      <td>1912057309</td>\n",
              "      <td>222984</td>\n",
              "      <td>11.011464</td>\n",
              "      <td>11.661994</td>\n",
              "    </tr>\n",
              "    <tr>\n",
              "      <th>2015</th>\n",
              "      <td>62</td>\n",
              "      <td>6</td>\n",
              "      <td>1774657932</td>\n",
              "      <td>203640</td>\n",
              "      <td>11.094073</td>\n",
              "      <td>11.474887</td>\n",
              "    </tr>\n",
              "    <tr>\n",
              "      <th>2016</th>\n",
              "      <td>16</td>\n",
              "      <td>5</td>\n",
              "      <td>132101896</td>\n",
              "      <td>15603</td>\n",
              "      <td>13.421188</td>\n",
              "      <td>11.811337</td>\n",
              "    </tr>\n",
              "  </tbody>\n",
              "</table>\n",
              "</div>"
            ],
            "text/plain": [
              "      country  age  ...  suicides_per_100k  calc_suicide_ratio\n",
              "year                ...                                       \n",
              "1985       48    6  ...          11.826198           11.507336\n",
              "1986       48    6  ...          11.423333           11.716562\n",
              "1987       54    6  ...          11.644213           11.583430\n",
              "1988       49    6  ...          12.709405           11.481514\n",
              "1989       52    6  ...          12.879071           13.075653\n",
              "1990       64    6  ...          12.862956           13.184123\n",
              "1991       64    6  ...          13.438880           13.290036\n",
              "1992       65    6  ...          13.498564           13.473570\n",
              "1993       65    6  ...          13.833705           14.477430\n",
              "1994       68    6  ...          14.073272           14.983896\n",
              "1995       78    6  ...          15.662671           15.302228\n",
              "1996       77    6  ...          15.305422           14.842676\n",
              "1997       77    6  ...          14.954361           14.136594\n",
              "1998       79    6  ...          14.926920           14.467522\n",
              "1999       83    6  ...          14.532038           14.418167\n",
              "2000       86    6  ...          13.941328           14.218988\n",
              "2001       88    6  ...          13.519138           14.277565\n",
              "2002       86    6  ...          13.786550           14.054529\n",
              "2003       86    6  ...          13.205019           13.929010\n",
              "2004       84    6  ...          12.481944           13.800972\n",
              "2005       84    6  ...          12.068442           13.509349\n",
              "2006       85    6  ...          11.927461           12.676402\n",
              "2007       86    6  ...          12.025339           12.551757\n",
              "2008       85    6  ...          11.907686           12.654217\n",
              "2009       89    6  ...          11.400787           12.320793\n",
              "2010       88    6  ...          11.215900           11.951250\n",
              "2011       86    6  ...          11.015349           11.863573\n",
              "2012       81    6  ...          11.421718           12.032546\n",
              "2013       80    6  ...          11.107958           11.808461\n",
              "2014       78    6  ...          11.011464           11.661994\n",
              "2015       62    6  ...          11.094073           11.474887\n",
              "2016       16    5  ...          13.421188           11.811337\n",
              "\n",
              "[32 rows x 6 columns]"
            ]
          },
          "metadata": {
            "tags": []
          },
          "execution_count": 8
        }
      ]
    },
    {
      "cell_type": "markdown",
      "metadata": {
        "id": "Q-ra2mwmuIu2"
      },
      "source": [
        "*   We can see that the data from 2016 has 16 countires and is missing an age group. We decide no to use this year since it affects our trend analysis.\n",
        "*   Also the number of countries vary in the data each year.\n",
        "\n"
      ]
    },
    {
      "cell_type": "code",
      "metadata": {
        "id": "vfUjOEuSwT74"
      },
      "source": [
        "#Dropping the year \"2016\"\n",
        "df = df.query('year !=2016')"
      ],
      "execution_count": 9,
      "outputs": []
    },
    {
      "cell_type": "markdown",
      "metadata": {
        "id": "CCwLVrVWWMUM"
      },
      "source": [
        "Currently we have our cummlative distribution for year, population\ttotal_suicides\tsuicides_per_100k\tcalc_suicide_ratio. Now let's look at the mean and standard deviation for total_sucides, suicide_per_100K, calc_suicide_ratio\n",
        "\n",
        "\n"
      ]
    },
    {
      "cell_type": "markdown",
      "metadata": {
        "id": "I92RowjjQuCH"
      },
      "source": [
        "Calculating this we can use the mean and std functions from numpy and pandas. But we use the one from Pandas"
      ]
    },
    {
      "cell_type": "code",
      "metadata": {
        "colab": {
          "base_uri": "https://localhost:8080/"
        },
        "id": "FqUrZoL7RUFF",
        "outputId": "785de6a9-5a7f-4bda-cdd4-5efc870f3708"
      },
      "source": [
        "#Mean for total sucides from 1985-2015\n",
        "mean_tol = dataset['total_suicides'].mean()\n",
        "std_tol = dataset['total_suicides'].std()\n",
        "print(\"Mean and standard deviation of total suicides:\\n\")\n",
        "(mean_tol,std_tol)\n"
      ],
      "execution_count": 10,
      "outputs": [
        {
          "output_type": "stream",
          "text": [
            "Mean and standard deviation of total suicides:\n",
            "\n"
          ],
          "name": "stdout"
        },
        {
          "output_type": "execute_result",
          "data": {
            "text/plain": [
              "(210888.125, 55287.550728864575)"
            ]
          },
          "metadata": {
            "tags": []
          },
          "execution_count": 10
        }
      ]
    },
    {
      "cell_type": "code",
      "metadata": {
        "colab": {
          "base_uri": "https://localhost:8080/"
        },
        "id": "c2FndyPdVP2x",
        "outputId": "1588ae2b-1f43-4ca2-b324-cc479bcb7200"
      },
      "source": [
        "#Doing above suicide_per_100K\n",
        "mean_100_k = dataset['suicides_per_100k'].mean()\n",
        "std_100_k = dataset['suicides_per_100k'].std()\n",
        "print(\"Mean and standard deviation for suicide per 100K people:\\n\")\n",
        "(mean_100_k,std_100_k)"
      ],
      "execution_count": 11,
      "outputs": [
        {
          "output_type": "stream",
          "text": [
            "Mean and standard deviation for suicide per 100K people:\n",
            "\n"
          ],
          "name": "stdout"
        },
        {
          "output_type": "execute_result",
          "data": {
            "text/plain": [
              "(12.816323531728212, 1.3804282716536989)"
            ]
          },
          "metadata": {
            "tags": []
          },
          "execution_count": 11
        }
      ]
    },
    {
      "cell_type": "code",
      "metadata": {
        "colab": {
          "base_uri": "https://localhost:8080/"
        },
        "id": "gy00Uf9pVQrZ",
        "outputId": "d853b426-29dc-4bd6-a02d-2159fe3f56de"
      },
      "source": [
        "#Repeating for suicide ratio\n",
        "mean_ratio= dataset['calc_suicide_ratio'].mean()\n",
        "std_ratio = dataset['calc_suicide_ratio'].std()\n",
        "print(\"Mean and standard deviation for Sucide Ratio by the years:\\n\")\n",
        "(mean_ratio,std_ratio)"
      ],
      "execution_count": 12,
      "outputs": [
        {
          "output_type": "stream",
          "text": [
            "Mean and standard deviation for Sucide Ratio by the years:\n",
            "\n"
          ],
          "name": "stdout"
        },
        {
          "output_type": "execute_result",
          "data": {
            "text/plain": [
              "(13.079323991106973, 1.2149916365359779)"
            ]
          },
          "metadata": {
            "tags": []
          },
          "execution_count": 12
        }
      ]
    },
    {
      "cell_type": "markdown",
      "metadata": {
        "id": "kQab5WaMV9IZ"
      },
      "source": [
        "Looking at these figures we don't get a sense of what is going on. To solve this we can plot a series of the distrubition over the years"
      ]
    },
    {
      "cell_type": "code",
      "metadata": {
        "colab": {
          "base_uri": "https://localhost:8080/",
          "height": 297
        },
        "id": "TzbDqXy1WqSZ",
        "outputId": "83ca83ac-7996-4a47-df3e-3e9c073468a0"
      },
      "source": [
        "total_suicides = dataset['total_suicides'] \n",
        "total_suicides.plot(color=\"C2\", label='Total Suicides')\n",
        "decorate(xlabel='Year', \n",
        "         ylabel='suicide rate (per 100K)',\n",
        "         title='Total suicide numbers for all countries')\n",
        "\n"
      ],
      "execution_count": 13,
      "outputs": [
        {
          "output_type": "display_data",
          "data": {
            "image/png": "[encoded data removed]",
            "text/plain": [
              "<Figure size 432x288 with 1 Axes>"
            ]
          },
          "metadata": {
            "tags": []
          }
        }
      ]
    },
    {
      "cell_type": "code",
      "metadata": {
        "colab": {
          "base_uri": "https://localhost:8080/",
          "height": 297
        },
        "id": "0s2FNoaNa4PA",
        "outputId": "2b35beb6-b435-4300-c355-a8787002405a"
      },
      "source": [
        "per_100K = dataset['suicides_per_100k'] \n",
        "per_100K.plot(color=\"red\", label='Total Suicides')\n",
        "decorate(xlabel='Year', \n",
        "         ylabel='suicide rate',\n",
        "         title='Suicide rates for all countries')"
      ],
      "execution_count": 14,
      "outputs": [
        {
          "output_type": "display_data",
          "data": {
            "image/png": "[encoded data removed]",
            "text/plain": [
              "<Figure size 432x288 with 1 Axes>"
            ]
          },
          "metadata": {
            "tags": []
          }
        }
      ]
    },
    {
      "cell_type": "code",
      "metadata": {
        "colab": {
          "base_uri": "https://localhost:8080/",
          "height": 297
        },
        "id": "j5SEt0ebdSZE",
        "outputId": "bac213b9-c81a-4201-c647-4f834334b6e6"
      },
      "source": [
        "per_100K = dataset['calc_suicide_ratio'] \n",
        "per_100K.plot(color=\"C4\", label='Total Suicides')\n",
        "decorate(xlabel='Year', \n",
        "         ylabel='suicide ratio',\n",
        "         title='Suicide Ratio for all countries')"
      ],
      "execution_count": 15,
      "outputs": [
        {
          "output_type": "display_data",
          "data": {
            "image/png": "[encoded data removed]",
            "text/plain": [
              "<Figure size 432x288 with 1 Axes>"
            ]
          },
          "metadata": {
            "tags": []
          }
        }
      ]
    },
    {
      "cell_type": "code",
      "metadata": {
        "id": "KmgT5hcZdOeV",
        "colab": {
          "base_uri": "https://localhost:8080/",
          "height": 297
        },
        "outputId": "8beedd3d-2b49-419b-c4c7-8a1909b4a439"
      },
      "source": [
        "fullDF = df\n",
        "# Grouping by year\n",
        "fullDF_by_year = fullDF.groupby('year')\n",
        "suicide_by_year = fullDF_by_year['suicides_per_100k']\n",
        "suicide_mean = suicide_by_year.mean()\n",
        "\n",
        "# Function to decorate plot\n",
        "def decorate(**options):\n",
        "    \"\"\"Decorate the current axes.\n",
        "    Call decorate with keyword arguments like\n",
        "    decorate(title='Title',\n",
        "             xlabel='x',\n",
        "             ylabel='y')\n",
        "    The keyword arguments can be any of the axis properties\n",
        "    https://matplotlib.org/api/axes_api.html\n",
        "    \"\"\"\n",
        "    plt.gca().set(**options)\n",
        "    plt.tight_layout()\n",
        "\n",
        "  \n",
        "suicide_mean.plot(color='C2', label='suicide numbers')\n",
        "decorate(xlabel='Year', \n",
        "         ylabel='mean of suicide rate (per 100K)',\n",
        "         title='Mean of suicide numbers')"
      ],
      "execution_count": 16,
      "outputs": [
        {
          "output_type": "display_data",
          "data": {
            "image/png": "[encoded data removed]",
            "text/plain": [
              "<Figure size 432x288 with 1 Axes>"
            ]
          },
          "metadata": {
            "tags": []
          }
        }
      ]
    },
    {
      "cell_type": "code",
      "metadata": {
        "id": "6R5fnoUOj-ob",
        "colab": {
          "base_uri": "https://localhost:8080/",
          "height": 297
        },
        "outputId": "69146671-a723-4c28-d567-b3948f04087a"
      },
      "source": [
        "gdp_capita_year = fullDF_by_year['gdp_per_capita']\n",
        "gdp_capita_mean = gdp_capita_year.mean()\n",
        "gdp_capita_mean.plot(color='C2', label='GDP per capita')\n",
        "decorate(xlabel='Year', \n",
        "         ylabel='mean of gdp per capita',\n",
        "         title='Mean GDP per capita')"
      ],
      "execution_count": 17,
      "outputs": [
        {
          "output_type": "display_data",
          "data": {
            "image/png": "[encoded data removed]",
            "text/plain": [
              "<Figure size 432x288 with 1 Axes>"
            ]
          },
          "metadata": {
            "tags": []
          }
        }
      ]
    },
    {
      "cell_type": "code",
      "metadata": {
        "colab": {
          "base_uri": "https://localhost:8080/",
          "height": 225
        },
        "id": "_C4IT_mxjzGx",
        "outputId": "dc77838d-7702-41f0-9bfc-e7a8e1fd51f3"
      },
      "source": [
        "#cross tabulation of year and gender with mean suicide rate as values\n",
        "year = fullDF['year']\n",
        "gender = fullDF['sex']\n",
        "suicide_rate = fullDF['suicides_per_100k']\n",
        "\n",
        "yearxgender = pd.crosstab( year, gender, suicide_rate, aggfunc=np.mean)\n",
        "\n",
        "yearxgender.dropna(inplace=True)\n",
        "yearxgender.head()\n"
      ],
      "execution_count": 18,
      "outputs": [
        {
          "output_type": "execute_result",
          "data": {
            "text/html": [
              "<div>\n",
              "<style scoped>\n",
              "    .dataframe tbody tr th:only-of-type {\n",
              "        vertical-align: middle;\n",
              "    }\n",
              "\n",
              "    .dataframe tbody tr th {\n",
              "        vertical-align: top;\n",
              "    }\n",
              "\n",
              "    .dataframe thead th {\n",
              "        text-align: right;\n",
              "    }\n",
              "</style>\n",
              "<table border=\"1\" class=\"dataframe\">\n",
              "  <thead>\n",
              "    <tr style=\"text-align: right;\">\n",
              "      <th>sex</th>\n",
              "      <th>female</th>\n",
              "      <th>male</th>\n",
              "    </tr>\n",
              "    <tr>\n",
              "      <th>year</th>\n",
              "      <th></th>\n",
              "      <th></th>\n",
              "    </tr>\n",
              "  </thead>\n",
              "  <tbody>\n",
              "    <tr>\n",
              "      <th>1985</th>\n",
              "      <td>5.776910</td>\n",
              "      <td>17.875486</td>\n",
              "    </tr>\n",
              "    <tr>\n",
              "      <th>1986</th>\n",
              "      <td>5.812674</td>\n",
              "      <td>17.033993</td>\n",
              "    </tr>\n",
              "    <tr>\n",
              "      <th>1987</th>\n",
              "      <td>5.732130</td>\n",
              "      <td>17.556296</td>\n",
              "    </tr>\n",
              "    <tr>\n",
              "      <th>1988</th>\n",
              "      <td>6.323401</td>\n",
              "      <td>19.095408</td>\n",
              "    </tr>\n",
              "    <tr>\n",
              "      <th>1989</th>\n",
              "      <td>6.176827</td>\n",
              "      <td>19.581314</td>\n",
              "    </tr>\n",
              "  </tbody>\n",
              "</table>\n",
              "</div>"
            ],
            "text/plain": [
              "sex     female       male\n",
              "year                     \n",
              "1985  5.776910  17.875486\n",
              "1986  5.812674  17.033993\n",
              "1987  5.732130  17.556296\n",
              "1988  6.323401  19.095408\n",
              "1989  6.176827  19.581314"
            ]
          },
          "metadata": {
            "tags": []
          },
          "execution_count": 18
        }
      ]
    },
    {
      "cell_type": "code",
      "metadata": {
        "colab": {
          "base_uri": "https://localhost:8080/",
          "height": 85
        },
        "id": "BlcnezIP1btU",
        "outputId": "8d567aca-c3aa-4ac8-a675-87eca21775e8"
      },
      "source": [
        "palette = sns.color_palette('muted', 2)\n",
        "sns.palplot(palette)\n",
        "columns=['female','male']\n",
        "color_map = dict(zip(columns, palette))"
      ],
      "execution_count": 19,
      "outputs": [
        {
          "output_type": "display_data",
          "data": {
            "image/png": "[encoded data removed]",
            "text/plain": [
              "<Figure size 144x72 with 1 Axes>"
            ]
          },
          "metadata": {
            "tags": []
          }
        }
      ]
    },
    {
      "cell_type": "code",
      "metadata": {
        "id": "pipv6Zvo3MVp",
        "colab": {
          "base_uri": "https://localhost:8080/"
        },
        "outputId": "dc0b18dd-3483-4d18-d634-1bd20527c257"
      },
      "source": [
        "from statsmodels.nonparametric.smoothers_lowess import lowess\n",
        "\n",
        "def make_lowess(series):\n",
        "    \"\"\"Use LOWESS to compute a smooth line.\n",
        "    \n",
        "    series: pd.Series\n",
        "    \n",
        "    returns: pd.Series\n",
        "    \"\"\"\n",
        "    y = series.values\n",
        "    x = series.index.values\n",
        "\n",
        "    smooth = lowess(y, x)\n",
        "    index, data = np.transpose(smooth)\n",
        "\n",
        "    return pd.Series(data, index=index) \n",
        "\n",
        "def plot_series_lowess(series, color):\n",
        "    \"\"\"Plots a series of data points and a smooth line.\n",
        "    \n",
        "    series: pd.Series\n",
        "    color: string or tuple\n",
        "    \"\"\"\n",
        "    series.plot(linewidth=0, marker='o', color=color, alpha=0.5)\n",
        "    smooth = make_lowess(series)\n",
        "    smooth.plot(label='_', color=color)\n",
        "\n",
        "def plot_columns_lowess(table, columns, colors):\n",
        "    \"\"\"Plot the columns in a DataFrame.\n",
        "    \n",
        "    table: DataFrame with a cross tabulation\n",
        "    columns: list of column names, in the desired order\n",
        "    colors: mapping from column names to colors\n",
        "    \"\"\"\n",
        "    for col in columns:\n",
        "        series = table[col]\n",
        "        plot_series_lowess(series, colors[col])\n",
        "\n",
        "def anchor_legend(x, y):\n",
        "    \"\"\"Place the upper left corner of the legend box.\n",
        "    \n",
        "    x: x coordinate\n",
        "    y: y coordinate\n",
        "    \"\"\"\n",
        "    plt.legend(bbox_to_anchor=(x, y), loc='upper left', ncol=1)"
      ],
      "execution_count": 20,
      "outputs": [
        {
          "output_type": "stream",
          "text": [
            "/usr/local/lib/python3.6/dist-packages/statsmodels/tools/_testing.py:19: FutureWarning: pandas.util.testing is deprecated. Use the functions in the public API at pandas.testing instead.\n",
            "  import pandas.util.testing as tm\n"
          ],
          "name": "stderr"
        }
      ]
    },
    {
      "cell_type": "code",
      "metadata": {
        "colab": {
          "base_uri": "https://localhost:8080/",
          "height": 297
        },
        "id": "6u4XgqKw6ShV",
        "outputId": "e952895e-c463-4ca2-b12f-bbc67314af48"
      },
      "source": [
        "# Male vs Female suicide rate (per 100k)\n",
        "\n",
        "plot_columns_lowess(yearxgender, columns, color_map)\n",
        "decorate(xlabel='Year',\n",
        "         ylabel='Suicide Rate',\n",
        "         title='Suicide rate by gender',\n",
        "         xlim=[1987, 2015])\n",
        "anchor_legend(1.02, 1.02)"
      ],
      "execution_count": 21,
      "outputs": [
        {
          "output_type": "display_data",
          "data": {
            "image/png": "[encoded data removed]",
            "text/plain": [
              "<Figure size 432x288 with 1 Axes>"
            ]
          },
          "metadata": {
            "tags": []
          }
        }
      ]
    },
    {
      "cell_type": "code",
      "metadata": {
        "colab": {
          "base_uri": "https://localhost:8080/",
          "height": 297
        },
        "id": "Ov-V2BYG8B2y",
        "outputId": "4f893e71-37c7-4035-b76e-faf02b6eecf1"
      },
      "source": [
        "#cross tabulation of year and age with mean suicide rate as values\n",
        "age = fullDF['age']\n",
        "\n",
        "yearxage = pd.crosstab( year, age, suicide_rate, aggfunc=np.mean)\n",
        "\n",
        "yearxage.dropna(inplace=True)\n",
        "palette1 = sns.color_palette('muted', 6)\n",
        "columns1=['15-24 years','25-34 years', '35-54 years', '5-14 years', '55-74 years', '75+ years']\n",
        "color_map2 = dict(zip(columns1, palette1))\n",
        "\n",
        "\n",
        "# Age group suicide rate (per 100k)\n",
        "\n",
        "plot_columns_lowess(yearxage, columns1, color_map2)\n",
        "decorate(xlabel='Year',\n",
        "         ylabel='Suicide Rate',\n",
        "         title='Suicide rate (per 100k) by age group',\n",
        "         xlim=[1987, 2015])\n",
        "anchor_legend(1.02, 1.02)"
      ],
      "execution_count": 22,
      "outputs": [
        {
          "output_type": "display_data",
          "data": {
            "image/png": "[encoded data removed]",
            "text/plain": [
              "<Figure size 432x288 with 1 Axes>"
            ]
          },
          "metadata": {
            "tags": []
          }
        }
      ]
    },
    {
      "cell_type": "code",
      "metadata": {
        "colab": {
          "base_uri": "https://localhost:8080/",
          "height": 297
        },
        "id": "NAXid23p6XHs",
        "outputId": "1f009ee7-deee-45b8-ae51-3445e1d2d678"
      },
      "source": [
        "#cross tabulation of year and age by gender (male) with mean suicide rate as values\n",
        "males = fullDF[fullDF['sex']=='male']\n",
        "\n",
        "age_male = males['age']\n",
        "\n",
        "yearxage_male = pd.crosstab( year, age_male, suicide_rate, aggfunc=np.mean)\n",
        "\n",
        "yearxage_male.dropna(inplace=True)\n",
        "\n",
        "# Male age groups suicide rate (per 100k)\n",
        "\n",
        "plot_columns_lowess(yearxage_male, columns1, color_map2)\n",
        "decorate(xlabel='Year',\n",
        "         ylabel='Suicide Rate',\n",
        "         title='Male suicide rate (per 100k) by age group',\n",
        "         xlim=[1987, 2015])\n",
        "anchor_legend(1.02, 1.02)"
      ],
      "execution_count": 23,
      "outputs": [
        {
          "output_type": "display_data",
          "data": {
            "image/png": "[encoded data removed]",
            "text/plain": [
              "<Figure size 432x288 with 1 Axes>"
            ]
          },
          "metadata": {
            "tags": []
          }
        }
      ]
    },
    {
      "cell_type": "code",
      "metadata": {
        "colab": {
          "base_uri": "https://localhost:8080/",
          "height": 297
        },
        "id": "9A-fY3He6XiI",
        "outputId": "ae6c1a95-5e7c-498f-c566-73ea1b23a54f"
      },
      "source": [
        "#cross tabulation of year and age by gender (female) with mean suicide rate as values\n",
        "females = fullDF[fullDF['sex']=='female']\n",
        "\n",
        "age_female = females['age']\n",
        "\n",
        "yearxage_female = pd.crosstab( year, age_female, suicide_rate, aggfunc=np.mean)\n",
        "\n",
        "yearxage_female.dropna(inplace=True)\n",
        "\n",
        "# Male age groups suicide rate (per 100k)\n",
        "\n",
        "plot_columns_lowess(yearxage_female, columns1, color_map2)\n",
        "decorate(xlabel='Year',\n",
        "         ylabel='Suicide Rate',\n",
        "         title='Female suicide rate (per 100k) by age group',\n",
        "         xlim=[1987, 2015])\n",
        "anchor_legend(1.02, 1.02)"
      ],
      "execution_count": 24,
      "outputs": [
        {
          "output_type": "display_data",
          "data": {
            "image/png": "[encoded data removed]",
            "text/plain": [
              "<Figure size 432x288 with 1 Axes>"
            ]
          },
          "metadata": {
            "tags": []
          }
        }
      ]
    }
  ]
}