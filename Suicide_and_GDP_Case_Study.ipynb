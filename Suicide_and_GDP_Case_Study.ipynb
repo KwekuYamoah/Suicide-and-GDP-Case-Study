{
  "nbformat": 4,
  "nbformat_minor": 0,
  "metadata": {
    "colab": {
      "name": "Suicide and GDP Case Study.ipynb",
      "provenance": [],
      "collapsed_sections": [],
      "authorship_tag": "ABX9TyNq1mHyzvFo3F3hP+t0eied",
      "include_colab_link": true
    },
    "kernelspec": {
      "name": "python3",
      "display_name": "Python 3"
    }
  },
  "cells": [
    {
      "cell_type": "markdown",
      "metadata": {
        "id": "view-in-github",
        "colab_type": "text"
      },
      "source": [
        "<a href=\"https://colab.research.google.com/github/KwekuYamoah/Suicide-and-GDP-Case-Study/blob/main/Suicide_and_GDP_Case_Study.ipynb\" target=\"_parent\"><img src=\"https://colab.research.google.com/assets/colab-badge.svg\" alt=\"Open In Colab\"/></a>"
      ]
    },
    {
      "cell_type": "markdown",
      "metadata": {
        "id": "y30cL-92K_8q"
      },
      "source": [
        "# Suicide and GDP Case Study\n",
        "\n",
        "Kweku Andoh Yamoah\n",
        "\n",
        "[MIT License]((https://en.wikipedia.org/wiki/MIT_License)"
      ]
    },
    {
      "cell_type": "markdown",
      "metadata": {
        "id": "uJwmU-iuLZre"
      },
      "source": [
        "## Introduction\n",
        "This is the first in a series of notebooks that make up a case study in exploratory data analysis. In this notebook, we\n",
        "\n",
        "1.   Read data Kaggle. [Suicide Rates Overview 1985 to 2016](https://www.kaggle.com/russellyates88/suicide-rates-overview-1985-to-2016). The dataset is described as follows:\n",
        "\"*This compiled dataset pulled from four other datasets linked by time and place, and was built to find signals correlated to increased suicide rates among different cohorts globally, across the socio-economic spectrum.*\"\n",
        "2.   Clean the data, particulary dealing with special codes that indicate missing data.\n",
        "1.   Validate the data by comparing the values in the dataset with values documented in the codebook specified on Kaggle.\n",
        "2.   Use describe to compute summary statistics and Pmf or Cdf to plot didtribution\n",
        "1.   Generate \"resampled\" datasets to ensure efficient randomisation in the dataset\n",
        "2.   Store the resampled data in a binary format (HDF5) that makes it easier to work with in the notebooks that follow this one.\n",
        "\n",
        "\n",
        "\n",
        "\n",
        "\n"
      ]
    },
    {
      "cell_type": "markdown",
      "metadata": {
        "id": "vUQv1LWNPSqZ"
      },
      "source": [
        "## The Data\n",
        "\n",
        "### General Informaation\n",
        "\n",
        "*   **Original format**: csv\n",
        "*   **Dataset shape**: 27820 x 12 (rows x columns)\n",
        "*   19456 missing values for HDI\n",
        "\n",
        "### Features in the dataset\n",
        "#### <u>Categorical features</u>\n",
        "**Country**: A total of 101 countries are included in this dataset. Most countries in Asia are not included and considering we have 195 countries in the world today, this is a quite biased data for worldwide analysis.<br>\n",
        "**Year**: The dataset goes from 1985 to 2016<br>\n",
        "**Sex**: Male/female differentiation<br>\n",
        "**Age**: Age is divided in five age intervals.<br>\n",
        "**Generation**: There are six generations included in this dataset. See 3.6 for details.\n",
        "<br>\n",
        "<blockquote>\n",
        "    <p><font color=\"darkblue\">This data's level of detail is defined by the combination of <b>Country+Year+Sex+Age</b>, which is a subsample of the population (e.g. Brazillian males of age between 15 and 25 in 1996). <br>For each of those we have corresponding numerical features.</font></p>\n",
        "</blockquote>\n",
        "\n",
        "#### <u>Numerical Features</u>\n",
        "**Population size**: Number of people contained in each subsample\n",
        "<br>**Number of Suicides**: Number of suicides in each subsample\n",
        "<br>**Suicides per 100k people**: Number of suicides divided by the population size and multiplied by 100.000. This scales the number for better interpretation and allows you to make comparison between different subsamples.\n",
        "<br>**GDP for year**: *Gross Domestic Product*, a measure of the market value for a country-year combination.\n",
        "<br>**GDP per capita**: Obtained by dividing the GDP by the total population of the country for that year.\n",
        "<br>**HDI for year** : *Human Development Index*, an index that measures life expectancy, income and education.\n",
        "<br>"
      ]
    },
    {
      "cell_type": "markdown",
      "metadata": {
        "id": "xZ8lhPLEfpxj"
      },
      "source": [
        "### Setup\n",
        "\n",
        "If you are running this notebook in Colab, the following cell downloads the `empiricaldist` library.\n",
        "\n",
        "If you are running in another environment, you will need to install it yourself."
      ]
    },
    {
      "cell_type": "code",
      "metadata": {
        "id": "Ii9VsOEffyqg",
        "outputId": "4ea9dc22-c920-47bb-eb9e-ca18456ec3c2",
        "colab": {
          "base_uri": "https://localhost:8080/"
        }
      },
      "source": [
        "# If we're running in Colab, set up the environment\n",
        "\n",
        "import sys\n",
        "IN_COLAB = 'google.colab' in sys.modules\n",
        "\n",
        "if IN_COLAB:\n",
        "    !pip install empiricaldist"
      ],
      "execution_count": null,
      "outputs": [
        {
          "output_type": "stream",
          "text": [
            "Collecting empiricaldist\n",
            "  Downloading https://files.pythonhosted.org/packages/c4/88/b6c44c1a5078224850473a8a6b82614d79147232113dd35e29de34b9ac8a/empiricaldist-0.3.9.tar.gz\n",
            "Building wheels for collected packages: empiricaldist\n",
            "  Building wheel for empiricaldist (setup.py) ... \u001b[?25l\u001b[?25hdone\n",
            "  Created wheel for empiricaldist: filename=empiricaldist-0.3.9-cp36-none-any.whl size=10157 sha256=da4038ee6e26f8198fb4242caffadde59cffcf6327deef175513b271f7c1de42\n",
            "  Stored in directory: /root/.cache/pip/wheels/bf/70/8c/55788f5a5806e6da295e5da80d2c0ef286d9a8260a1e3142e1\n",
            "Successfully built empiricaldist\n",
            "Installing collected packages: empiricaldist\n",
            "Successfully installed empiricaldist-0.3.9\n"
          ],
          "name": "stdout"
        }
      ]
    },
    {
      "cell_type": "markdown",
      "metadata": {
        "id": "3JitBIyWS2yN"
      },
      "source": [
        "The following cell loads the packages we need.  If everything works, there should be no error messages. Fingers crossed :)"
      ]
    },
    {
      "cell_type": "code",
      "metadata": {
        "id": "O-i6x6jaK9qY"
      },
      "source": [
        "import pandas as pd\n",
        "import numpy as np\n",
        "import matplotlib.pyplot as plt\n",
        "import seaborn as sns\n",
        "\n",
        "sns.set_style('whitegrid')\n",
        "from empiricaldist import Pmf"
      ],
      "execution_count": null,
      "outputs": []
    },
    {
      "cell_type": "markdown",
      "metadata": {
        "id": "y7TodYDLf67F"
      },
      "source": [
        "The following cell defines a function I use to decorate the axes in plots."
      ]
    },
    {
      "cell_type": "code",
      "metadata": {
        "id": "gkkpAF63f76U"
      },
      "source": [
        "def decorate(**options):\n",
        "    \"\"\"Decorate the current axes.\n",
        "    Call decorate with keyword arguments like\n",
        "    decorate(title='Title',\n",
        "             xlabel='x',\n",
        "             ylabel='y')\n",
        "    The keyword arguments can be any of the axis properties\n",
        "    https://matplotlib.org/api/axes_api.html\n",
        "    \"\"\"\n",
        "    plt.gca().set(**options)\n",
        "    plt.tight_layout()"
      ],
      "execution_count": null,
      "outputs": []
    },
    {
      "cell_type": "markdown",
      "metadata": {
        "id": "m79moa8qUAO_"
      },
      "source": [
        "## Reading the Data\n",
        "The data we'll use is from Kaggle. I'll keep the original dataset as it is and create a new one to process the data throughout this analysis."
      ]
    },
    {
      "cell_type": "code",
      "metadata": {
        "id": "pYfmOYhlWyvn"
      },
      "source": [
        " #Load the data file\n",
        "\n",
        "import os\n",
        "\n",
        "if not os.path.exists('master.csv'):\n",
        "    !wget https://raw.githubusercontent.com/KwekuYamoah/Suicide-and-GDP-Case-Study/main/master.csv\n"
      ],
      "execution_count": null,
      "outputs": []
    },
    {
      "cell_type": "markdown",
      "metadata": {
        "id": "P3c9S0Y4ga1L"
      },
      "source": [
        "Now we can now read the file using Panadas. Pandas will read our information and store the results in a dataframe. We will view a few elements in the dataset to get a sense of the data"
      ]
    },
    {
      "cell_type": "code",
      "metadata": {
        "id": "comLTvFjgvch",
        "outputId": "aefb127d-4e61-4cb5-bcf8-3c1b815fd482",
        "colab": {
          "base_uri": "https://localhost:8080/",
          "height": 400
        }
      },
      "source": [
        "original_dataset = pd.read_csv(\"master.csv\")\n",
        "original_dataset.head()"
      ],
      "execution_count": null,
      "outputs": [
        {
          "output_type": "execute_result",
          "data": {
            "text/html": [
              "<div>\n",
              "<style scoped>\n",
              "    .dataframe tbody tr th:only-of-type {\n",
              "        vertical-align: middle;\n",
              "    }\n",
              "\n",
              "    .dataframe tbody tr th {\n",
              "        vertical-align: top;\n",
              "    }\n",
              "\n",
              "    .dataframe thead th {\n",
              "        text-align: right;\n",
              "    }\n",
              "</style>\n",
              "<table border=\"1\" class=\"dataframe\">\n",
              "  <thead>\n",
              "    <tr style=\"text-align: right;\">\n",
              "      <th></th>\n",
              "      <th>country</th>\n",
              "      <th>year</th>\n",
              "      <th>sex</th>\n",
              "      <th>age</th>\n",
              "      <th>suicides_no</th>\n",
              "      <th>population</th>\n",
              "      <th>suicides/100k pop</th>\n",
              "      <th>country-year</th>\n",
              "      <th>HDI for year</th>\n",
              "      <th>gdp_for_year ($)</th>\n",
              "      <th>gdp_per_capita ($)</th>\n",
              "      <th>generation</th>\n",
              "    </tr>\n",
              "  </thead>\n",
              "  <tbody>\n",
              "    <tr>\n",
              "      <th>0</th>\n",
              "      <td>Albania</td>\n",
              "      <td>1987</td>\n",
              "      <td>male</td>\n",
              "      <td>15-24 years</td>\n",
              "      <td>21</td>\n",
              "      <td>312900</td>\n",
              "      <td>6.71</td>\n",
              "      <td>Albania1987</td>\n",
              "      <td>NaN</td>\n",
              "      <td>2,156,624,900</td>\n",
              "      <td>796</td>\n",
              "      <td>Generation X</td>\n",
              "    </tr>\n",
              "    <tr>\n",
              "      <th>1</th>\n",
              "      <td>Albania</td>\n",
              "      <td>1987</td>\n",
              "      <td>male</td>\n",
              "      <td>35-54 years</td>\n",
              "      <td>16</td>\n",
              "      <td>308000</td>\n",
              "      <td>5.19</td>\n",
              "      <td>Albania1987</td>\n",
              "      <td>NaN</td>\n",
              "      <td>2,156,624,900</td>\n",
              "      <td>796</td>\n",
              "      <td>Silent</td>\n",
              "    </tr>\n",
              "    <tr>\n",
              "      <th>2</th>\n",
              "      <td>Albania</td>\n",
              "      <td>1987</td>\n",
              "      <td>female</td>\n",
              "      <td>15-24 years</td>\n",
              "      <td>14</td>\n",
              "      <td>289700</td>\n",
              "      <td>4.83</td>\n",
              "      <td>Albania1987</td>\n",
              "      <td>NaN</td>\n",
              "      <td>2,156,624,900</td>\n",
              "      <td>796</td>\n",
              "      <td>Generation X</td>\n",
              "    </tr>\n",
              "    <tr>\n",
              "      <th>3</th>\n",
              "      <td>Albania</td>\n",
              "      <td>1987</td>\n",
              "      <td>male</td>\n",
              "      <td>75+ years</td>\n",
              "      <td>1</td>\n",
              "      <td>21800</td>\n",
              "      <td>4.59</td>\n",
              "      <td>Albania1987</td>\n",
              "      <td>NaN</td>\n",
              "      <td>2,156,624,900</td>\n",
              "      <td>796</td>\n",
              "      <td>G.I. Generation</td>\n",
              "    </tr>\n",
              "    <tr>\n",
              "      <th>4</th>\n",
              "      <td>Albania</td>\n",
              "      <td>1987</td>\n",
              "      <td>male</td>\n",
              "      <td>25-34 years</td>\n",
              "      <td>9</td>\n",
              "      <td>274300</td>\n",
              "      <td>3.28</td>\n",
              "      <td>Albania1987</td>\n",
              "      <td>NaN</td>\n",
              "      <td>2,156,624,900</td>\n",
              "      <td>796</td>\n",
              "      <td>Boomers</td>\n",
              "    </tr>\n",
              "  </tbody>\n",
              "</table>\n",
              "</div>"
            ],
            "text/plain": [
              "   country  year  ... gdp_per_capita ($)       generation\n",
              "0  Albania  1987  ...                796     Generation X\n",
              "1  Albania  1987  ...                796           Silent\n",
              "2  Albania  1987  ...                796     Generation X\n",
              "3  Albania  1987  ...                796  G.I. Generation\n",
              "4  Albania  1987  ...                796          Boomers\n",
              "\n",
              "[5 rows x 12 columns]"
            ]
          },
          "metadata": {
            "tags": []
          },
          "execution_count": 27
        }
      ]
    },
    {
      "cell_type": "markdown",
      "metadata": {
        "id": "N7Sc9MIfimvZ"
      },
      "source": [
        "Our data cam in a pretty clear format. Missing values are already recoded with NaN. The next step is to create a copy of the dataset and use it throughout our analysis. We want to maintain the structure of the original dataset. Also, we will rename a few columns to make interpretation and coding easier. Finally we drop some columns which we won't use in our analysis as well."
      ]
    },
    {
      "cell_type": "code",
      "metadata": {
        "id": "D4xewUItjclw"
      },
      "source": [
        "#Creating a dataset copy\n",
        "df = original_dataset.copy()\n",
        "\n",
        "#Renaming a few columns to make interpretation and coding easier\n",
        "df.rename(columns = {\n",
        "    'suicides_no':'total_suicides',\n",
        "    'suicides/100k pop':'suicides_per_100k',\n",
        "    ' gdp_for_year ($) ':'gdp_for_year',\n",
        "    'gdp_per_capita ($)':'gdp_per_capita',\n",
        "    'HDI for year': 'HDI_for_year'\n",
        "}, inplace=True)\n",
        "\n",
        "#Dropping country-year\n",
        "df = df.drop('country-year', axis=1)\n",
        "\n",
        "#Values for gdp per year are strings. Fixing to a float\n",
        "df.gdp_for_year = df.gdp_for_year.apply(lambda x: float(''.join(x.split(','))))"
      ],
      "execution_count": null,
      "outputs": []
    },
    {
      "cell_type": "markdown",
      "metadata": {
        "id": "8W8QAR42kiF3"
      },
      "source": [
        "Now let's see how our data set is looking"
      ]
    },
    {
      "cell_type": "code",
      "metadata": {
        "id": "Qu6g7MGFkqCa",
        "outputId": "41020668-54cd-4a40-9175-be130266a077",
        "colab": {
          "base_uri": "https://localhost:8080/",
          "height": 366
        }
      },
      "source": [
        "df.head()"
      ],
      "execution_count": null,
      "outputs": [
        {
          "output_type": "execute_result",
          "data": {
            "text/html": [
              "<div>\n",
              "<style scoped>\n",
              "    .dataframe tbody tr th:only-of-type {\n",
              "        vertical-align: middle;\n",
              "    }\n",
              "\n",
              "    .dataframe tbody tr th {\n",
              "        vertical-align: top;\n",
              "    }\n",
              "\n",
              "    .dataframe thead th {\n",
              "        text-align: right;\n",
              "    }\n",
              "</style>\n",
              "<table border=\"1\" class=\"dataframe\">\n",
              "  <thead>\n",
              "    <tr style=\"text-align: right;\">\n",
              "      <th></th>\n",
              "      <th>country</th>\n",
              "      <th>year</th>\n",
              "      <th>sex</th>\n",
              "      <th>age</th>\n",
              "      <th>total_suicides</th>\n",
              "      <th>population</th>\n",
              "      <th>suicides_per_100k</th>\n",
              "      <th>HDI_for_year</th>\n",
              "      <th>gdp_for_year</th>\n",
              "      <th>gdp_per_capita</th>\n",
              "      <th>generation</th>\n",
              "    </tr>\n",
              "  </thead>\n",
              "  <tbody>\n",
              "    <tr>\n",
              "      <th>0</th>\n",
              "      <td>Albania</td>\n",
              "      <td>1987</td>\n",
              "      <td>male</td>\n",
              "      <td>15-24 years</td>\n",
              "      <td>21</td>\n",
              "      <td>312900</td>\n",
              "      <td>6.71</td>\n",
              "      <td>NaN</td>\n",
              "      <td>2.156625e+09</td>\n",
              "      <td>796</td>\n",
              "      <td>Generation X</td>\n",
              "    </tr>\n",
              "    <tr>\n",
              "      <th>1</th>\n",
              "      <td>Albania</td>\n",
              "      <td>1987</td>\n",
              "      <td>male</td>\n",
              "      <td>35-54 years</td>\n",
              "      <td>16</td>\n",
              "      <td>308000</td>\n",
              "      <td>5.19</td>\n",
              "      <td>NaN</td>\n",
              "      <td>2.156625e+09</td>\n",
              "      <td>796</td>\n",
              "      <td>Silent</td>\n",
              "    </tr>\n",
              "    <tr>\n",
              "      <th>2</th>\n",
              "      <td>Albania</td>\n",
              "      <td>1987</td>\n",
              "      <td>female</td>\n",
              "      <td>15-24 years</td>\n",
              "      <td>14</td>\n",
              "      <td>289700</td>\n",
              "      <td>4.83</td>\n",
              "      <td>NaN</td>\n",
              "      <td>2.156625e+09</td>\n",
              "      <td>796</td>\n",
              "      <td>Generation X</td>\n",
              "    </tr>\n",
              "    <tr>\n",
              "      <th>3</th>\n",
              "      <td>Albania</td>\n",
              "      <td>1987</td>\n",
              "      <td>male</td>\n",
              "      <td>75+ years</td>\n",
              "      <td>1</td>\n",
              "      <td>21800</td>\n",
              "      <td>4.59</td>\n",
              "      <td>NaN</td>\n",
              "      <td>2.156625e+09</td>\n",
              "      <td>796</td>\n",
              "      <td>G.I. Generation</td>\n",
              "    </tr>\n",
              "    <tr>\n",
              "      <th>4</th>\n",
              "      <td>Albania</td>\n",
              "      <td>1987</td>\n",
              "      <td>male</td>\n",
              "      <td>25-34 years</td>\n",
              "      <td>9</td>\n",
              "      <td>274300</td>\n",
              "      <td>3.28</td>\n",
              "      <td>NaN</td>\n",
              "      <td>2.156625e+09</td>\n",
              "      <td>796</td>\n",
              "      <td>Boomers</td>\n",
              "    </tr>\n",
              "  </tbody>\n",
              "</table>\n",
              "</div>"
            ],
            "text/plain": [
              "   country  year     sex  ...  gdp_for_year  gdp_per_capita       generation\n",
              "0  Albania  1987    male  ...  2.156625e+09             796     Generation X\n",
              "1  Albania  1987    male  ...  2.156625e+09             796           Silent\n",
              "2  Albania  1987  female  ...  2.156625e+09             796     Generation X\n",
              "3  Albania  1987    male  ...  2.156625e+09             796  G.I. Generation\n",
              "4  Albania  1987    male  ...  2.156625e+09             796          Boomers\n",
              "\n",
              "[5 rows x 11 columns]"
            ]
          },
          "metadata": {
            "tags": []
          },
          "execution_count": 29
        }
      ]
    }
  ]
}